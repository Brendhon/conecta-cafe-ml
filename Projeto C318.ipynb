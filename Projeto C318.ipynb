{
 "cells": [
  {
   "cell_type": "markdown",
   "metadata": {},
   "source": [
    "<h2  style=\"text-align: center\"> ML - Conecta café </h2><br>\n",
    "<div style=\"text-align: justify\"> Modelo de <i> machine learning </i> criado para a plataforma <b> Conecta Café </b> com o objetivo de reunir compradores de cafés especiais com cafeicultores que possuam <i>fit</i>.</div>"
   ]
  },
  {
   "cell_type": "markdown",
   "metadata": {},
   "source": [
    "<h3> Contexto </h3><br>\n",
    "<div style=\"text-align: justify\"> \n",
    "    Com o avanço da tecnologia, a conexão entre produtores e consumidores de produtos e serviços de qualquer natureza está se tornando cada vez maior, uma vez que ela permite expandir e democratizar o acesso a deles.\n",
    "    <br>\n",
    "    Pensando nisso, foi criado uma plataforma Web que tem como propósito de conectar facilmente cafeicultores e consumidores de cafés especiais. Nessa aplicação, o produtor pode cadastrar os dados do café produzido permitindo assim, que compradores possam realizar a pesquisa e encontrar o café de sua escolha.\n",
    "</div>"
   ]
  },
  {
   "cell_type": "markdown",
   "metadata": {},
   "source": [
    "<h3> Problemática </h3><br>\n",
    "<div style=\"text-align: justify\"> \n",
    "    Ao acessar o site o consumidor pode buscar pelo café inserindo alguns dados em um filtro. Porém, pense que o comprador não sabe o que procura, é apenas alguém que não possui conhecimento sobre cafés especiais, mas gostaria de experimentar algo novo. Não seria interressante a plataforma entender o comportamento desse cliente e realizar recomendações baseadas em alguns dados? </div>"
   ]
  },
  {
   "cell_type": "markdown",
   "metadata": {},
   "source": [
    "<h3> Proposta </h3><br>\n",
    "<div style=\"text-align: justify\"> \n",
    "A proposta é aproximar compradores com cafeicultores que possuem características semelhantes. Como por exemplo, baseado na condição financeira, onde consumidores de grandes quantidades de café sejam agrupados com produtores que produzam o suficiente para atendê-los. Isso é pensado para reduzir o <i> overflow </i> de dados atual da plataforma e melhorar o sistema de busca da aplicação.</div>"
   ]
  },
  {
   "cell_type": "markdown",
   "metadata": {},
   "source": [
    "---\n",
    "<h2  style=\"text-align: center\"> Projeto </h2>"
   ]
  },
  {
   "cell_type": "markdown",
   "metadata": {},
   "source": [
    "<h3> Informações </h3>\n",
    "\n",
    "Por ser uma plataforma ainda não colocada em produção, os dados ainda não foram coletados e por conta disso será criado um dataset que simula os dados reais.\n",
    "\n",
    "Para simular os dados, algumas regras de negócios foram utilizadas para dar mais coerencia para os dataset, são elas:\n",
    "- Regras para o Produtor: \n",
    "    - Produtores que produzem café especial não podem ter nota abaixo de 80;\n",
    "    - Pela dificuldade de produzir café especial normalmente produtores que produzem esse tipo de café, produzem em uma quantidade menor de quem não produz;\n",
    "    - Avaliar o range da pontuação do café com base na região.\n",
    "\n",
    "- Regras para o Consumidor:\n",
    "    - Possivelmente quem tem interesse em café especial, está disposto a gastar mais.\n",
    "    - O tipo de consumidor (pessoa física ou jurídica) interfere na quantidade preterida, pois uma pessoa jurídica normalmente é um estabelecimento, ou seja, busca uma maior quantidade de cafés para compra."
   ]
  },
  {
   "cell_type": "markdown",
   "metadata": {},
   "source": [
    "<h3> Repositórios </h3>\n",
    "\n",
    "- **[🤖 API da plataforma](https://github.com/Brendhon/conecta-cafe-api)**\n",
    "- **[📟 Aplicação Web](https://github.com/GabrielGSD/Conecta_Cafe_React)**\n",
    "- **[🎰 Projeto ML](https://github.com/Brendhon/conecta-cafe-ml)**"
   ]
  },
  {
   "cell_type": "markdown",
   "metadata": {},
   "source": [
    "<h3> Autores </h3><br>\n",
    "\n",
    "<div style=\"display: flex;\"> \n",
    "\n",
    "<a href=\"https://github.com/Brendhon\" style=\"text-align: center\">\n",
    "    <img style=\"float:left; border-radius: 15px; display: inline; margin: 10px;\" src=\"https://github.com/brendhon.png\" width=\"120px;\" alt=\"autor\"/>\n",
    "    <br><br><br><br><br><br>\n",
    "    <strong > Brendhon Moreira </strong>\n",
    "</a>\n",
    "<br><br>\n",
    "<a href=\"https://github.com/GabrielGSD\" style=\"text-align: center\">\n",
    "    <img style=\"float:left; border-radius: 15px; display: inline;  margin: 10px;\" src=\"https://github.com/GabrielGSD.png\" width=\"120px;\" alt=\"autor\"/>\n",
    "    <br><br><br><br><br><br>\n",
    "    <strong > Gabriel Daniel </strong>\n",
    "</a>\n",
    "<br><br>\n",
    "<a href=\"https://github.com/MoisesSDelmoro\" style=\"text-align: center\">\n",
    "    <img style=\"float:left; border-radius: 15px; display: inline;  margin: 10px;\" src=\"https://github.com/MoisesSDelmoro.png\" width=\"120px;\" alt=\"autor\"/>\n",
    "    <br><br><br><br><br><br>\n",
    "    <strong >Moises Delmoro</strong>\n",
    "</a></div>"
   ]
  },
  {
   "cell_type": "markdown",
   "metadata": {},
   "source": [
    "---\n",
    "<h2  style=\"text-align: center\"> Desenvolvimento </h2><br>"
   ]
  },
  {
   "cell_type": "code",
   "execution_count": 75,
   "metadata": {
    "scrolled": true
   },
   "outputs": [
    {
     "name": "stdout",
     "output_type": "stream",
     "text": [
      "Requirement already satisfied: pandas in c:\\python39\\lib\\site-packages (1.2.1)\n",
      "Requirement already satisfied: numpy>=1.16.5 in c:\\python39\\lib\\site-packages (from pandas) (1.19.5)\n",
      "Requirement already satisfied: pytz>=2017.3 in c:\\python39\\lib\\site-packages (from pandas) (2020.5)\n",
      "Requirement already satisfied: python-dateutil>=2.7.3 in c:\\python39\\lib\\site-packages (from pandas) (2.8.1)\n",
      "Requirement already satisfied: six>=1.5 in c:\\python39\\lib\\site-packages (from python-dateutil>=2.7.3->pandas) (1.15.0)\n",
      "Requirement already satisfied: numpy in c:\\python39\\lib\\site-packages (1.19.5)\n",
      "Requirement already satisfied: requests in c:\\python39\\lib\\site-packages (2.13.0)\n",
      "Requirement already satisfied: scikit-learn in c:\\python39\\lib\\site-packages (0.24.2)\n",
      "Requirement already satisfied: threadpoolctl>=2.0.0 in c:\\python39\\lib\\site-packages (from scikit-learn) (2.2.0)\n",
      "Requirement already satisfied: joblib>=0.11 in c:\\python39\\lib\\site-packages (from scikit-learn) (1.0.1)\n",
      "Requirement already satisfied: scipy>=0.19.1 in c:\\python39\\lib\\site-packages (from scikit-learn) (1.7.1)\n",
      "Requirement already satisfied: numpy>=1.13.3 in c:\\python39\\lib\\site-packages (from scikit-learn) (1.19.5)\n",
      "Requirement already satisfied: scipy in c:\\python39\\lib\\site-packages (1.7.1)\n",
      "Requirement already satisfied: numpy<1.23.0,>=1.16.5 in c:\\python39\\lib\\site-packages (from scipy) (1.19.5)\n",
      "Requirement already satisfied: seaborn in c:\\python39\\lib\\site-packages (0.11.2)\n",
      "Requirement already satisfied: scipy>=1.0 in c:\\python39\\lib\\site-packages (from seaborn) (1.7.1)\n",
      "Requirement already satisfied: pandas>=0.23 in c:\\python39\\lib\\site-packages (from seaborn) (1.2.1)\n",
      "Requirement already satisfied: matplotlib>=2.2 in c:\\python39\\lib\\site-packages (from seaborn) (3.4.3)\n",
      "Requirement already satisfied: numpy>=1.15 in c:\\python39\\lib\\site-packages (from seaborn) (1.19.5)\n",
      "Requirement already satisfied: python-dateutil>=2.7 in c:\\python39\\lib\\site-packages (from matplotlib>=2.2->seaborn) (2.8.1)\n",
      "Requirement already satisfied: pyparsing>=2.2.1 in c:\\python39\\lib\\site-packages (from matplotlib>=2.2->seaborn) (2.4.7)\n",
      "Requirement already satisfied: cycler>=0.10 in c:\\python39\\lib\\site-packages (from matplotlib>=2.2->seaborn) (0.10.0)\n",
      "Requirement already satisfied: kiwisolver>=1.0.1 in c:\\python39\\lib\\site-packages (from matplotlib>=2.2->seaborn) (1.3.2)\n",
      "Requirement already satisfied: pillow>=6.2.0 in c:\\python39\\lib\\site-packages (from matplotlib>=2.2->seaborn) (8.3.2)\n",
      "Requirement already satisfied: six in c:\\python39\\lib\\site-packages (from cycler>=0.10->matplotlib>=2.2->seaborn) (1.15.0)\n",
      "Requirement already satisfied: pytz>=2017.3 in c:\\python39\\lib\\site-packages (from pandas>=0.23->seaborn) (2020.5)\n"
     ]
    }
   ],
   "source": [
    "# Instalando os pacotes necessários\n",
    "import sys\n",
    "!{sys.executable} -m pip install pandas \n",
    "!{sys.executable} -m pip install numpy \n",
    "!{sys.executable} -m pip install requests\n",
    "!{sys.executable} -m pip install scikit-learn\n",
    "!{sys.executable} -m pip install scipy \n",
    "!{sys.executable} -m pip install seaborn"
   ]
  },
  {
   "cell_type": "code",
   "execution_count": 76,
   "metadata": {},
   "outputs": [],
   "source": [
    "# Importar as biblotecas\n",
    "import pandas as pd\n",
    "import numpy as np\n",
    "import seaborn as sns\n",
    "import matplotlib.pyplot as plt\n",
    "import scipy.stats\n",
    "from sklearn import datasets\n",
    "from sklearn.cluster import KMeans\n",
    "from sklearn.decomposition import PCA\n",
    "from sklearn.preprocessing import StandardScaler\n",
    "\n",
    "\n",
    "# Permitir que as funções do arquivo de funções auxiliares sejam utilizadas\n",
    "%run auxiliary_functions.ipynb   "
   ]
  },
  {
   "cell_type": "markdown",
   "metadata": {},
   "source": [
    "<h3> Declarando Variaveis </h3>"
   ]
  },
  {
   "cell_type": "code",
   "execution_count": 3,
   "metadata": {},
   "outputs": [],
   "source": [
    "# Variaveis gerais\n",
    "dataset_size = 1000\n",
    "dataset_seed = 42\n",
    "\n",
    "# Variaveis do consumidor\n",
    "consumer_cols = \"ifcccc\"\n",
    "consumer_col_names = [\"id\", \"financial_condition\", \"residence\", \"search_special_coffee\", 'desired_quantity', 'person_type']\n",
    "consumer_intervals = [(1,100000000), (10.0,500.0), [1,2,3,4,5,6], [True, False], [0.5, 1, 60], [1,2]]\n",
    "\n",
    "# Variaveis do produtor\n",
    "producer_cols = \"iccci\"\n",
    "producer_col_names = [\"id\", \"quantity_produced\", \"residence\", \"produces_special_coffee\", \"coffee_score\"]\n",
    "producer_intervals = [(1,100000000), [0.5, 1, 60], [1,2,3,4,5,6], [True, False],  (0,100)]"
   ]
  },
  {
   "cell_type": "markdown",
   "metadata": {},
   "source": [
    "---"
   ]
  },
  {
   "cell_type": "markdown",
   "metadata": {},
   "source": [
    "<h3> Gerando tabelas auxiliares  </h3>\n",
    "<br>\n",
    "<i> Observação: Para poder utilizar os dados no modelo é necessario indexar certos atributos para que o modelo seja capaz de entender os dados, para isso foi feito a criação dessas tabelas </i><br>"
   ]
  },
  {
   "cell_type": "code",
   "execution_count": 4,
   "metadata": {
    "scrolled": false
   },
   "outputs": [
    {
     "data": {
      "text/html": [
       "<div>\n",
       "<style scoped>\n",
       "    .dataframe tbody tr th:only-of-type {\n",
       "        vertical-align: middle;\n",
       "    }\n",
       "\n",
       "    .dataframe tbody tr th {\n",
       "        vertical-align: top;\n",
       "    }\n",
       "\n",
       "    .dataframe thead th {\n",
       "        text-align: right;\n",
       "    }\n",
       "</style>\n",
       "<table border=\"1\" class=\"dataframe\">\n",
       "  <thead>\n",
       "    <tr style=\"text-align: right;\">\n",
       "      <th></th>\n",
       "      <th>residence_id</th>\n",
       "      <th>residence_name</th>\n",
       "    </tr>\n",
       "  </thead>\n",
       "  <tbody>\n",
       "    <tr>\n",
       "      <th>0</th>\n",
       "      <td>1</td>\n",
       "      <td>Bahia</td>\n",
       "    </tr>\n",
       "    <tr>\n",
       "      <th>1</th>\n",
       "      <td>2</td>\n",
       "      <td>Minas Gerais</td>\n",
       "    </tr>\n",
       "    <tr>\n",
       "      <th>2</th>\n",
       "      <td>3</td>\n",
       "      <td>Espírito Santo</td>\n",
       "    </tr>\n",
       "    <tr>\n",
       "      <th>3</th>\n",
       "      <td>4</td>\n",
       "      <td>Rio de Janeiro</td>\n",
       "    </tr>\n",
       "    <tr>\n",
       "      <th>4</th>\n",
       "      <td>5</td>\n",
       "      <td>São Paulo</td>\n",
       "    </tr>\n",
       "    <tr>\n",
       "      <th>5</th>\n",
       "      <td>6</td>\n",
       "      <td>Paraná</td>\n",
       "    </tr>\n",
       "  </tbody>\n",
       "</table>\n",
       "</div>"
      ],
      "text/plain": [
       "  residence_id  residence_name\n",
       "0            1           Bahia\n",
       "1            2    Minas Gerais\n",
       "2            3  Espírito Santo\n",
       "3            4  Rio de Janeiro\n",
       "4            5       São Paulo\n",
       "5            6          Paraná"
      ]
     },
     "execution_count": 4,
     "metadata": {},
     "output_type": "execute_result"
    }
   ],
   "source": [
    "# Tabela de residencias b\n",
    "states = [\"Bahia\", \"Minas Gerais\", \"Espírito Santo\", \"Rio de Janeiro\", \"São Paulo\", \"Paraná\"]\n",
    "states_id=[1,2,3,4,5,6]\n",
    "residence_df = pd.DataFrame(data=np.array([states_id, states]), index=[\"residence_id\", \"residence_name\"]).T\n",
    "residence_df\n",
    "\n",
    "# Durante algumas pesquisas foi encontrado os principais produtores de café no pais e com esses dados essa tabela foi criada\n",
    "# Reference: https://www.mokaclube.com.br/blog/regioes-cafeeiras-do-brasil/"
   ]
  },
  {
   "cell_type": "code",
   "execution_count": 5,
   "metadata": {},
   "outputs": [
    {
     "data": {
      "text/html": [
       "<div>\n",
       "<style scoped>\n",
       "    .dataframe tbody tr th:only-of-type {\n",
       "        vertical-align: middle;\n",
       "    }\n",
       "\n",
       "    .dataframe tbody tr th {\n",
       "        vertical-align: top;\n",
       "    }\n",
       "\n",
       "    .dataframe thead th {\n",
       "        text-align: right;\n",
       "    }\n",
       "</style>\n",
       "<table border=\"1\" class=\"dataframe\">\n",
       "  <thead>\n",
       "    <tr style=\"text-align: right;\">\n",
       "      <th></th>\n",
       "      <th>consumer_type_id</th>\n",
       "      <th>consumer_type</th>\n",
       "    </tr>\n",
       "  </thead>\n",
       "  <tbody>\n",
       "    <tr>\n",
       "      <th>0</th>\n",
       "      <td>1</td>\n",
       "      <td>Pessoa Física</td>\n",
       "    </tr>\n",
       "    <tr>\n",
       "      <th>1</th>\n",
       "      <td>2</td>\n",
       "      <td>Pessoa Jurídica</td>\n",
       "    </tr>\n",
       "  </tbody>\n",
       "</table>\n",
       "</div>"
      ],
      "text/plain": [
       "  consumer_type_id    consumer_type\n",
       "0                1    Pessoa Física\n",
       "1                2  Pessoa Jurídica"
      ]
     },
     "execution_count": 5,
     "metadata": {},
     "output_type": "execute_result"
    }
   ],
   "source": [
    "# Tabela de Tipo de pessoa (Física ou Jurídica)\n",
    "consumer_type = [\"Pessoa Física\", \"Pessoa Jurídica\"]\n",
    "consumer_type_id = [1,2]\n",
    "consumer_type_df = pd.DataFrame(data=np.array([consumer_type_id, consumer_type]), index=[\"consumer_type_id\", \"consumer_type\"]).T\n",
    "consumer_type_df"
   ]
  },
  {
   "cell_type": "markdown",
   "metadata": {},
   "source": [
    "---"
   ]
  },
  {
   "cell_type": "markdown",
   "metadata": {},
   "source": [
    "<h3> Gerando os dados do consumidor </h3>"
   ]
  },
  {
   "cell_type": "markdown",
   "metadata": {},
   "source": [
    "Pensando na coluna de quantidade preterida foi levado em conta se o consumidor é uma pessoa jurídica ou física. Isso é importante, pois uma pessoa jurídica normalmente é um estabelecimento, ou seja, busca uma maior quantidade de cafés para compra."
   ]
  },
  {
   "cell_type": "code",
   "execution_count": 6,
   "metadata": {
    "scrolled": false
   },
   "outputs": [
    {
     "data": {
      "text/html": [
       "<div>\n",
       "<style scoped>\n",
       "    .dataframe tbody tr th:only-of-type {\n",
       "        vertical-align: middle;\n",
       "    }\n",
       "\n",
       "    .dataframe tbody tr th {\n",
       "        vertical-align: top;\n",
       "    }\n",
       "\n",
       "    .dataframe thead th {\n",
       "        text-align: right;\n",
       "    }\n",
       "</style>\n",
       "<table border=\"1\" class=\"dataframe\">\n",
       "  <thead>\n",
       "    <tr style=\"text-align: right;\">\n",
       "      <th></th>\n",
       "      <th>person_type</th>\n",
       "      <th>desired_quantity</th>\n",
       "    </tr>\n",
       "  </thead>\n",
       "  <tbody>\n",
       "    <tr>\n",
       "      <th>0</th>\n",
       "      <td>2</td>\n",
       "      <td>60.0</td>\n",
       "    </tr>\n",
       "    <tr>\n",
       "      <th>1</th>\n",
       "      <td>1</td>\n",
       "      <td>0.5</td>\n",
       "    </tr>\n",
       "    <tr>\n",
       "      <th>2</th>\n",
       "      <td>2</td>\n",
       "      <td>60.0</td>\n",
       "    </tr>\n",
       "    <tr>\n",
       "      <th>3</th>\n",
       "      <td>1</td>\n",
       "      <td>0.5</td>\n",
       "    </tr>\n",
       "    <tr>\n",
       "      <th>4</th>\n",
       "      <td>2</td>\n",
       "      <td>60.0</td>\n",
       "    </tr>\n",
       "    <tr>\n",
       "      <th>5</th>\n",
       "      <td>2</td>\n",
       "      <td>60.0</td>\n",
       "    </tr>\n",
       "    <tr>\n",
       "      <th>6</th>\n",
       "      <td>1</td>\n",
       "      <td>1.0</td>\n",
       "    </tr>\n",
       "    <tr>\n",
       "      <th>7</th>\n",
       "      <td>1</td>\n",
       "      <td>1.0</td>\n",
       "    </tr>\n",
       "    <tr>\n",
       "      <th>8</th>\n",
       "      <td>1</td>\n",
       "      <td>1.0</td>\n",
       "    </tr>\n",
       "    <tr>\n",
       "      <th>9</th>\n",
       "      <td>2</td>\n",
       "      <td>60.0</td>\n",
       "    </tr>\n",
       "  </tbody>\n",
       "</table>\n",
       "</div>"
      ],
      "text/plain": [
       "   person_type  desired_quantity\n",
       "0            2              60.0\n",
       "1            1               0.5\n",
       "2            2              60.0\n",
       "3            1               0.5\n",
       "4            2              60.0\n",
       "5            2              60.0\n",
       "6            1               1.0\n",
       "7            1               1.0\n",
       "8            1               1.0\n",
       "9            2              60.0"
      ]
     },
     "execution_count": 6,
     "metadata": {},
     "output_type": "execute_result"
    }
   ],
   "source": [
    "columns = [\"person_type\", \"desired_quantity\"]\n",
    "data = generate_person_type_and_desired_quantity(dataset_size)\n",
    "desired_quantity_df = pd.DataFrame(data=data, columns = columns)\n",
    "desired_quantity_df.head(10)"
   ]
  },
  {
   "cell_type": "markdown",
   "metadata": {},
   "source": [
    "<br> Possivelmente quem tem interesse em café especial, está disposto a gastar mais"
   ]
  },
  {
   "cell_type": "code",
   "execution_count": 7,
   "metadata": {
    "scrolled": false
   },
   "outputs": [
    {
     "data": {
      "text/html": [
       "<div>\n",
       "<style scoped>\n",
       "    .dataframe tbody tr th:only-of-type {\n",
       "        vertical-align: middle;\n",
       "    }\n",
       "\n",
       "    .dataframe tbody tr th {\n",
       "        vertical-align: top;\n",
       "    }\n",
       "\n",
       "    .dataframe thead th {\n",
       "        text-align: right;\n",
       "    }\n",
       "</style>\n",
       "<table border=\"1\" class=\"dataframe\">\n",
       "  <thead>\n",
       "    <tr style=\"text-align: right;\">\n",
       "      <th></th>\n",
       "      <th>search_special_coffee</th>\n",
       "      <th>financial_condition</th>\n",
       "    </tr>\n",
       "  </thead>\n",
       "  <tbody>\n",
       "    <tr>\n",
       "      <th>0</th>\n",
       "      <td>False</td>\n",
       "      <td>79</td>\n",
       "    </tr>\n",
       "    <tr>\n",
       "      <th>1</th>\n",
       "      <td>False</td>\n",
       "      <td>94</td>\n",
       "    </tr>\n",
       "    <tr>\n",
       "      <th>2</th>\n",
       "      <td>True</td>\n",
       "      <td>325</td>\n",
       "    </tr>\n",
       "    <tr>\n",
       "      <th>3</th>\n",
       "      <td>True</td>\n",
       "      <td>335</td>\n",
       "    </tr>\n",
       "    <tr>\n",
       "      <th>4</th>\n",
       "      <td>False</td>\n",
       "      <td>85</td>\n",
       "    </tr>\n",
       "  </tbody>\n",
       "</table>\n",
       "</div>"
      ],
      "text/plain": [
       "   search_special_coffee  financial_condition\n",
       "0                  False                   79\n",
       "1                  False                   94\n",
       "2                   True                  325\n",
       "3                   True                  335\n",
       "4                  False                   85"
      ]
     },
     "execution_count": 7,
     "metadata": {},
     "output_type": "execute_result"
    }
   ],
   "source": [
    "columns=[\"search_special_coffee\", \"financial_condition\"]\n",
    "data=generate_search_special_coffee_and_financial_condition(dataset_size)\n",
    "quantity_financial_condition = pd.DataFrame(data=data, columns=columns)\n",
    "quantity_financial_condition.head()"
   ]
  },
  {
   "cell_type": "markdown",
   "metadata": {},
   "source": [
    "<h3> Gerando os dados do produtor </h3>"
   ]
  },
  {
   "cell_type": "markdown",
   "metadata": {},
   "source": [
    "Pontuação do café gerada com base na altitude e qualidade médias dos cafés nos estados pesquisados"
   ]
  },
  {
   "cell_type": "code",
   "execution_count": 8,
   "metadata": {
    "scrolled": false
   },
   "outputs": [
    {
     "data": {
      "text/html": [
       "<div>\n",
       "<style scoped>\n",
       "    .dataframe tbody tr th:only-of-type {\n",
       "        vertical-align: middle;\n",
       "    }\n",
       "\n",
       "    .dataframe tbody tr th {\n",
       "        vertical-align: top;\n",
       "    }\n",
       "\n",
       "    .dataframe thead th {\n",
       "        text-align: right;\n",
       "    }\n",
       "</style>\n",
       "<table border=\"1\" class=\"dataframe\">\n",
       "  <thead>\n",
       "    <tr style=\"text-align: right;\">\n",
       "      <th></th>\n",
       "      <th>residence_id</th>\n",
       "      <th>coffee_score</th>\n",
       "    </tr>\n",
       "  </thead>\n",
       "  <tbody>\n",
       "    <tr>\n",
       "      <th>0</th>\n",
       "      <td>5</td>\n",
       "      <td>76</td>\n",
       "    </tr>\n",
       "    <tr>\n",
       "      <th>1</th>\n",
       "      <td>5</td>\n",
       "      <td>73</td>\n",
       "    </tr>\n",
       "    <tr>\n",
       "      <th>2</th>\n",
       "      <td>2</td>\n",
       "      <td>77</td>\n",
       "    </tr>\n",
       "    <tr>\n",
       "      <th>3</th>\n",
       "      <td>1</td>\n",
       "      <td>64</td>\n",
       "    </tr>\n",
       "    <tr>\n",
       "      <th>4</th>\n",
       "      <td>3</td>\n",
       "      <td>60</td>\n",
       "    </tr>\n",
       "  </tbody>\n",
       "</table>\n",
       "</div>"
      ],
      "text/plain": [
       "   residence_id  coffee_score\n",
       "0             5            76\n",
       "1             5            73\n",
       "2             2            77\n",
       "3             1            64\n",
       "4             3            60"
      ]
     },
     "execution_count": 8,
     "metadata": {},
     "output_type": "execute_result"
    }
   ],
   "source": [
    "columns=[\"residence_id\", \"coffee_score\"]\n",
    "data=generate_coffee_score_and_residences(dataset_size)\n",
    "coffee_score_df = pd.DataFrame(data=data, columns=columns)\n",
    "coffee_score_df.head()"
   ]
  },
  {
   "cell_type": "markdown",
   "metadata": {},
   "source": [
    "<br>Pela dificuldade de produzir café especial normalmente produtores que produzem esse tipo de café, produzem em uma quantidade menor de quem não produz.\n"
   ]
  },
  {
   "cell_type": "code",
   "execution_count": 9,
   "metadata": {
    "scrolled": false
   },
   "outputs": [
    {
     "data": {
      "text/html": [
       "<div>\n",
       "<style scoped>\n",
       "    .dataframe tbody tr th:only-of-type {\n",
       "        vertical-align: middle;\n",
       "    }\n",
       "\n",
       "    .dataframe tbody tr th {\n",
       "        vertical-align: top;\n",
       "    }\n",
       "\n",
       "    .dataframe thead th {\n",
       "        text-align: right;\n",
       "    }\n",
       "</style>\n",
       "<table border=\"1\" class=\"dataframe\">\n",
       "  <thead>\n",
       "    <tr style=\"text-align: right;\">\n",
       "      <th></th>\n",
       "      <th>produces_special_coffee</th>\n",
       "      <th>quantity_produced</th>\n",
       "    </tr>\n",
       "  </thead>\n",
       "  <tbody>\n",
       "    <tr>\n",
       "      <th>0</th>\n",
       "      <td>False</td>\n",
       "      <td>927</td>\n",
       "    </tr>\n",
       "    <tr>\n",
       "      <th>1</th>\n",
       "      <td>True</td>\n",
       "      <td>542</td>\n",
       "    </tr>\n",
       "    <tr>\n",
       "      <th>2</th>\n",
       "      <td>False</td>\n",
       "      <td>648</td>\n",
       "    </tr>\n",
       "    <tr>\n",
       "      <th>3</th>\n",
       "      <td>True</td>\n",
       "      <td>703</td>\n",
       "    </tr>\n",
       "    <tr>\n",
       "      <th>4</th>\n",
       "      <td>True</td>\n",
       "      <td>686</td>\n",
       "    </tr>\n",
       "  </tbody>\n",
       "</table>\n",
       "</div>"
      ],
      "text/plain": [
       "   produces_special_coffee  quantity_produced\n",
       "0                    False                927\n",
       "1                     True                542\n",
       "2                    False                648\n",
       "3                     True                703\n",
       "4                     True                686"
      ]
     },
     "execution_count": 9,
     "metadata": {},
     "output_type": "execute_result"
    }
   ],
   "source": [
    "columns=[\"produces_special_coffee\", \"quantity_produced\"]\n",
    "data=generate_produces_special_coffee_and_quantity_produced(dataset_size)\n",
    "quantity_produced_df = pd.DataFrame(data=data, columns=columns)\n",
    "quantity_produced_df.head()"
   ]
  },
  {
   "cell_type": "markdown",
   "metadata": {},
   "source": [
    "---"
   ]
  },
  {
   "cell_type": "markdown",
   "metadata": {},
   "source": [
    "<h3> Gerando os dataframes </h3>"
   ]
  },
  {
   "cell_type": "code",
   "execution_count": 10,
   "metadata": {},
   "outputs": [],
   "source": [
    "# Dataframe do consumidor\n",
    "consumer_df = generate_fake_dataframe(\n",
    "  size = dataset_size, \n",
    "  cols = consumer_cols, \n",
    "  col_names = consumer_col_names,\n",
    "  intervals = consumer_intervals,\n",
    "  seed=dataset_seed)\n",
    "\n",
    "# Dataframe do produtor\n",
    "producer_df = generate_fake_dataframe(\n",
    "  size = dataset_size, \n",
    "  cols = producer_cols, \n",
    "  col_names = producer_col_names,\n",
    "  intervals = producer_intervals,\n",
    "  seed=dataset_seed)"
   ]
  },
  {
   "cell_type": "markdown",
   "metadata": {},
   "source": [
    "Obs: Os dados gerados pela função 'generate_fake_dataframe' não utiliza as regras de negocio definidas, portanto alguns de seus dados serão substituidos"
   ]
  },
  {
   "cell_type": "markdown",
   "metadata": {},
   "source": [
    "#### Alterando as colunas geradas randomicamente pelas geradas utilizando as regras de negócio"
   ]
  },
  {
   "cell_type": "code",
   "execution_count": 11,
   "metadata": {},
   "outputs": [],
   "source": [
    "# Alterando os dados do consumidor\n",
    "consumer_df['person_type'] = desired_quantity_df['person_type']\n",
    "consumer_df['desired_quantity'] = desired_quantity_df['desired_quantity']\n",
    "\n",
    "consumer_df['search_special_coffee'] = quantity_financial_condition['search_special_coffee']\n",
    "consumer_df['financial_condition'] = quantity_financial_condition['financial_condition']\n",
    "\n",
    "# Alterando os dados do produtor\n",
    "producer_df['residence'] = coffee_score_df['residence_id']\n",
    "producer_df['coffee_score'] = coffee_score_df['coffee_score']\n",
    "\n",
    "producer_df['produces_special_coffee'] = quantity_produced_df['produces_special_coffee']\n",
    "producer_df['quantity_produced'] = quantity_produced_df['quantity_produced']"
   ]
  },
  {
   "cell_type": "markdown",
   "metadata": {},
   "source": [
    "<br>\n",
    "Baseado na regra de que produtores de café especial não podem ter nota abaixo de 80, os valores fora desse padrão serão removidos"
   ]
  },
  {
   "cell_type": "code",
   "execution_count": 12,
   "metadata": {},
   "outputs": [],
   "source": [
    "# Removendo os produtores gerados que produzem café especial com nota abaixo de 80\n",
    "producer_df = producer_df.drop(producer_df[(producer_df['produces_special_coffee'] == True) \n",
    "                                           & (producer_df['coffee_score']  < 80)].index)"
   ]
  },
  {
   "cell_type": "markdown",
   "metadata": {},
   "source": [
    "#### Mostrando dataframes criados"
   ]
  },
  {
   "cell_type": "code",
   "execution_count": 13,
   "metadata": {
    "scrolled": true
   },
   "outputs": [
    {
     "data": {
      "text/html": [
       "<div>\n",
       "<style scoped>\n",
       "    .dataframe tbody tr th:only-of-type {\n",
       "        vertical-align: middle;\n",
       "    }\n",
       "\n",
       "    .dataframe tbody tr th {\n",
       "        vertical-align: top;\n",
       "    }\n",
       "\n",
       "    .dataframe thead th {\n",
       "        text-align: right;\n",
       "    }\n",
       "</style>\n",
       "<table border=\"1\" class=\"dataframe\">\n",
       "  <thead>\n",
       "    <tr style=\"text-align: right;\">\n",
       "      <th></th>\n",
       "      <th>id</th>\n",
       "      <th>quantity_produced</th>\n",
       "      <th>residence</th>\n",
       "      <th>produces_special_coffee</th>\n",
       "      <th>coffee_score</th>\n",
       "    </tr>\n",
       "  </thead>\n",
       "  <tbody>\n",
       "    <tr>\n",
       "      <th>0</th>\n",
       "      <td>8925096</td>\n",
       "      <td>927</td>\n",
       "      <td>5</td>\n",
       "      <td>False</td>\n",
       "      <td>76</td>\n",
       "    </tr>\n",
       "    <tr>\n",
       "      <th>2</th>\n",
       "      <td>65457152</td>\n",
       "      <td>648</td>\n",
       "      <td>2</td>\n",
       "      <td>False</td>\n",
       "      <td>77</td>\n",
       "    </tr>\n",
       "    <tr>\n",
       "      <th>5</th>\n",
       "      <td>85859792</td>\n",
       "      <td>947</td>\n",
       "      <td>4</td>\n",
       "      <td>False</td>\n",
       "      <td>66</td>\n",
       "    </tr>\n",
       "    <tr>\n",
       "      <th>6</th>\n",
       "      <td>8594564</td>\n",
       "      <td>978</td>\n",
       "      <td>4</td>\n",
       "      <td>False</td>\n",
       "      <td>77</td>\n",
       "    </tr>\n",
       "    <tr>\n",
       "      <th>7</th>\n",
       "      <td>69736803</td>\n",
       "      <td>548</td>\n",
       "      <td>4</td>\n",
       "      <td>False</td>\n",
       "      <td>68</td>\n",
       "    </tr>\n",
       "    <tr>\n",
       "      <th>8</th>\n",
       "      <td>20146954</td>\n",
       "      <td>1021</td>\n",
       "      <td>6</td>\n",
       "      <td>False</td>\n",
       "      <td>69</td>\n",
       "    </tr>\n",
       "    <tr>\n",
       "      <th>9</th>\n",
       "      <td>9417735</td>\n",
       "      <td>876</td>\n",
       "      <td>5</td>\n",
       "      <td>False</td>\n",
       "      <td>77</td>\n",
       "    </tr>\n",
       "    <tr>\n",
       "      <th>14</th>\n",
       "      <td>71747727</td>\n",
       "      <td>591</td>\n",
       "      <td>5</td>\n",
       "      <td>False</td>\n",
       "      <td>83</td>\n",
       "    </tr>\n",
       "    <tr>\n",
       "      <th>15</th>\n",
       "      <td>78606430</td>\n",
       "      <td>799</td>\n",
       "      <td>4</td>\n",
       "      <td>False</td>\n",
       "      <td>61</td>\n",
       "    </tr>\n",
       "    <tr>\n",
       "      <th>16</th>\n",
       "      <td>51322657</td>\n",
       "      <td>829</td>\n",
       "      <td>4</td>\n",
       "      <td>False</td>\n",
       "      <td>71</td>\n",
       "    </tr>\n",
       "  </tbody>\n",
       "</table>\n",
       "</div>"
      ],
      "text/plain": [
       "          id  quantity_produced  residence  produces_special_coffee  \\\n",
       "0    8925096                927          5                    False   \n",
       "2   65457152                648          2                    False   \n",
       "5   85859792                947          4                    False   \n",
       "6    8594564                978          4                    False   \n",
       "7   69736803                548          4                    False   \n",
       "8   20146954               1021          6                    False   \n",
       "9    9417735                876          5                    False   \n",
       "14  71747727                591          5                    False   \n",
       "15  78606430                799          4                    False   \n",
       "16  51322657                829          4                    False   \n",
       "\n",
       "    coffee_score  \n",
       "0             76  \n",
       "2             77  \n",
       "5             66  \n",
       "6             77  \n",
       "7             68  \n",
       "8             69  \n",
       "9             77  \n",
       "14            83  \n",
       "15            61  \n",
       "16            71  "
      ]
     },
     "execution_count": 13,
     "metadata": {},
     "output_type": "execute_result"
    }
   ],
   "source": [
    "# Mostrando uma amostra dos dados do produtor\n",
    "producer_df.head(10)"
   ]
  },
  {
   "cell_type": "code",
   "execution_count": 14,
   "metadata": {
    "scrolled": true
   },
   "outputs": [
    {
     "data": {
      "text/html": [
       "<div>\n",
       "<style scoped>\n",
       "    .dataframe tbody tr th:only-of-type {\n",
       "        vertical-align: middle;\n",
       "    }\n",
       "\n",
       "    .dataframe tbody tr th {\n",
       "        vertical-align: top;\n",
       "    }\n",
       "\n",
       "    .dataframe thead th {\n",
       "        text-align: right;\n",
       "    }\n",
       "</style>\n",
       "<table border=\"1\" class=\"dataframe\">\n",
       "  <thead>\n",
       "    <tr style=\"text-align: right;\">\n",
       "      <th></th>\n",
       "      <th>id</th>\n",
       "      <th>financial_condition</th>\n",
       "      <th>residence</th>\n",
       "      <th>search_special_coffee</th>\n",
       "      <th>desired_quantity</th>\n",
       "      <th>person_type</th>\n",
       "    </tr>\n",
       "  </thead>\n",
       "  <tbody>\n",
       "    <tr>\n",
       "      <th>0</th>\n",
       "      <td>8925096</td>\n",
       "      <td>79</td>\n",
       "      <td>3</td>\n",
       "      <td>False</td>\n",
       "      <td>60.0</td>\n",
       "      <td>2</td>\n",
       "    </tr>\n",
       "    <tr>\n",
       "      <th>1</th>\n",
       "      <td>77395605</td>\n",
       "      <td>94</td>\n",
       "      <td>2</td>\n",
       "      <td>False</td>\n",
       "      <td>0.5</td>\n",
       "      <td>1</td>\n",
       "    </tr>\n",
       "    <tr>\n",
       "      <th>2</th>\n",
       "      <td>65457152</td>\n",
       "      <td>325</td>\n",
       "      <td>3</td>\n",
       "      <td>True</td>\n",
       "      <td>60.0</td>\n",
       "      <td>2</td>\n",
       "    </tr>\n",
       "    <tr>\n",
       "      <th>3</th>\n",
       "      <td>43887844</td>\n",
       "      <td>335</td>\n",
       "      <td>4</td>\n",
       "      <td>True</td>\n",
       "      <td>0.5</td>\n",
       "      <td>1</td>\n",
       "    </tr>\n",
       "    <tr>\n",
       "      <th>4</th>\n",
       "      <td>43301524</td>\n",
       "      <td>85</td>\n",
       "      <td>1</td>\n",
       "      <td>False</td>\n",
       "      <td>60.0</td>\n",
       "      <td>2</td>\n",
       "    </tr>\n",
       "    <tr>\n",
       "      <th>5</th>\n",
       "      <td>85859792</td>\n",
       "      <td>330</td>\n",
       "      <td>5</td>\n",
       "      <td>True</td>\n",
       "      <td>60.0</td>\n",
       "      <td>2</td>\n",
       "    </tr>\n",
       "    <tr>\n",
       "      <th>6</th>\n",
       "      <td>8594564</td>\n",
       "      <td>105</td>\n",
       "      <td>2</td>\n",
       "      <td>False</td>\n",
       "      <td>1.0</td>\n",
       "      <td>1</td>\n",
       "    </tr>\n",
       "    <tr>\n",
       "      <th>7</th>\n",
       "      <td>69736803</td>\n",
       "      <td>98</td>\n",
       "      <td>6</td>\n",
       "      <td>False</td>\n",
       "      <td>1.0</td>\n",
       "      <td>1</td>\n",
       "    </tr>\n",
       "    <tr>\n",
       "      <th>8</th>\n",
       "      <td>20146954</td>\n",
       "      <td>91</td>\n",
       "      <td>5</td>\n",
       "      <td>False</td>\n",
       "      <td>1.0</td>\n",
       "      <td>1</td>\n",
       "    </tr>\n",
       "    <tr>\n",
       "      <th>9</th>\n",
       "      <td>9417735</td>\n",
       "      <td>79</td>\n",
       "      <td>2</td>\n",
       "      <td>False</td>\n",
       "      <td>60.0</td>\n",
       "      <td>2</td>\n",
       "    </tr>\n",
       "  </tbody>\n",
       "</table>\n",
       "</div>"
      ],
      "text/plain": [
       "         id  financial_condition  residence  search_special_coffee  \\\n",
       "0   8925096                   79          3                  False   \n",
       "1  77395605                   94          2                  False   \n",
       "2  65457152                  325          3                   True   \n",
       "3  43887844                  335          4                   True   \n",
       "4  43301524                   85          1                  False   \n",
       "5  85859792                  330          5                   True   \n",
       "6   8594564                  105          2                  False   \n",
       "7  69736803                   98          6                  False   \n",
       "8  20146954                   91          5                  False   \n",
       "9   9417735                   79          2                  False   \n",
       "\n",
       "   desired_quantity  person_type  \n",
       "0              60.0            2  \n",
       "1               0.5            1  \n",
       "2              60.0            2  \n",
       "3               0.5            1  \n",
       "4              60.0            2  \n",
       "5              60.0            2  \n",
       "6               1.0            1  \n",
       "7               1.0            1  \n",
       "8               1.0            1  \n",
       "9              60.0            2  "
      ]
     },
     "execution_count": 14,
     "metadata": {},
     "output_type": "execute_result"
    }
   ],
   "source": [
    "# Mostrando uma amostra dos dados do consumidor\n",
    "consumer_df.head(10)"
   ]
  },
  {
   "cell_type": "markdown",
   "metadata": {},
   "source": [
    "<br>\n",
    "\n",
    "---\n",
    "<h3> Modelagem do Consumidor </h3>"
   ]
  },
  {
   "cell_type": "markdown",
   "metadata": {},
   "source": [
    "#### Normalizando os dados\n",
    "Uma boa prática é normalizar os dados para que o processo de modelagem seja mais preciso"
   ]
  },
  {
   "cell_type": "code",
   "execution_count": 15,
   "metadata": {},
   "outputs": [],
   "source": [
    "# Declarando scaler para normalizar dataframes\n",
    "scaler = StandardScaler()\n",
    "\n",
    "# Removendo coluna ID pois ela não é importante para o processo\n",
    "aux_df = consumer_df\n",
    "aux_df.drop(columns=['id'])\n",
    "\n",
    "# Normalizando o dataframes\n",
    "normalized_consumer_df = scaler.fit_transform(aux_df)"
   ]
  },
  {
   "cell_type": "markdown",
   "metadata": {},
   "source": [
    "#### Implementando PCA\n",
    "Pela quantidade de variaveis ser alta o PCA será implementado para melhor visualizar os dados"
   ]
  },
  {
   "cell_type": "code",
   "execution_count": 16,
   "metadata": {},
   "outputs": [
    {
     "data": {
      "image/png": "[encoded data removed]",
      "text/plain": [
       "<Figure size 432x288 with 1 Axes>"
      ]
     },
     "metadata": {
      "needs_background": "light"
     },
     "output_type": "display_data"
    }
   ],
   "source": [
    "# Declarando PCA com 2 dimenções\n",
    "pca = PCA(n_components=2)\n",
    "\n",
    "# Pegando os dados após o fit_transform do PCA\n",
    "pca_consumer_df = pca.fit_transform(normalized_consumer_df)\n",
    "\n",
    "# Visualizando dados ajustados do consumidor\n",
    "plt.scatter(pca_consumer_df[:, 0], pca_consumer_df[:, 1])\n",
    "plt.show()"
   ]
  },
  {
   "cell_type": "markdown",
   "metadata": {},
   "source": [
    "#### Implementando o método do cotovelo para visualizar o melhor valor de K\n",
    "Vamos agora implementar o “método do cotovelo” para determinar o número de clusters. Isso pode ser feito usando WCSS (soma dos quadrados das distâncias dos pontos de dados)"
   ]
  },
  {
   "cell_type": "code",
   "execution_count": 17,
   "metadata": {
    "scrolled": true
   },
   "outputs": [
    {
     "data": {
      "image/png": "[encoded data removed]",
      "text/plain": [
       "<Figure size 432x288 with 1 Axes>"
      ]
     },
     "metadata": {
      "needs_background": "light"
     },
     "output_type": "display_data"
    }
   ],
   "source": [
    "wcss = []\n",
    "for i in range(1,11):\n",
    "    model = KMeans(n_clusters = i, init = \"k-means++\")\n",
    "    model.fit(pca_consumer_df)\n",
    "    wcss.append(model.inertia_)\n",
    "plt.plot(range(1,11), wcss)\n",
    "plt.xlabel('Número de clusters')\n",
    "plt.ylabel('WCSS')\n",
    "plt.show()"
   ]
  },
  {
   "cell_type": "markdown",
   "metadata": {},
   "source": [
    "Como podemos observar o cotovelo se encontra no 4, ou seja, será usado 4 clusters para o consumidor "
   ]
  },
  {
   "cell_type": "code",
   "execution_count": 18,
   "metadata": {},
   "outputs": [],
   "source": [
    "k = 4"
   ]
  },
  {
   "cell_type": "markdown",
   "metadata": {},
   "source": [
    "#### Alimentando modelo"
   ]
  },
  {
   "cell_type": "code",
   "execution_count": 19,
   "metadata": {
    "scrolled": true
   },
   "outputs": [
    {
     "data": {
      "image/png": "[encoded data removed]",
      "text/plain": [
       "<Figure size 432x288 with 1 Axes>"
      ]
     },
     "metadata": {
      "needs_background": "light"
     },
     "output_type": "display_data"
    }
   ],
   "source": [
    "# Declarando modelo com 3 clusters\n",
    "model = KMeans(n_clusters = k, init = \"k-means++\")\n",
    "\n",
    "# Ajustando modelo com base nos dados fornecidos pelo PCA\n",
    "fitting = model.fit(pca_consumer_df)\n",
    "\n",
    "# Pegando centroids\n",
    "centers = fitting.cluster_centers_\n",
    "\n",
    "# Visualizando dados modelados e agrupados\n",
    "plt.scatter(pca_consumer_df[:, 0], pca_consumer_df[:, 1], c= fitting.labels_.astype(float), s=50, alpha=0.5)\n",
    "plt.scatter(centers[:, 0], centers[:, 1], marker=\"o\", color='r', label='centroids')\n",
    "plt.legend(scatterpoints=1)\n",
    "plt.show()"
   ]
  },
  {
   "cell_type": "markdown",
   "metadata": {},
   "source": [
    "#### Pegando o resultado da modelagem"
   ]
  },
  {
   "cell_type": "code",
   "execution_count": 20,
   "metadata": {
    "scrolled": true
   },
   "outputs": [
    {
     "data": {
      "text/html": [
       "<div>\n",
       "<style scoped>\n",
       "    .dataframe tbody tr th:only-of-type {\n",
       "        vertical-align: middle;\n",
       "    }\n",
       "\n",
       "    .dataframe tbody tr th {\n",
       "        vertical-align: top;\n",
       "    }\n",
       "\n",
       "    .dataframe thead th {\n",
       "        text-align: right;\n",
       "    }\n",
       "</style>\n",
       "<table border=\"1\" class=\"dataframe\">\n",
       "  <thead>\n",
       "    <tr style=\"text-align: right;\">\n",
       "      <th></th>\n",
       "      <th>id</th>\n",
       "      <th>financial_condition</th>\n",
       "      <th>residence</th>\n",
       "      <th>search_special_coffee</th>\n",
       "      <th>desired_quantity</th>\n",
       "      <th>person_type</th>\n",
       "      <th>labels</th>\n",
       "    </tr>\n",
       "  </thead>\n",
       "  <tbody>\n",
       "    <tr>\n",
       "      <th>0</th>\n",
       "      <td>8925096</td>\n",
       "      <td>79</td>\n",
       "      <td>3</td>\n",
       "      <td>False</td>\n",
       "      <td>60.0</td>\n",
       "      <td>2</td>\n",
       "      <td>0</td>\n",
       "    </tr>\n",
       "    <tr>\n",
       "      <th>1</th>\n",
       "      <td>77395605</td>\n",
       "      <td>94</td>\n",
       "      <td>2</td>\n",
       "      <td>False</td>\n",
       "      <td>0.5</td>\n",
       "      <td>1</td>\n",
       "      <td>1</td>\n",
       "    </tr>\n",
       "    <tr>\n",
       "      <th>2</th>\n",
       "      <td>65457152</td>\n",
       "      <td>325</td>\n",
       "      <td>3</td>\n",
       "      <td>True</td>\n",
       "      <td>60.0</td>\n",
       "      <td>2</td>\n",
       "      <td>2</td>\n",
       "    </tr>\n",
       "    <tr>\n",
       "      <th>3</th>\n",
       "      <td>43887844</td>\n",
       "      <td>335</td>\n",
       "      <td>4</td>\n",
       "      <td>True</td>\n",
       "      <td>0.5</td>\n",
       "      <td>1</td>\n",
       "      <td>3</td>\n",
       "    </tr>\n",
       "    <tr>\n",
       "      <th>4</th>\n",
       "      <td>43301524</td>\n",
       "      <td>85</td>\n",
       "      <td>1</td>\n",
       "      <td>False</td>\n",
       "      <td>60.0</td>\n",
       "      <td>2</td>\n",
       "      <td>0</td>\n",
       "    </tr>\n",
       "    <tr>\n",
       "      <th>5</th>\n",
       "      <td>85859792</td>\n",
       "      <td>330</td>\n",
       "      <td>5</td>\n",
       "      <td>True</td>\n",
       "      <td>60.0</td>\n",
       "      <td>2</td>\n",
       "      <td>2</td>\n",
       "    </tr>\n",
       "    <tr>\n",
       "      <th>6</th>\n",
       "      <td>8594564</td>\n",
       "      <td>105</td>\n",
       "      <td>2</td>\n",
       "      <td>False</td>\n",
       "      <td>1.0</td>\n",
       "      <td>1</td>\n",
       "      <td>1</td>\n",
       "    </tr>\n",
       "    <tr>\n",
       "      <th>7</th>\n",
       "      <td>69736803</td>\n",
       "      <td>98</td>\n",
       "      <td>6</td>\n",
       "      <td>False</td>\n",
       "      <td>1.0</td>\n",
       "      <td>1</td>\n",
       "      <td>1</td>\n",
       "    </tr>\n",
       "    <tr>\n",
       "      <th>8</th>\n",
       "      <td>20146954</td>\n",
       "      <td>91</td>\n",
       "      <td>5</td>\n",
       "      <td>False</td>\n",
       "      <td>1.0</td>\n",
       "      <td>1</td>\n",
       "      <td>1</td>\n",
       "    </tr>\n",
       "    <tr>\n",
       "      <th>9</th>\n",
       "      <td>9417735</td>\n",
       "      <td>79</td>\n",
       "      <td>2</td>\n",
       "      <td>False</td>\n",
       "      <td>60.0</td>\n",
       "      <td>2</td>\n",
       "      <td>0</td>\n",
       "    </tr>\n",
       "  </tbody>\n",
       "</table>\n",
       "</div>"
      ],
      "text/plain": [
       "         id  financial_condition  residence  search_special_coffee  \\\n",
       "0   8925096                   79          3                  False   \n",
       "1  77395605                   94          2                  False   \n",
       "2  65457152                  325          3                   True   \n",
       "3  43887844                  335          4                   True   \n",
       "4  43301524                   85          1                  False   \n",
       "5  85859792                  330          5                   True   \n",
       "6   8594564                  105          2                  False   \n",
       "7  69736803                   98          6                  False   \n",
       "8  20146954                   91          5                  False   \n",
       "9   9417735                   79          2                  False   \n",
       "\n",
       "   desired_quantity  person_type  labels  \n",
       "0              60.0            2       0  \n",
       "1               0.5            1       1  \n",
       "2              60.0            2       2  \n",
       "3               0.5            1       3  \n",
       "4              60.0            2       0  \n",
       "5              60.0            2       2  \n",
       "6               1.0            1       1  \n",
       "7               1.0            1       1  \n",
       "8               1.0            1       1  \n",
       "9              60.0            2       0  "
      ]
     },
     "execution_count": 20,
     "metadata": {},
     "output_type": "execute_result"
    }
   ],
   "source": [
    "# Realizando o predict para encontrar os labels\n",
    "labels = fitting.predict(pca_consumer_df)\n",
    "\n",
    "# Criando nova coluna com os Labels\n",
    "consumer_df['labels'] = labels\n",
    "\n",
    "# Visualizando dataframe com nova coluna\n",
    "consumer_df.head(10)"
   ]
  },
  {
   "cell_type": "code",
   "execution_count": 21,
   "metadata": {
    "scrolled": true
   },
   "outputs": [
    {
     "data": {
      "text/plain": [
       "<matplotlib.collections.PathCollection at 0x1f30db28160>"
      ]
     },
     "execution_count": 21,
     "metadata": {},
     "output_type": "execute_result"
    },
    {
     "data": {
      "image/png": "[encoded data removed]",
      "text/plain": [
       "<Figure size 432x288 with 1 Axes>"
      ]
     },
     "metadata": {
      "needs_background": "light"
     },
     "output_type": "display_data"
    }
   ],
   "source": [
    "# Observando as correlações dos dados do dataframe utilizando o método pearson\n",
    "# consumer_df.corr(method ='pearson')\n",
    "\n",
    "plt.scatter(consumer_df['financial_condition'], consumer_df['desired_quantity'])"
   ]
  },
  {
   "cell_type": "markdown",
   "metadata": {},
   "source": [
    "<br>\n",
    "\n",
    "---\n",
    "<h3> Modelagem do Produtor </h3>"
   ]
  },
  {
   "cell_type": "markdown",
   "metadata": {},
   "source": [
    "#### Normalizando os dados\n",
    "Uma boa prática é normalizar os dados para que o processo de modelagem seja mais preciso"
   ]
  },
  {
   "cell_type": "code",
   "execution_count": 22,
   "metadata": {},
   "outputs": [],
   "source": [
    "# Declarando scaler para normalizar dataframes\n",
    "scaler = StandardScaler()\n",
    "\n",
    "# Removendo coluna ID pois ela não é importante para o processo\n",
    "aux_df = producer_df\n",
    "aux_df.drop(columns=['id'])\n",
    "\n",
    "# Normalizando o dataframes\n",
    "normalized_producer_df = scaler.fit_transform(aux_df)"
   ]
  },
  {
   "cell_type": "markdown",
   "metadata": {},
   "source": [
    "#### Implementando PCA\n",
    "Pela quantidade de variaveis ser alta o PCA será implementado para melhor visualizar os dados"
   ]
  },
  {
   "cell_type": "code",
   "execution_count": 23,
   "metadata": {},
   "outputs": [
    {
     "data": {
      "image/png": "[encoded data removed]",
      "text/plain": [
       "<Figure size 432x288 with 1 Axes>"
      ]
     },
     "metadata": {
      "needs_background": "light"
     },
     "output_type": "display_data"
    }
   ],
   "source": [
    "# Declarando PCA com 2 dimenções\n",
    "pca = PCA(n_components=2)\n",
    "\n",
    "# Pegando os dados após o fit_transform do PCA\n",
    "pca_producer_df = pca.fit_transform(normalized_producer_df)\n",
    "\n",
    "# Visualizando dados ajustados do consumidor\n",
    "plt.scatter(pca_producer_df[:, 0], pca_producer_df[:, 1])\n",
    "plt.show()"
   ]
  },
  {
   "cell_type": "markdown",
   "metadata": {},
   "source": [
    "#### Implementando o método do cotovelo para visualizar o melhor valor de K\n",
    "Vamos agora implementar o “método do cotovelo” para determinar o número de clusters. Isso pode ser feito usando WCSS (soma dos quadrados das distâncias dos pontos de dados)"
   ]
  },
  {
   "cell_type": "code",
   "execution_count": 24,
   "metadata": {
    "scrolled": false
   },
   "outputs": [
    {
     "data": {
      "image/png": "[encoded data removed]",
      "text/plain": [
       "<Figure size 432x288 with 1 Axes>"
      ]
     },
     "metadata": {
      "needs_background": "light"
     },
     "output_type": "display_data"
    }
   ],
   "source": [
    "wcss = []\n",
    "for i in range(1,11):\n",
    "    model = KMeans(n_clusters = i, init = \"k-means++\")\n",
    "    model.fit(pca_producer_df)\n",
    "    wcss.append(model.inertia_)\n",
    "plt.plot(range(1,11), wcss)\n",
    "plt.xlabel('Número de clusters')\n",
    "plt.ylabel('WCSS')\n",
    "plt.show()"
   ]
  },
  {
   "cell_type": "markdown",
   "metadata": {},
   "source": [
    "Como é evidente que não existe um cotovelo específico para este conjunto de dados, neste projeto farei isso usando 4 clusters."
   ]
  },
  {
   "cell_type": "code",
   "execution_count": 25,
   "metadata": {},
   "outputs": [],
   "source": [
    "k = 4"
   ]
  },
  {
   "cell_type": "markdown",
   "metadata": {},
   "source": [
    "#### Alimentando modelo"
   ]
  },
  {
   "cell_type": "code",
   "execution_count": 26,
   "metadata": {
    "scrolled": true
   },
   "outputs": [
    {
     "data": {
      "image/png": "[encoded data removed]",
      "text/plain": [
       "<Figure size 432x288 with 1 Axes>"
      ]
     },
     "metadata": {
      "needs_background": "light"
     },
     "output_type": "display_data"
    }
   ],
   "source": [
    "# Declarando modelo com 3 clusters\n",
    "model = KMeans(n_clusters = k, init = \"k-means++\")\n",
    "\n",
    "# Ajustando modelo com base nos dados fornecidos pelo PCA\n",
    "fitting = model.fit(pca_producer_df)\n",
    "\n",
    "# Pegando centroids\n",
    "centers = fitting.cluster_centers_\n",
    "\n",
    "# Visualizando dados modelados e agrupados\n",
    "plt.scatter(pca_producer_df[:, 0], pca_producer_df[:, 1], c= fitting.labels_.astype(float), s=50, alpha=0.5)\n",
    "plt.scatter(centers[:, 0], centers[:, 1], marker=\"o\", color='r', label='centroids')\n",
    "plt.legend(scatterpoints=1)\n",
    "plt.show()"
   ]
  },
  {
   "cell_type": "markdown",
   "metadata": {},
   "source": [
    "#### Pegando o resultado da modelagem"
   ]
  },
  {
   "cell_type": "code",
   "execution_count": 57,
   "metadata": {
    "scrolled": true
   },
   "outputs": [
    {
     "data": {
      "text/html": [
       "<div>\n",
       "<style scoped>\n",
       "    .dataframe tbody tr th:only-of-type {\n",
       "        vertical-align: middle;\n",
       "    }\n",
       "\n",
       "    .dataframe tbody tr th {\n",
       "        vertical-align: top;\n",
       "    }\n",
       "\n",
       "    .dataframe thead th {\n",
       "        text-align: right;\n",
       "    }\n",
       "</style>\n",
       "<table border=\"1\" class=\"dataframe\">\n",
       "  <thead>\n",
       "    <tr style=\"text-align: right;\">\n",
       "      <th></th>\n",
       "      <th>id</th>\n",
       "      <th>quantity_produced</th>\n",
       "      <th>residence</th>\n",
       "      <th>produces_special_coffee</th>\n",
       "      <th>coffee_score</th>\n",
       "      <th>labels</th>\n",
       "    </tr>\n",
       "  </thead>\n",
       "  <tbody>\n",
       "    <tr>\n",
       "      <th>0</th>\n",
       "      <td>8925096</td>\n",
       "      <td>927</td>\n",
       "      <td>5</td>\n",
       "      <td>False</td>\n",
       "      <td>76</td>\n",
       "      <td>0</td>\n",
       "    </tr>\n",
       "    <tr>\n",
       "      <th>2</th>\n",
       "      <td>65457152</td>\n",
       "      <td>648</td>\n",
       "      <td>2</td>\n",
       "      <td>False</td>\n",
       "      <td>77</td>\n",
       "      <td>1</td>\n",
       "    </tr>\n",
       "    <tr>\n",
       "      <th>5</th>\n",
       "      <td>85859792</td>\n",
       "      <td>947</td>\n",
       "      <td>4</td>\n",
       "      <td>False</td>\n",
       "      <td>66</td>\n",
       "      <td>1</td>\n",
       "    </tr>\n",
       "    <tr>\n",
       "      <th>6</th>\n",
       "      <td>8594564</td>\n",
       "      <td>978</td>\n",
       "      <td>4</td>\n",
       "      <td>False</td>\n",
       "      <td>77</td>\n",
       "      <td>0</td>\n",
       "    </tr>\n",
       "    <tr>\n",
       "      <th>7</th>\n",
       "      <td>69736803</td>\n",
       "      <td>548</td>\n",
       "      <td>4</td>\n",
       "      <td>False</td>\n",
       "      <td>68</td>\n",
       "      <td>1</td>\n",
       "    </tr>\n",
       "    <tr>\n",
       "      <th>8</th>\n",
       "      <td>20146954</td>\n",
       "      <td>1021</td>\n",
       "      <td>6</td>\n",
       "      <td>False</td>\n",
       "      <td>69</td>\n",
       "      <td>0</td>\n",
       "    </tr>\n",
       "    <tr>\n",
       "      <th>9</th>\n",
       "      <td>9417735</td>\n",
       "      <td>876</td>\n",
       "      <td>5</td>\n",
       "      <td>False</td>\n",
       "      <td>77</td>\n",
       "      <td>0</td>\n",
       "    </tr>\n",
       "    <tr>\n",
       "      <th>14</th>\n",
       "      <td>71747727</td>\n",
       "      <td>591</td>\n",
       "      <td>5</td>\n",
       "      <td>False</td>\n",
       "      <td>83</td>\n",
       "      <td>1</td>\n",
       "    </tr>\n",
       "    <tr>\n",
       "      <th>15</th>\n",
       "      <td>78606430</td>\n",
       "      <td>799</td>\n",
       "      <td>4</td>\n",
       "      <td>False</td>\n",
       "      <td>61</td>\n",
       "      <td>3</td>\n",
       "    </tr>\n",
       "    <tr>\n",
       "      <th>16</th>\n",
       "      <td>51322657</td>\n",
       "      <td>829</td>\n",
       "      <td>4</td>\n",
       "      <td>False</td>\n",
       "      <td>71</td>\n",
       "      <td>1</td>\n",
       "    </tr>\n",
       "  </tbody>\n",
       "</table>\n",
       "</div>"
      ],
      "text/plain": [
       "          id  quantity_produced  residence  produces_special_coffee  \\\n",
       "0    8925096                927          5                    False   \n",
       "2   65457152                648          2                    False   \n",
       "5   85859792                947          4                    False   \n",
       "6    8594564                978          4                    False   \n",
       "7   69736803                548          4                    False   \n",
       "8   20146954               1021          6                    False   \n",
       "9    9417735                876          5                    False   \n",
       "14  71747727                591          5                    False   \n",
       "15  78606430                799          4                    False   \n",
       "16  51322657                829          4                    False   \n",
       "\n",
       "    coffee_score  labels  \n",
       "0             76       0  \n",
       "2             77       1  \n",
       "5             66       1  \n",
       "6             77       0  \n",
       "7             68       1  \n",
       "8             69       0  \n",
       "9             77       0  \n",
       "14            83       1  \n",
       "15            61       3  \n",
       "16            71       1  "
      ]
     },
     "execution_count": 57,
     "metadata": {},
     "output_type": "execute_result"
    }
   ],
   "source": [
    "# Realizando o predict para encontrar os labels\n",
    "labels = fitting.predict(pca_producer_df)\n",
    "\n",
    "# Criando nova coluna com os Labels\n",
    "producer_df['labels'] = labels\n",
    "\n",
    "# Visualizando dataframe com nova coluna\n",
    "producer_df.head(10)"
   ]
  },
  {
   "cell_type": "code",
   "execution_count": 28,
   "metadata": {
    "scrolled": true
   },
   "outputs": [
    {
     "data": {
      "text/plain": [
       "<matplotlib.collections.PathCollection at 0x1f30dbe9880>"
      ]
     },
     "execution_count": 28,
     "metadata": {},
     "output_type": "execute_result"
    },
    {
     "data": {
      "image/png": "[encoded data removed]",
      "text/plain": [
       "<Figure size 432x288 with 1 Axes>"
      ]
     },
     "metadata": {
      "needs_background": "light"
     },
     "output_type": "display_data"
    }
   ],
   "source": [
    "# Observando as correlações dos dados do dataframe utilizando o método pearson\n",
    "producer_df.corr(method ='pearson')\n",
    "\n",
    "plt.scatter(producer_df['quantity_produced'], producer_df['coffee_score'], c = producer_df['labels'])\n",
    "# plt.xlabel('quantity_produced')"
   ]
  },
  {
   "cell_type": "code",
   "execution_count": 72,
   "metadata": {},
   "outputs": [
    {
     "data": {
      "text/plain": [
       "array([0.2569929 , 0.33166942, 0.13434037, 0.27699731])"
      ]
     },
     "execution_count": 72,
     "metadata": {},
     "output_type": "execute_result"
    }
   ],
   "source": [
    "from sklearn.model_selection import train_test_split\n",
    "from sklearn.ensemble import RandomForestClassifier\n",
    "\n",
    "aux = producer_df.iloc[:, :].drop(columns=['id'])\n",
    "\n",
    "aux_norm = scaler.fit_transform(aux)\n",
    "\n",
    "aux_pca_norm = pca.fit_transform(aux_norm)\n",
    "\n",
    "label_predict = fitting.predict(aux_pca_norm)\n",
    "\n",
    "label_predict\n",
    "\n",
    "label_predict\n",
    "aux['labels'] = label_predict\n",
    "\n",
    "X_train, X_test, y_train, y_test = train_test_split(aux.drop(columns=['labels']), aux['labels'], random_state=42, test_size=0.3)\n",
    "\n",
    "forest = RandomForestClassifier(random_state=0)\n",
    "forest.fit(X_train, y_train)\n",
    "\n",
    "importances = forest.feature_importances_\n",
    "importances"
   ]
  },
  {
   "cell_type": "code",
   "execution_count": 73,
   "metadata": {},
   "outputs": [
    {
     "data": {
      "text/plain": [
       "Index(['quantity_produced', 'residence', 'produces_special_coffee',\n",
       "       'coffee_score'],\n",
       "      dtype='object')"
      ]
     },
     "execution_count": 73,
     "metadata": {},
     "output_type": "execute_result"
    }
   ],
   "source": [
    "X_train.columns"
   ]
  },
  {
   "cell_type": "code",
   "execution_count": 74,
   "metadata": {},
   "outputs": [
    {
     "data": {
      "image/png": "[encoded data removed]",
      "text/plain": [
       "<Figure size 432x288 with 1 Axes>"
      ]
     },
     "metadata": {
      "needs_background": "light"
     },
     "output_type": "display_data"
    }
   ],
   "source": [
    "forest_importances = pd.Series(importances, index=X_train.columns)\n",
    "\n",
    "std = np.std([tree.feature_importances_ for tree in forest.estimators_], axis=0)\n",
    "\n",
    "fig, ax = plt.subplots()\n",
    "forest_importances.plot.bar(yerr=std, ax=ax)\n",
    "ax.set_title(\"Feature importances using MDI\")\n",
    "ax.set_ylabel(\"Mean decrease in impurity\")\n",
    "fig.tight_layout()"
   ]
  },
  {
   "cell_type": "code",
   "execution_count": 77,
   "metadata": {},
   "outputs": [
    {
     "data": {
      "image/png": "[encoded data removed]",
      "text/plain": [
       "<Figure size 432x288 with 1 Axes>"
      ]
     },
     "metadata": {
      "needs_background": "light"
     },
     "output_type": "display_data"
    }
   ],
   "source": [
    "ax = sns.barplot(x=\"labels\", y=\"coffee_score\", hue=\"residence\", data=producer_df)"
   ]
  },
  {
   "cell_type": "code",
   "execution_count": 81,
   "metadata": {},
   "outputs": [
    {
     "data": {
      "image/png": "[encoded data removed]",
      "text/plain": [
       "<Figure size 432x288 with 1 Axes>"
      ]
     },
     "metadata": {
      "needs_background": "light"
     },
     "output_type": "display_data"
    }
   ],
   "source": [
    "ax = sns.barplot(x=\"labels\", y=\"residence\", hue=\"produces_special_coffee\", data=producer_df)"
   ]
  },
  {
   "cell_type": "code",
   "execution_count": 82,
   "metadata": {},
   "outputs": [
    {
     "data": {
      "image/png": "[encoded data removed]",
      "text/plain": [
       "<Figure size 432x288 with 1 Axes>"
      ]
     },
     "metadata": {
      "needs_background": "light"
     },
     "output_type": "display_data"
    }
   ],
   "source": [
    "ax = sns.barplot(x=\"labels\", y=\"coffee_score\", data=producer_df)"
   ]
  },
  {
   "cell_type": "code",
   "execution_count": 83,
   "metadata": {},
   "outputs": [
    {
     "data": {
      "image/png": "[encoded data removed]",
      "text/plain": [
       "<Figure size 432x288 with 1 Axes>"
      ]
     },
     "metadata": {
      "needs_background": "light"
     },
     "output_type": "display_data"
    }
   ],
   "source": [
    "ax = sns.barplot(x=\"labels\", y=\"quantity_produced\", data=producer_df)"
   ]
  },
  {
   "cell_type": "code",
   "execution_count": null,
   "metadata": {},
   "outputs": [],
   "source": []
  }
 ],
 "metadata": {
  "kernelspec": {
   "display_name": "Python 3",
   "language": "python",
   "name": "python3"
  },
  "language_info": {
   "codemirror_mode": {
    "name": "ipython",
    "version": 3
   },
   "file_extension": ".py",
   "mimetype": "text/x-python",
   "name": "python",
   "nbconvert_exporter": "python",
   "pygments_lexer": "ipython3",
   "version": "3.9.1"
  }
 },
 "nbformat": 4,
 "nbformat_minor": 4
}
