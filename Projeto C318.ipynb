{
 "cells": [
  {
   "cell_type": "markdown",
   "metadata": {},
   "source": [
    "<h2  style=\"text-align: center\"> ML - Conecta café </h2><br>\n",
    "<div style=\"text-align: justify\"> Modelo de <i> machine learning </i> criado para a plataforma <b> Conecta Café </b> com o objetivo de reunir compradores de cafés especiais com cafeicultores que possuam <i>fit</i>.</div>"
   ]
  },
  {
   "cell_type": "markdown",
   "metadata": {},
   "source": [
    "<h3> Contexto </h3><br>\n",
    "<div style=\"text-align: justify\"> \n",
    "    Com o avanço da tecnologia, a conexão entre produtores e consumidores de produtos e serviços de qualquer natureza está se tornando cada vez maior, uma vez que ela permite expandir e democratizar o acesso a deles.\n",
    "    <br>\n",
    "    Pensando nisso, foi criado uma plataforma Web que tem como propósito de conectar facilmente cafeicultores e consumidores de cafés especiais. Nessa aplicação, o produtor pode cadastrar os dados do café produzido permitindo assim, que compradores possam realizar a pesquisa e encontrar o café de sua escolha.\n",
    "</div>"
   ]
  },
  {
   "cell_type": "markdown",
   "metadata": {},
   "source": [
    "<h3> Problemática </h3><br>\n",
    "<div style=\"text-align: justify\"> \n",
    "    Ao acessar o site o consumidor pode buscar pelo café inserindo alguns dados em um filtro. Porém, pense que o comprador não sabe o que procura, é apenas alguém que não possui conhecimento sobre cafés especiais, mas gostaria de experimentar algo novo. Não seria interessante a plataforma entender o comportamento desse cliente e realizar recomendações baseadas em alguns dados? </div>"
   ]
  },
  {
   "cell_type": "markdown",
   "metadata": {},
   "source": [
    "<h3> Proposta </h3><br>\n",
    "<div style=\"text-align: justify\"> \n",
    "A proposta é aproximar compradores com cafeicultores que possuem características semelhantes. Como por exemplo, baseado na condição financeira, onde consumidores de grandes quantidades de café sejam agrupados com produtores que produzam o suficiente para atendê-los. Isso é pensado para reduzir o <i> overflow </i> de dados atual da plataforma e melhorar o sistema de busca da aplicação.</div>"
   ]
  },
  {
   "cell_type": "markdown",
   "metadata": {},
   "source": [
    "---\n",
    "<h2  style=\"text-align: center\"> Projeto </h2>"
   ]
  },
  {
   "cell_type": "markdown",
   "metadata": {},
   "source": [
    "<h3> Informações </h3>\n",
    "\n",
    "Por ser uma plataforma ainda não colocada em produção, os dados ainda não foram coletados e por conta disso será criado um dataset que simula os dados reais.\n",
    "\n",
    "Para simular os dados, algumas regras de negócios foram utilizadas para dar mais coerência para os dataset, são elas:\n",
    "- Regras para o Produtor: \n",
    "    - Produtores que produzem café especial não podem ter nota abaixo de 80;\n",
    "    - Pela dificuldade de produzir café especial normalmente produtores que produzem esse tipo de café, produzem em uma quantidade menor de quem não produz;\n",
    "    - Avaliar o range da pontuação do café com base na região.\n",
    "\n",
    "- Regras para o Consumidor:\n",
    "    - Possivelmente quem tem interesse em café especial, está disposto a gastar mais.\n",
    "    - O tipo de consumidor (pessoa física ou jurídica) interfere na quantidade preterida, pois uma pessoa jurídica normalmente é um estabelecimento, ou seja, busca uma maior quantidade de cafés para compra."
   ]
  },
  {
   "cell_type": "markdown",
   "metadata": {},
   "source": [
    "<h3> Repositórios </h3>\n",
    "\n",
    "- **[🤖 API da plataforma](https://github.com/Brendhon/conecta-cafe-api)**\n",
    "- **[📟 Aplicação Web](https://github.com/GabrielGSD/Conecta_Cafe_React)**\n",
    "- **[🎰 Projeto ML](https://github.com/Brendhon/conecta-cafe-ml)**"
   ]
  },
  {
   "cell_type": "markdown",
   "metadata": {},
   "source": [
    "<h3> Autores </h3><br>\n",
    "\n",
    "<div style=\"display: flex;\"> \n",
    "\n",
    "<a href=\"https://github.com/Brendhon\" style=\"text-align: center\">\n",
    "    <img style=\"float:left; border-radius: 15px; display: inline; margin: 10px;\" src=\"https://github.com/brendhon.png\" width=\"120px;\" alt=\"autor\"/>\n",
    "    <br><br><br><br><br><br>\n",
    "    <strong > Brendhon Moreira </strong>\n",
    "</a>\n",
    "<br><br>\n",
    "<a href=\"https://github.com/GabrielGSD\" style=\"text-align: center\">\n",
    "    <img style=\"float:left; border-radius: 15px; display: inline;  margin: 10px;\" src=\"https://github.com/GabrielGSD.png\" width=\"120px;\" alt=\"autor\"/>\n",
    "    <br><br><br><br><br><br>\n",
    "    <strong > Gabriel Daniel </strong>\n",
    "</a>\n",
    "<br><br>\n",
    "<a href=\"https://github.com/MoisesSDelmoro\" style=\"text-align: center\">\n",
    "    <img style=\"float:left; border-radius: 15px; display: inline;  margin: 10px;\" src=\"https://github.com/MoisesSDelmoro.png\" width=\"120px;\" alt=\"autor\"/>\n",
    "    <br><br><br><br><br><br>\n",
    "    <strong >Moises Delmoro</strong>\n",
    "</a></div>"
   ]
  },
  {
   "cell_type": "markdown",
   "metadata": {},
   "source": [
    "---\n",
    "<h2  style=\"text-align: center\"> Desenvolvimento </h2><br>"
   ]
  },
  {
   "cell_type": "code",
   "execution_count": 1,
   "metadata": {
    "scrolled": true
   },
   "outputs": [
    {
     "name": "stdout",
     "output_type": "stream",
     "text": [
      "Requirement already satisfied: pandas in c:\\python39\\lib\\site-packages (1.2.1)\n",
      "Requirement already satisfied: numpy>=1.16.5 in c:\\python39\\lib\\site-packages (from pandas) (1.19.5)\n",
      "Requirement already satisfied: pytz>=2017.3 in c:\\python39\\lib\\site-packages (from pandas) (2020.5)\n",
      "Requirement already satisfied: python-dateutil>=2.7.3 in c:\\python39\\lib\\site-packages (from pandas) (2.8.1)\n",
      "Requirement already satisfied: six>=1.5 in c:\\python39\\lib\\site-packages (from python-dateutil>=2.7.3->pandas) (1.15.0)\n",
      "Requirement already satisfied: numpy in c:\\python39\\lib\\site-packages (1.19.5)\n",
      "Requirement already satisfied: requests in c:\\python39\\lib\\site-packages (2.13.0)\n",
      "Requirement already satisfied: scikit-learn in c:\\python39\\lib\\site-packages (0.24.2)\n",
      "Requirement already satisfied: threadpoolctl>=2.0.0 in c:\\python39\\lib\\site-packages (from scikit-learn) (2.2.0)\n",
      "Requirement already satisfied: scipy>=0.19.1 in c:\\python39\\lib\\site-packages (from scikit-learn) (1.7.1)\n",
      "Requirement already satisfied: joblib>=0.11 in c:\\python39\\lib\\site-packages (from scikit-learn) (1.0.1)\n",
      "Requirement already satisfied: numpy>=1.13.3 in c:\\python39\\lib\\site-packages (from scikit-learn) (1.19.5)\n",
      "Requirement already satisfied: scipy in c:\\python39\\lib\\site-packages (1.7.1)\n",
      "Requirement already satisfied: numpy<1.23.0,>=1.16.5 in c:\\python39\\lib\\site-packages (from scipy) (1.19.5)\n",
      "Requirement already satisfied: seaborn in c:\\python39\\lib\\site-packages (0.11.2)\n",
      "Requirement already satisfied: numpy>=1.15 in c:\\python39\\lib\\site-packages (from seaborn) (1.19.5)\n",
      "Requirement already satisfied: pandas>=0.23 in c:\\python39\\lib\\site-packages (from seaborn) (1.2.1)\n",
      "Requirement already satisfied: matplotlib>=2.2 in c:\\python39\\lib\\site-packages (from seaborn) (3.4.3)\n",
      "Requirement already satisfied: scipy>=1.0 in c:\\python39\\lib\\site-packages (from seaborn) (1.7.1)\n",
      "Requirement already satisfied: pillow>=6.2.0 in c:\\python39\\lib\\site-packages (from matplotlib>=2.2->seaborn) (8.3.2)\n",
      "Requirement already satisfied: cycler>=0.10 in c:\\python39\\lib\\site-packages (from matplotlib>=2.2->seaborn) (0.10.0)\n",
      "Requirement already satisfied: kiwisolver>=1.0.1 in c:\\python39\\lib\\site-packages (from matplotlib>=2.2->seaborn) (1.3.2)\n",
      "Requirement already satisfied: pyparsing>=2.2.1 in c:\\python39\\lib\\site-packages (from matplotlib>=2.2->seaborn) (2.4.7)\n",
      "Requirement already satisfied: python-dateutil>=2.7 in c:\\python39\\lib\\site-packages (from matplotlib>=2.2->seaborn) (2.8.1)\n",
      "Requirement already satisfied: six in c:\\python39\\lib\\site-packages (from cycler>=0.10->matplotlib>=2.2->seaborn) (1.15.0)\n",
      "Requirement already satisfied: pytz>=2017.3 in c:\\python39\\lib\\site-packages (from pandas>=0.23->seaborn) (2020.5)\n"
     ]
    }
   ],
   "source": [
    "# Instalando os pacotes necessários\n",
    "import sys\n",
    "!{sys.executable} -m pip install pandas \n",
    "!{sys.executable} -m pip install numpy \n",
    "!{sys.executable} -m pip install requests\n",
    "!{sys.executable} -m pip install scikit-learn\n",
    "!{sys.executable} -m pip install scipy \n",
    "!{sys.executable} -m pip install seaborn"
   ]
  },
  {
   "cell_type": "code",
   "execution_count": 2,
   "metadata": {},
   "outputs": [],
   "source": [
    "# Importar as biblotecas\n",
    "import pandas as pd\n",
    "import numpy as np\n",
    "import seaborn as sns\n",
    "import matplotlib.pyplot as plt\n",
    "import scipy.stats\n",
    "from sklearn import datasets\n",
    "from sklearn.cluster import KMeans\n",
    "from sklearn.decomposition import PCA\n",
    "from sklearn.preprocessing import StandardScaler\n",
    "from sklearn.model_selection import train_test_split\n",
    "from sklearn.ensemble import RandomForestClassifier\n",
    "\n",
    "# Permitir que as funções do arquivo de funções auxiliares sejam utilizadas\n",
    "%run auxiliary_functions.ipynb   "
   ]
  },
  {
   "cell_type": "markdown",
   "metadata": {},
   "source": [
    "<h3> Declarando Variaveis </h3>"
   ]
  },
  {
   "cell_type": "code",
   "execution_count": 3,
   "metadata": {},
   "outputs": [],
   "source": [
    "# Variaveis gerais\n",
    "dataset_size = 1000\n",
    "dataset_seed = 42\n",
    "\n",
    "# Variaveis do consumidor\n",
    "consumer_cols = \"ifcccc\"\n",
    "consumer_col_names = [\"id\", \"financial_condition\", \"residence\", \"search_special_coffee\", 'desired_quantity', 'person_type']\n",
    "consumer_intervals = [(1,100000000), (10.0,500.0), [1,2,3,4,5,6], [True, False], [0.5, 1, 60], [1,2]]\n",
    "\n",
    "# Variaveis do produtor\n",
    "producer_cols = \"iccci\"\n",
    "producer_col_names = [\"id\", \"quantity_produced\", \"residence\", \"produces_special_coffee\", \"coffee_score\"]\n",
    "producer_intervals = [(1,100000000), [0.5, 1, 60], [1,2,3,4,5,6], [True, False],  (0,100)]"
   ]
  },
  {
   "cell_type": "markdown",
   "metadata": {},
   "source": [
    "---"
   ]
  },
  {
   "cell_type": "markdown",
   "metadata": {},
   "source": [
    "<h3> Gerando tabelas auxiliares  </h3>\n",
    "<br>\n",
    "<i> Observação: Para poder utilizar os dados no modelo é necessário indexar certos atributos para que o modelo seja capaz de entender os dados, para isso foi feito a criação dessas tabelas </i><br>"
   ]
  },
  {
   "cell_type": "code",
   "execution_count": 4,
   "metadata": {
    "scrolled": false
   },
   "outputs": [
    {
     "data": {
      "text/html": [
       "<div>\n",
       "<style scoped>\n",
       "    .dataframe tbody tr th:only-of-type {\n",
       "        vertical-align: middle;\n",
       "    }\n",
       "\n",
       "    .dataframe tbody tr th {\n",
       "        vertical-align: top;\n",
       "    }\n",
       "\n",
       "    .dataframe thead th {\n",
       "        text-align: right;\n",
       "    }\n",
       "</style>\n",
       "<table border=\"1\" class=\"dataframe\">\n",
       "  <thead>\n",
       "    <tr style=\"text-align: right;\">\n",
       "      <th></th>\n",
       "      <th>residence_id</th>\n",
       "      <th>residence_name</th>\n",
       "    </tr>\n",
       "  </thead>\n",
       "  <tbody>\n",
       "    <tr>\n",
       "      <th>0</th>\n",
       "      <td>1</td>\n",
       "      <td>Bahia</td>\n",
       "    </tr>\n",
       "    <tr>\n",
       "      <th>1</th>\n",
       "      <td>2</td>\n",
       "      <td>Minas Gerais</td>\n",
       "    </tr>\n",
       "    <tr>\n",
       "      <th>2</th>\n",
       "      <td>3</td>\n",
       "      <td>Espírito Santo</td>\n",
       "    </tr>\n",
       "    <tr>\n",
       "      <th>3</th>\n",
       "      <td>4</td>\n",
       "      <td>Rio de Janeiro</td>\n",
       "    </tr>\n",
       "    <tr>\n",
       "      <th>4</th>\n",
       "      <td>5</td>\n",
       "      <td>São Paulo</td>\n",
       "    </tr>\n",
       "    <tr>\n",
       "      <th>5</th>\n",
       "      <td>6</td>\n",
       "      <td>Paraná</td>\n",
       "    </tr>\n",
       "  </tbody>\n",
       "</table>\n",
       "</div>"
      ],
      "text/plain": [
       "  residence_id  residence_name\n",
       "0            1           Bahia\n",
       "1            2    Minas Gerais\n",
       "2            3  Espírito Santo\n",
       "3            4  Rio de Janeiro\n",
       "4            5       São Paulo\n",
       "5            6          Paraná"
      ]
     },
     "execution_count": 4,
     "metadata": {},
     "output_type": "execute_result"
    }
   ],
   "source": [
    "# Tabela de residencias b\n",
    "states = [\"Bahia\", \"Minas Gerais\", \"Espírito Santo\", \"Rio de Janeiro\", \"São Paulo\", \"Paraná\"]\n",
    "states_id=[1,2,3,4,5,6]\n",
    "residence_df = pd.DataFrame(data=np.array([states_id, states]), index=[\"residence_id\", \"residence_name\"]).T\n",
    "residence_df\n",
    "\n",
    "# Durante algumas pesquisas foi encontrado os principais produtores de café no pais e com esses dados essa tabela foi criada\n",
    "# Reference: https://www.mokaclube.com.br/blog/regioes-cafeeiras-do-brasil/"
   ]
  },
  {
   "cell_type": "code",
   "execution_count": 5,
   "metadata": {},
   "outputs": [
    {
     "data": {
      "text/html": [
       "<div>\n",
       "<style scoped>\n",
       "    .dataframe tbody tr th:only-of-type {\n",
       "        vertical-align: middle;\n",
       "    }\n",
       "\n",
       "    .dataframe tbody tr th {\n",
       "        vertical-align: top;\n",
       "    }\n",
       "\n",
       "    .dataframe thead th {\n",
       "        text-align: right;\n",
       "    }\n",
       "</style>\n",
       "<table border=\"1\" class=\"dataframe\">\n",
       "  <thead>\n",
       "    <tr style=\"text-align: right;\">\n",
       "      <th></th>\n",
       "      <th>consumer_type_id</th>\n",
       "      <th>consumer_type</th>\n",
       "    </tr>\n",
       "  </thead>\n",
       "  <tbody>\n",
       "    <tr>\n",
       "      <th>0</th>\n",
       "      <td>1</td>\n",
       "      <td>Pessoa Física</td>\n",
       "    </tr>\n",
       "    <tr>\n",
       "      <th>1</th>\n",
       "      <td>2</td>\n",
       "      <td>Pessoa Jurídica</td>\n",
       "    </tr>\n",
       "  </tbody>\n",
       "</table>\n",
       "</div>"
      ],
      "text/plain": [
       "  consumer_type_id    consumer_type\n",
       "0                1    Pessoa Física\n",
       "1                2  Pessoa Jurídica"
      ]
     },
     "execution_count": 5,
     "metadata": {},
     "output_type": "execute_result"
    }
   ],
   "source": [
    "# Tabela de Tipo de pessoa (Física ou Jurídica)\n",
    "consumer_type = [\"Pessoa Física\", \"Pessoa Jurídica\"]\n",
    "consumer_type_id = [1,2]\n",
    "consumer_type_df = pd.DataFrame(data=np.array([consumer_type_id, consumer_type]), index=[\"consumer_type_id\", \"consumer_type\"]).T\n",
    "consumer_type_df"
   ]
  },
  {
   "cell_type": "markdown",
   "metadata": {},
   "source": [
    "---"
   ]
  },
  {
   "cell_type": "markdown",
   "metadata": {},
   "source": [
    "<h3> Gerando os dados do consumidor </h3>"
   ]
  },
  {
   "cell_type": "markdown",
   "metadata": {},
   "source": [
    "Pensando na coluna de quantidade preterida foi levado em conta se o consumidor é uma pessoa jurídica ou física. Isso é importante, pois uma pessoa jurídica normalmente é um estabelecimento, ou seja, busca uma maior quantidade de cafés para compra."
   ]
  },
  {
   "cell_type": "code",
   "execution_count": 6,
   "metadata": {
    "scrolled": false
   },
   "outputs": [
    {
     "data": {
      "text/html": [
       "<div>\n",
       "<style scoped>\n",
       "    .dataframe tbody tr th:only-of-type {\n",
       "        vertical-align: middle;\n",
       "    }\n",
       "\n",
       "    .dataframe tbody tr th {\n",
       "        vertical-align: top;\n",
       "    }\n",
       "\n",
       "    .dataframe thead th {\n",
       "        text-align: right;\n",
       "    }\n",
       "</style>\n",
       "<table border=\"1\" class=\"dataframe\">\n",
       "  <thead>\n",
       "    <tr style=\"text-align: right;\">\n",
       "      <th></th>\n",
       "      <th>person_type</th>\n",
       "      <th>desired_quantity</th>\n",
       "    </tr>\n",
       "  </thead>\n",
       "  <tbody>\n",
       "    <tr>\n",
       "      <th>0</th>\n",
       "      <td>2</td>\n",
       "      <td>60.0</td>\n",
       "    </tr>\n",
       "    <tr>\n",
       "      <th>1</th>\n",
       "      <td>1</td>\n",
       "      <td>1.0</td>\n",
       "    </tr>\n",
       "    <tr>\n",
       "      <th>2</th>\n",
       "      <td>1</td>\n",
       "      <td>1.0</td>\n",
       "    </tr>\n",
       "    <tr>\n",
       "      <th>3</th>\n",
       "      <td>1</td>\n",
       "      <td>0.5</td>\n",
       "    </tr>\n",
       "    <tr>\n",
       "      <th>4</th>\n",
       "      <td>2</td>\n",
       "      <td>60.0</td>\n",
       "    </tr>\n",
       "    <tr>\n",
       "      <th>5</th>\n",
       "      <td>2</td>\n",
       "      <td>60.0</td>\n",
       "    </tr>\n",
       "    <tr>\n",
       "      <th>6</th>\n",
       "      <td>2</td>\n",
       "      <td>60.0</td>\n",
       "    </tr>\n",
       "    <tr>\n",
       "      <th>7</th>\n",
       "      <td>2</td>\n",
       "      <td>60.0</td>\n",
       "    </tr>\n",
       "    <tr>\n",
       "      <th>8</th>\n",
       "      <td>2</td>\n",
       "      <td>60.0</td>\n",
       "    </tr>\n",
       "    <tr>\n",
       "      <th>9</th>\n",
       "      <td>1</td>\n",
       "      <td>1.0</td>\n",
       "    </tr>\n",
       "  </tbody>\n",
       "</table>\n",
       "</div>"
      ],
      "text/plain": [
       "   person_type  desired_quantity\n",
       "0            2              60.0\n",
       "1            1               1.0\n",
       "2            1               1.0\n",
       "3            1               0.5\n",
       "4            2              60.0\n",
       "5            2              60.0\n",
       "6            2              60.0\n",
       "7            2              60.0\n",
       "8            2              60.0\n",
       "9            1               1.0"
      ]
     },
     "execution_count": 6,
     "metadata": {},
     "output_type": "execute_result"
    }
   ],
   "source": [
    "columns = [\"person_type\", \"desired_quantity\"]\n",
    "data = generate_person_type_and_desired_quantity(dataset_size)\n",
    "desired_quantity_df = pd.DataFrame(data=data, columns = columns)\n",
    "desired_quantity_df.head(10)"
   ]
  },
  {
   "cell_type": "markdown",
   "metadata": {},
   "source": [
    "<br> Possivelmente quem tem interesse em café especial, está disposto a gastar mais"
   ]
  },
  {
   "cell_type": "code",
   "execution_count": 7,
   "metadata": {
    "scrolled": false
   },
   "outputs": [
    {
     "data": {
      "text/html": [
       "<div>\n",
       "<style scoped>\n",
       "    .dataframe tbody tr th:only-of-type {\n",
       "        vertical-align: middle;\n",
       "    }\n",
       "\n",
       "    .dataframe tbody tr th {\n",
       "        vertical-align: top;\n",
       "    }\n",
       "\n",
       "    .dataframe thead th {\n",
       "        text-align: right;\n",
       "    }\n",
       "</style>\n",
       "<table border=\"1\" class=\"dataframe\">\n",
       "  <thead>\n",
       "    <tr style=\"text-align: right;\">\n",
       "      <th></th>\n",
       "      <th>search_special_coffee</th>\n",
       "      <th>financial_condition</th>\n",
       "    </tr>\n",
       "  </thead>\n",
       "  <tbody>\n",
       "    <tr>\n",
       "      <th>0</th>\n",
       "      <td>False</td>\n",
       "      <td>96</td>\n",
       "    </tr>\n",
       "    <tr>\n",
       "      <th>1</th>\n",
       "      <td>True</td>\n",
       "      <td>334</td>\n",
       "    </tr>\n",
       "    <tr>\n",
       "      <th>2</th>\n",
       "      <td>False</td>\n",
       "      <td>115</td>\n",
       "    </tr>\n",
       "    <tr>\n",
       "      <th>3</th>\n",
       "      <td>False</td>\n",
       "      <td>129</td>\n",
       "    </tr>\n",
       "    <tr>\n",
       "      <th>4</th>\n",
       "      <td>True</td>\n",
       "      <td>247</td>\n",
       "    </tr>\n",
       "  </tbody>\n",
       "</table>\n",
       "</div>"
      ],
      "text/plain": [
       "   search_special_coffee  financial_condition\n",
       "0                  False                   96\n",
       "1                   True                  334\n",
       "2                  False                  115\n",
       "3                  False                  129\n",
       "4                   True                  247"
      ]
     },
     "execution_count": 7,
     "metadata": {},
     "output_type": "execute_result"
    }
   ],
   "source": [
    "columns=[\"search_special_coffee\", \"financial_condition\"]\n",
    "data=generate_search_special_coffee_and_financial_condition(dataset_size)\n",
    "quantity_financial_condition = pd.DataFrame(data=data, columns=columns)\n",
    "quantity_financial_condition.head()"
   ]
  },
  {
   "cell_type": "markdown",
   "metadata": {},
   "source": [
    "<h3> Gerando os dados do produtor </h3>"
   ]
  },
  {
   "cell_type": "markdown",
   "metadata": {},
   "source": [
    "Pontuação do café gerada com base na altitude e qualidade médias dos cafés nos estados pesquisados"
   ]
  },
  {
   "cell_type": "code",
   "execution_count": 8,
   "metadata": {
    "scrolled": false
   },
   "outputs": [
    {
     "data": {
      "text/html": [
       "<div>\n",
       "<style scoped>\n",
       "    .dataframe tbody tr th:only-of-type {\n",
       "        vertical-align: middle;\n",
       "    }\n",
       "\n",
       "    .dataframe tbody tr th {\n",
       "        vertical-align: top;\n",
       "    }\n",
       "\n",
       "    .dataframe thead th {\n",
       "        text-align: right;\n",
       "    }\n",
       "</style>\n",
       "<table border=\"1\" class=\"dataframe\">\n",
       "  <thead>\n",
       "    <tr style=\"text-align: right;\">\n",
       "      <th></th>\n",
       "      <th>residence_id</th>\n",
       "      <th>coffee_score</th>\n",
       "    </tr>\n",
       "  </thead>\n",
       "  <tbody>\n",
       "    <tr>\n",
       "      <th>0</th>\n",
       "      <td>3</td>\n",
       "      <td>64</td>\n",
       "    </tr>\n",
       "    <tr>\n",
       "      <th>1</th>\n",
       "      <td>5</td>\n",
       "      <td>71</td>\n",
       "    </tr>\n",
       "    <tr>\n",
       "      <th>2</th>\n",
       "      <td>5</td>\n",
       "      <td>77</td>\n",
       "    </tr>\n",
       "    <tr>\n",
       "      <th>3</th>\n",
       "      <td>6</td>\n",
       "      <td>82</td>\n",
       "    </tr>\n",
       "    <tr>\n",
       "      <th>4</th>\n",
       "      <td>6</td>\n",
       "      <td>68</td>\n",
       "    </tr>\n",
       "  </tbody>\n",
       "</table>\n",
       "</div>"
      ],
      "text/plain": [
       "   residence_id  coffee_score\n",
       "0             3            64\n",
       "1             5            71\n",
       "2             5            77\n",
       "3             6            82\n",
       "4             6            68"
      ]
     },
     "execution_count": 8,
     "metadata": {},
     "output_type": "execute_result"
    }
   ],
   "source": [
    "columns=[\"residence_id\", \"coffee_score\"]\n",
    "data=generate_coffee_score_and_residences(dataset_size)\n",
    "coffee_score_df = pd.DataFrame(data=data, columns=columns)\n",
    "coffee_score_df.head()"
   ]
  },
  {
   "cell_type": "markdown",
   "metadata": {},
   "source": [
    "<br>Pela dificuldade de produzir café especial normalmente produtores que produzem esse tipo de café, produzem em uma quantidade menor de quem não produz.\n"
   ]
  },
  {
   "cell_type": "code",
   "execution_count": 9,
   "metadata": {
    "scrolled": false
   },
   "outputs": [
    {
     "data": {
      "text/html": [
       "<div>\n",
       "<style scoped>\n",
       "    .dataframe tbody tr th:only-of-type {\n",
       "        vertical-align: middle;\n",
       "    }\n",
       "\n",
       "    .dataframe tbody tr th {\n",
       "        vertical-align: top;\n",
       "    }\n",
       "\n",
       "    .dataframe thead th {\n",
       "        text-align: right;\n",
       "    }\n",
       "</style>\n",
       "<table border=\"1\" class=\"dataframe\">\n",
       "  <thead>\n",
       "    <tr style=\"text-align: right;\">\n",
       "      <th></th>\n",
       "      <th>produces_special_coffee</th>\n",
       "      <th>quantity_produced</th>\n",
       "    </tr>\n",
       "  </thead>\n",
       "  <tbody>\n",
       "    <tr>\n",
       "      <th>0</th>\n",
       "      <td>True</td>\n",
       "      <td>962</td>\n",
       "    </tr>\n",
       "    <tr>\n",
       "      <th>1</th>\n",
       "      <td>True</td>\n",
       "      <td>744</td>\n",
       "    </tr>\n",
       "    <tr>\n",
       "      <th>2</th>\n",
       "      <td>True</td>\n",
       "      <td>913</td>\n",
       "    </tr>\n",
       "    <tr>\n",
       "      <th>3</th>\n",
       "      <td>False</td>\n",
       "      <td>1023</td>\n",
       "    </tr>\n",
       "    <tr>\n",
       "      <th>4</th>\n",
       "      <td>True</td>\n",
       "      <td>868</td>\n",
       "    </tr>\n",
       "  </tbody>\n",
       "</table>\n",
       "</div>"
      ],
      "text/plain": [
       "   produces_special_coffee  quantity_produced\n",
       "0                     True                962\n",
       "1                     True                744\n",
       "2                     True                913\n",
       "3                    False               1023\n",
       "4                     True                868"
      ]
     },
     "execution_count": 9,
     "metadata": {},
     "output_type": "execute_result"
    }
   ],
   "source": [
    "columns=[\"produces_special_coffee\", \"quantity_produced\"]\n",
    "data=generate_produces_special_coffee_and_quantity_produced(dataset_size)\n",
    "quantity_produced_df = pd.DataFrame(data=data, columns=columns)\n",
    "quantity_produced_df.head()"
   ]
  },
  {
   "cell_type": "markdown",
   "metadata": {},
   "source": [
    "---"
   ]
  },
  {
   "cell_type": "markdown",
   "metadata": {},
   "source": [
    "<h3> Gerando os dataframes </h3>"
   ]
  },
  {
   "cell_type": "code",
   "execution_count": 8,
   "metadata": {},
   "outputs": [],
   "source": [
    "# Dataframe do consumidor\n",
    "consumer_df = generate_fake_dataframe(\n",
    "  size = dataset_size, \n",
    "  cols = consumer_cols, \n",
    "  col_names = consumer_col_names,\n",
    "  intervals = consumer_intervals,\n",
    "  seed=dataset_seed)"
   ]
  },
  {
   "cell_type": "code",
   "execution_count": 10,
   "metadata": {},
   "outputs": [],
   "source": [
    "# Dataframe do produtor\n",
    "producer_df = generate_fake_dataframe(\n",
    "  size = dataset_size, \n",
    "  cols = producer_cols, \n",
    "  col_names = producer_col_names,\n",
    "  intervals = producer_intervals,\n",
    "  seed=dataset_seed)"
   ]
  },
  {
   "cell_type": "markdown",
   "metadata": {},
   "source": [
    "Obs: Os dados gerados pela função 'generate_fake_dataframe' não utiliza as regras de negócio definidas, portanto alguns de seus dados serão substituídos"
   ]
  },
  {
   "cell_type": "markdown",
   "metadata": {},
   "source": [
    "#### Alterando as colunas geradas randomicamente pelas geradas utilizando as regras de negócio"
   ]
  },
  {
   "cell_type": "code",
   "execution_count": 11,
   "metadata": {},
   "outputs": [],
   "source": [
    "# Alterando os dados do produtor\n",
    "producer_df['residence'] = coffee_score_df['residence_id']\n",
    "producer_df['coffee_score'] = coffee_score_df['coffee_score']\n",
    "\n",
    "producer_df['produces_special_coffee'] = quantity_produced_df['produces_special_coffee']\n",
    "producer_df['quantity_produced'] = quantity_produced_df['quantity_produced']"
   ]
  },
  {
   "cell_type": "code",
   "execution_count": 9,
   "metadata": {},
   "outputs": [],
   "source": [
    "# Alterando os dados do consumidor\n",
    "consumer_df['person_type'] = desired_quantity_df['person_type']\n",
    "consumer_df['desired_quantity'] = desired_quantity_df['desired_quantity']\n",
    "\n",
    "consumer_df['search_special_coffee'] = quantity_financial_condition['search_special_coffee']\n",
    "consumer_df['financial_condition'] = quantity_financial_condition['financial_condition']\n"
   ]
  },
  {
   "cell_type": "markdown",
   "metadata": {},
   "source": [
    "<br>\n",
    "Baseado na regra de que produtores de café especial não podem ter nota abaixo de 80, os valores fora desse padrão serão removidos"
   ]
  },
  {
   "cell_type": "code",
   "execution_count": 12,
   "metadata": {},
   "outputs": [],
   "source": [
    "# Removendo os produtores gerados que produzem café especial com nota abaixo de 80\n",
    "producer_df = producer_df.drop(producer_df[(producer_df['produces_special_coffee'] == True) \n",
    "                                           & (producer_df['coffee_score']  < 80)].index)"
   ]
  },
  {
   "cell_type": "markdown",
   "metadata": {},
   "source": [
    "#### Mostrando dataframes criados"
   ]
  },
  {
   "cell_type": "code",
   "execution_count": 13,
   "metadata": {
    "scrolled": true
   },
   "outputs": [
    {
     "data": {
      "text/html": [
       "<div>\n",
       "<style scoped>\n",
       "    .dataframe tbody tr th:only-of-type {\n",
       "        vertical-align: middle;\n",
       "    }\n",
       "\n",
       "    .dataframe tbody tr th {\n",
       "        vertical-align: top;\n",
       "    }\n",
       "\n",
       "    .dataframe thead th {\n",
       "        text-align: right;\n",
       "    }\n",
       "</style>\n",
       "<table border=\"1\" class=\"dataframe\">\n",
       "  <thead>\n",
       "    <tr style=\"text-align: right;\">\n",
       "      <th></th>\n",
       "      <th>id</th>\n",
       "      <th>quantity_produced</th>\n",
       "      <th>residence</th>\n",
       "      <th>produces_special_coffee</th>\n",
       "      <th>coffee_score</th>\n",
       "    </tr>\n",
       "  </thead>\n",
       "  <tbody>\n",
       "    <tr>\n",
       "      <th>3</th>\n",
       "      <td>43887844</td>\n",
       "      <td>1023</td>\n",
       "      <td>6</td>\n",
       "      <td>False</td>\n",
       "      <td>82</td>\n",
       "    </tr>\n",
       "    <tr>\n",
       "      <th>5</th>\n",
       "      <td>85859792</td>\n",
       "      <td>1040</td>\n",
       "      <td>2</td>\n",
       "      <td>False</td>\n",
       "      <td>76</td>\n",
       "    </tr>\n",
       "    <tr>\n",
       "      <th>6</th>\n",
       "      <td>8594564</td>\n",
       "      <td>631</td>\n",
       "      <td>6</td>\n",
       "      <td>False</td>\n",
       "      <td>72</td>\n",
       "    </tr>\n",
       "    <tr>\n",
       "      <th>8</th>\n",
       "      <td>20146954</td>\n",
       "      <td>546</td>\n",
       "      <td>6</td>\n",
       "      <td>False</td>\n",
       "      <td>78</td>\n",
       "    </tr>\n",
       "    <tr>\n",
       "      <th>9</th>\n",
       "      <td>9417735</td>\n",
       "      <td>788</td>\n",
       "      <td>2</td>\n",
       "      <td>False</td>\n",
       "      <td>88</td>\n",
       "    </tr>\n",
       "    <tr>\n",
       "      <th>10</th>\n",
       "      <td>52647898</td>\n",
       "      <td>1232</td>\n",
       "      <td>2</td>\n",
       "      <td>False</td>\n",
       "      <td>79</td>\n",
       "    </tr>\n",
       "    <tr>\n",
       "      <th>14</th>\n",
       "      <td>71747727</td>\n",
       "      <td>624</td>\n",
       "      <td>2</td>\n",
       "      <td>True</td>\n",
       "      <td>81</td>\n",
       "    </tr>\n",
       "    <tr>\n",
       "      <th>20</th>\n",
       "      <td>50035192</td>\n",
       "      <td>975</td>\n",
       "      <td>2</td>\n",
       "      <td>True</td>\n",
       "      <td>81</td>\n",
       "    </tr>\n",
       "    <tr>\n",
       "      <th>21</th>\n",
       "      <td>37079803</td>\n",
       "      <td>348</td>\n",
       "      <td>2</td>\n",
       "      <td>True</td>\n",
       "      <td>83</td>\n",
       "    </tr>\n",
       "    <tr>\n",
       "      <th>22</th>\n",
       "      <td>18254964</td>\n",
       "      <td>1315</td>\n",
       "      <td>2</td>\n",
       "      <td>False</td>\n",
       "      <td>84</td>\n",
       "    </tr>\n",
       "  </tbody>\n",
       "</table>\n",
       "</div>"
      ],
      "text/plain": [
       "          id  quantity_produced  residence  produces_special_coffee  \\\n",
       "3   43887844               1023          6                    False   \n",
       "5   85859792               1040          2                    False   \n",
       "6    8594564                631          6                    False   \n",
       "8   20146954                546          6                    False   \n",
       "9    9417735                788          2                    False   \n",
       "10  52647898               1232          2                    False   \n",
       "14  71747727                624          2                     True   \n",
       "20  50035192                975          2                     True   \n",
       "21  37079803                348          2                     True   \n",
       "22  18254964               1315          2                    False   \n",
       "\n",
       "    coffee_score  \n",
       "3             82  \n",
       "5             76  \n",
       "6             72  \n",
       "8             78  \n",
       "9             88  \n",
       "10            79  \n",
       "14            81  \n",
       "20            81  \n",
       "21            83  \n",
       "22            84  "
      ]
     },
     "execution_count": 13,
     "metadata": {},
     "output_type": "execute_result"
    }
   ],
   "source": [
    "# Mostrando uma amostra dos dados do produtor\n",
    "producer_df.head(10)"
   ]
  },
  {
   "cell_type": "code",
   "execution_count": 10,
   "metadata": {
    "scrolled": true
   },
   "outputs": [
    {
     "data": {
      "text/html": [
       "<div>\n",
       "<style scoped>\n",
       "    .dataframe tbody tr th:only-of-type {\n",
       "        vertical-align: middle;\n",
       "    }\n",
       "\n",
       "    .dataframe tbody tr th {\n",
       "        vertical-align: top;\n",
       "    }\n",
       "\n",
       "    .dataframe thead th {\n",
       "        text-align: right;\n",
       "    }\n",
       "</style>\n",
       "<table border=\"1\" class=\"dataframe\">\n",
       "  <thead>\n",
       "    <tr style=\"text-align: right;\">\n",
       "      <th></th>\n",
       "      <th>id</th>\n",
       "      <th>financial_condition</th>\n",
       "      <th>residence</th>\n",
       "      <th>search_special_coffee</th>\n",
       "      <th>desired_quantity</th>\n",
       "      <th>person_type</th>\n",
       "    </tr>\n",
       "  </thead>\n",
       "  <tbody>\n",
       "    <tr>\n",
       "      <th>0</th>\n",
       "      <td>8925096</td>\n",
       "      <td>96</td>\n",
       "      <td>3</td>\n",
       "      <td>False</td>\n",
       "      <td>60.0</td>\n",
       "      <td>2</td>\n",
       "    </tr>\n",
       "    <tr>\n",
       "      <th>1</th>\n",
       "      <td>77395605</td>\n",
       "      <td>334</td>\n",
       "      <td>2</td>\n",
       "      <td>True</td>\n",
       "      <td>1.0</td>\n",
       "      <td>1</td>\n",
       "    </tr>\n",
       "    <tr>\n",
       "      <th>2</th>\n",
       "      <td>65457152</td>\n",
       "      <td>115</td>\n",
       "      <td>3</td>\n",
       "      <td>False</td>\n",
       "      <td>1.0</td>\n",
       "      <td>1</td>\n",
       "    </tr>\n",
       "    <tr>\n",
       "      <th>3</th>\n",
       "      <td>43887844</td>\n",
       "      <td>129</td>\n",
       "      <td>4</td>\n",
       "      <td>False</td>\n",
       "      <td>0.5</td>\n",
       "      <td>1</td>\n",
       "    </tr>\n",
       "    <tr>\n",
       "      <th>4</th>\n",
       "      <td>43301524</td>\n",
       "      <td>247</td>\n",
       "      <td>1</td>\n",
       "      <td>True</td>\n",
       "      <td>60.0</td>\n",
       "      <td>2</td>\n",
       "    </tr>\n",
       "    <tr>\n",
       "      <th>5</th>\n",
       "      <td>85859792</td>\n",
       "      <td>351</td>\n",
       "      <td>5</td>\n",
       "      <td>True</td>\n",
       "      <td>60.0</td>\n",
       "      <td>2</td>\n",
       "    </tr>\n",
       "    <tr>\n",
       "      <th>6</th>\n",
       "      <td>8594564</td>\n",
       "      <td>143</td>\n",
       "      <td>2</td>\n",
       "      <td>False</td>\n",
       "      <td>60.0</td>\n",
       "      <td>2</td>\n",
       "    </tr>\n",
       "    <tr>\n",
       "      <th>7</th>\n",
       "      <td>69736803</td>\n",
       "      <td>321</td>\n",
       "      <td>6</td>\n",
       "      <td>True</td>\n",
       "      <td>60.0</td>\n",
       "      <td>2</td>\n",
       "    </tr>\n",
       "    <tr>\n",
       "      <th>8</th>\n",
       "      <td>20146954</td>\n",
       "      <td>331</td>\n",
       "      <td>5</td>\n",
       "      <td>True</td>\n",
       "      <td>60.0</td>\n",
       "      <td>2</td>\n",
       "    </tr>\n",
       "    <tr>\n",
       "      <th>9</th>\n",
       "      <td>9417735</td>\n",
       "      <td>119</td>\n",
       "      <td>2</td>\n",
       "      <td>False</td>\n",
       "      <td>1.0</td>\n",
       "      <td>1</td>\n",
       "    </tr>\n",
       "  </tbody>\n",
       "</table>\n",
       "</div>"
      ],
      "text/plain": [
       "         id  financial_condition  residence  search_special_coffee  \\\n",
       "0   8925096                   96          3                  False   \n",
       "1  77395605                  334          2                   True   \n",
       "2  65457152                  115          3                  False   \n",
       "3  43887844                  129          4                  False   \n",
       "4  43301524                  247          1                   True   \n",
       "5  85859792                  351          5                   True   \n",
       "6   8594564                  143          2                  False   \n",
       "7  69736803                  321          6                   True   \n",
       "8  20146954                  331          5                   True   \n",
       "9   9417735                  119          2                  False   \n",
       "\n",
       "   desired_quantity  person_type  \n",
       "0              60.0            2  \n",
       "1               1.0            1  \n",
       "2               1.0            1  \n",
       "3               0.5            1  \n",
       "4              60.0            2  \n",
       "5              60.0            2  \n",
       "6              60.0            2  \n",
       "7              60.0            2  \n",
       "8              60.0            2  \n",
       "9               1.0            1  "
      ]
     },
     "execution_count": 10,
     "metadata": {},
     "output_type": "execute_result"
    }
   ],
   "source": [
    "# Mostrando uma amostra dos dados do consumidor\n",
    "consumer_df.head(10)"
   ]
  },
  {
   "cell_type": "markdown",
   "metadata": {},
   "source": [
    "<br>\n",
    "\n",
    "---\n",
    "<h3> Modelagem do Consumidor </h3>"
   ]
  },
  {
   "cell_type": "markdown",
   "metadata": {},
   "source": [
    "#### Normalizando os dados\n",
    "Uma boa prática é normalizar os dados para que o processo de modelagem seja mais preciso"
   ]
  },
  {
   "cell_type": "code",
   "execution_count": 13,
   "metadata": {},
   "outputs": [],
   "source": [
    "# Declarando scaler para normalizar dataframes\n",
    "scaler = StandardScaler()\n",
    "\n",
    "# Removendo coluna ID pois ela não é importante para o processo\n",
    "aux_df = consumer_df\n",
    "aux_df.drop(columns=['id'])\n",
    "\n",
    "# Normalizando o dataframes\n",
    "normalized_consumer_df = scaler.fit_transform(aux_df)"
   ]
  },
  {
   "cell_type": "markdown",
   "metadata": {},
   "source": [
    "#### Implementando PCA\n",
    "Pela quantidade de variaveis ser alta o PCA será implementado para melhor visualizar os dados"
   ]
  },
  {
   "cell_type": "code",
   "execution_count": 14,
   "metadata": {},
   "outputs": [
    {
     "data": {
      "image/png": "[encoded data removed]",
      "text/plain": [
       "<Figure size 432x288 with 1 Axes>"
      ]
     },
     "metadata": {
      "needs_background": "light"
     },
     "output_type": "display_data"
    }
   ],
   "source": [
    "# Declarando PCA com 2 dimenções\n",
    "pca = PCA(n_components=2)\n",
    "\n",
    "# Pegando os dados após o fit_transform do PCA\n",
    "pca_consumer_df = pca.fit_transform(normalized_consumer_df)\n",
    "\n",
    "# Visualizando dados ajustados do consumidor\n",
    "plt.scatter(pca_consumer_df[:, 0], pca_consumer_df[:, 1])\n",
    "plt.show()"
   ]
  },
  {
   "cell_type": "markdown",
   "metadata": {},
   "source": [
    "#### Implementando o método do cotovelo para visualizar o melhor valor de K\n",
    "Vamos agora implementar o “método do cotovelo” para determinar o número de clusters. Isso pode ser feito usando WCSS (soma dos quadrados das distâncias dos pontos de dados)"
   ]
  },
  {
   "cell_type": "code",
   "execution_count": 15,
   "metadata": {
    "scrolled": true
   },
   "outputs": [
    {
     "data": {
      "image/png": "[encoded data removed]",
      "text/plain": [
       "<Figure size 432x288 with 1 Axes>"
      ]
     },
     "metadata": {
      "needs_background": "light"
     },
     "output_type": "display_data"
    }
   ],
   "source": [
    "wcss = []\n",
    "for i in range(1,11):\n",
    "    model = KMeans(n_clusters = i, init = \"k-means++\")\n",
    "    model.fit(pca_consumer_df)\n",
    "    wcss.append(model.inertia_)\n",
    "plt.plot(range(1,11), wcss)\n",
    "plt.xlabel('Número de clusters')\n",
    "plt.ylabel('WCSS')\n",
    "plt.show()"
   ]
  },
  {
   "cell_type": "markdown",
   "metadata": {},
   "source": [
    "Como podemos observar o cotovelo se encontra no 4, ou seja, será usado 4 clusters para o consumidor "
   ]
  },
  {
   "cell_type": "code",
   "execution_count": 16,
   "metadata": {},
   "outputs": [],
   "source": [
    "k = 4"
   ]
  },
  {
   "cell_type": "markdown",
   "metadata": {},
   "source": [
    "#### Alimentando modelo"
   ]
  },
  {
   "cell_type": "code",
   "execution_count": 17,
   "metadata": {
    "scrolled": true
   },
   "outputs": [
    {
     "data": {
      "image/png": "[encoded data removed]",
      "text/plain": [
       "<Figure size 432x288 with 1 Axes>"
      ]
     },
     "metadata": {
      "needs_background": "light"
     },
     "output_type": "display_data"
    }
   ],
   "source": [
    "# Declarando modelo com 3 clusters\n",
    "model = KMeans(n_clusters = k, init = \"k-means++\")\n",
    "\n",
    "# Ajustando modelo com base nos dados fornecidos pelo PCA\n",
    "model_v1 = model.fit(pca_consumer_df)\n",
    "\n",
    "# Pegando centroids\n",
    "centers = model_v1.cluster_centers_\n",
    "\n",
    "# Visualizando dados modelados e agrupados\n",
    "plt.scatter(pca_consumer_df[:, 0], pca_consumer_df[:, 1], c= model_v1.labels_.astype(float), s=50, alpha=0.5)\n",
    "plt.scatter(centers[:, 0], centers[:, 1], marker=\"o\", color='r', label='centroids')\n",
    "plt.legend(scatterpoints=1)\n",
    "plt.show()"
   ]
  },
  {
   "cell_type": "markdown",
   "metadata": {},
   "source": [
    "#### Pegando o resultado da modelagem"
   ]
  },
  {
   "cell_type": "code",
   "execution_count": 18,
   "metadata": {
    "scrolled": true
   },
   "outputs": [
    {
     "data": {
      "text/html": [
       "<div>\n",
       "<style scoped>\n",
       "    .dataframe tbody tr th:only-of-type {\n",
       "        vertical-align: middle;\n",
       "    }\n",
       "\n",
       "    .dataframe tbody tr th {\n",
       "        vertical-align: top;\n",
       "    }\n",
       "\n",
       "    .dataframe thead th {\n",
       "        text-align: right;\n",
       "    }\n",
       "</style>\n",
       "<table border=\"1\" class=\"dataframe\">\n",
       "  <thead>\n",
       "    <tr style=\"text-align: right;\">\n",
       "      <th></th>\n",
       "      <th>id</th>\n",
       "      <th>financial_condition</th>\n",
       "      <th>residence</th>\n",
       "      <th>search_special_coffee</th>\n",
       "      <th>desired_quantity</th>\n",
       "      <th>person_type</th>\n",
       "      <th>labels</th>\n",
       "    </tr>\n",
       "  </thead>\n",
       "  <tbody>\n",
       "    <tr>\n",
       "      <th>0</th>\n",
       "      <td>8925096</td>\n",
       "      <td>96</td>\n",
       "      <td>3</td>\n",
       "      <td>False</td>\n",
       "      <td>60.0</td>\n",
       "      <td>2</td>\n",
       "      <td>0</td>\n",
       "    </tr>\n",
       "    <tr>\n",
       "      <th>1</th>\n",
       "      <td>77395605</td>\n",
       "      <td>334</td>\n",
       "      <td>2</td>\n",
       "      <td>True</td>\n",
       "      <td>1.0</td>\n",
       "      <td>1</td>\n",
       "      <td>2</td>\n",
       "    </tr>\n",
       "    <tr>\n",
       "      <th>2</th>\n",
       "      <td>65457152</td>\n",
       "      <td>115</td>\n",
       "      <td>3</td>\n",
       "      <td>False</td>\n",
       "      <td>1.0</td>\n",
       "      <td>1</td>\n",
       "      <td>1</td>\n",
       "    </tr>\n",
       "    <tr>\n",
       "      <th>3</th>\n",
       "      <td>43887844</td>\n",
       "      <td>129</td>\n",
       "      <td>4</td>\n",
       "      <td>False</td>\n",
       "      <td>0.5</td>\n",
       "      <td>1</td>\n",
       "      <td>1</td>\n",
       "    </tr>\n",
       "    <tr>\n",
       "      <th>4</th>\n",
       "      <td>43301524</td>\n",
       "      <td>247</td>\n",
       "      <td>1</td>\n",
       "      <td>True</td>\n",
       "      <td>60.0</td>\n",
       "      <td>2</td>\n",
       "      <td>3</td>\n",
       "    </tr>\n",
       "    <tr>\n",
       "      <th>5</th>\n",
       "      <td>85859792</td>\n",
       "      <td>351</td>\n",
       "      <td>5</td>\n",
       "      <td>True</td>\n",
       "      <td>60.0</td>\n",
       "      <td>2</td>\n",
       "      <td>3</td>\n",
       "    </tr>\n",
       "    <tr>\n",
       "      <th>6</th>\n",
       "      <td>8594564</td>\n",
       "      <td>143</td>\n",
       "      <td>2</td>\n",
       "      <td>False</td>\n",
       "      <td>60.0</td>\n",
       "      <td>2</td>\n",
       "      <td>0</td>\n",
       "    </tr>\n",
       "    <tr>\n",
       "      <th>7</th>\n",
       "      <td>69736803</td>\n",
       "      <td>321</td>\n",
       "      <td>6</td>\n",
       "      <td>True</td>\n",
       "      <td>60.0</td>\n",
       "      <td>2</td>\n",
       "      <td>3</td>\n",
       "    </tr>\n",
       "    <tr>\n",
       "      <th>8</th>\n",
       "      <td>20146954</td>\n",
       "      <td>331</td>\n",
       "      <td>5</td>\n",
       "      <td>True</td>\n",
       "      <td>60.0</td>\n",
       "      <td>2</td>\n",
       "      <td>3</td>\n",
       "    </tr>\n",
       "    <tr>\n",
       "      <th>9</th>\n",
       "      <td>9417735</td>\n",
       "      <td>119</td>\n",
       "      <td>2</td>\n",
       "      <td>False</td>\n",
       "      <td>1.0</td>\n",
       "      <td>1</td>\n",
       "      <td>1</td>\n",
       "    </tr>\n",
       "  </tbody>\n",
       "</table>\n",
       "</div>"
      ],
      "text/plain": [
       "         id  financial_condition  residence  search_special_coffee  \\\n",
       "0   8925096                   96          3                  False   \n",
       "1  77395605                  334          2                   True   \n",
       "2  65457152                  115          3                  False   \n",
       "3  43887844                  129          4                  False   \n",
       "4  43301524                  247          1                   True   \n",
       "5  85859792                  351          5                   True   \n",
       "6   8594564                  143          2                  False   \n",
       "7  69736803                  321          6                   True   \n",
       "8  20146954                  331          5                   True   \n",
       "9   9417735                  119          2                  False   \n",
       "\n",
       "   desired_quantity  person_type  labels  \n",
       "0              60.0            2       0  \n",
       "1               1.0            1       2  \n",
       "2               1.0            1       1  \n",
       "3               0.5            1       1  \n",
       "4              60.0            2       3  \n",
       "5              60.0            2       3  \n",
       "6              60.0            2       0  \n",
       "7              60.0            2       3  \n",
       "8              60.0            2       3  \n",
       "9               1.0            1       1  "
      ]
     },
     "execution_count": 18,
     "metadata": {},
     "output_type": "execute_result"
    }
   ],
   "source": [
    "# Realizando o predict para encontrar os labels\n",
    "labels = model_v1.predict(pca_consumer_df)\n",
    "\n",
    "# Criando nova coluna com os Labels\n",
    "consumer_df['labels'] = labels\n",
    "\n",
    "# Visualizando dataframe com nova coluna\n",
    "consumer_df.head(10)"
   ]
  },
  {
   "cell_type": "markdown",
   "metadata": {},
   "source": [
    "#### Simulando novos produtores e classificando-os utilizando o modelo atual"
   ]
  },
  {
   "cell_type": "code",
   "execution_count": 20,
   "metadata": {},
   "outputs": [
    {
     "data": {
      "text/html": [
       "<div>\n",
       "<style scoped>\n",
       "    .dataframe tbody tr th:only-of-type {\n",
       "        vertical-align: middle;\n",
       "    }\n",
       "\n",
       "    .dataframe tbody tr th {\n",
       "        vertical-align: top;\n",
       "    }\n",
       "\n",
       "    .dataframe thead th {\n",
       "        text-align: right;\n",
       "    }\n",
       "</style>\n",
       "<table border=\"1\" class=\"dataframe\">\n",
       "  <thead>\n",
       "    <tr style=\"text-align: right;\">\n",
       "      <th></th>\n",
       "      <th>financial_condition</th>\n",
       "      <th>residence</th>\n",
       "      <th>search_special_coffee</th>\n",
       "      <th>desired_quantity</th>\n",
       "      <th>person_type</th>\n",
       "      <th>labels</th>\n",
       "    </tr>\n",
       "  </thead>\n",
       "  <tbody>\n",
       "    <tr>\n",
       "      <th>10</th>\n",
       "      <td>116</td>\n",
       "      <td>4</td>\n",
       "      <td>False</td>\n",
       "      <td>0.5</td>\n",
       "      <td>1</td>\n",
       "      <td>0</td>\n",
       "    </tr>\n",
       "    <tr>\n",
       "      <th>11</th>\n",
       "      <td>324</td>\n",
       "      <td>1</td>\n",
       "      <td>True</td>\n",
       "      <td>60.0</td>\n",
       "      <td>2</td>\n",
       "      <td>2</td>\n",
       "    </tr>\n",
       "    <tr>\n",
       "      <th>12</th>\n",
       "      <td>100</td>\n",
       "      <td>1</td>\n",
       "      <td>False</td>\n",
       "      <td>60.0</td>\n",
       "      <td>2</td>\n",
       "      <td>3</td>\n",
       "    </tr>\n",
       "    <tr>\n",
       "      <th>13</th>\n",
       "      <td>139</td>\n",
       "      <td>6</td>\n",
       "      <td>False</td>\n",
       "      <td>1.0</td>\n",
       "      <td>1</td>\n",
       "      <td>0</td>\n",
       "    </tr>\n",
       "    <tr>\n",
       "      <th>14</th>\n",
       "      <td>298</td>\n",
       "      <td>5</td>\n",
       "      <td>True</td>\n",
       "      <td>60.0</td>\n",
       "      <td>2</td>\n",
       "      <td>1</td>\n",
       "    </tr>\n",
       "  </tbody>\n",
       "</table>\n",
       "</div>"
      ],
      "text/plain": [
       "    financial_condition  residence  search_special_coffee  desired_quantity  \\\n",
       "10                  116          4                  False               0.5   \n",
       "11                  324          1                   True              60.0   \n",
       "12                  100          1                  False              60.0   \n",
       "13                  139          6                  False               1.0   \n",
       "14                  298          5                   True              60.0   \n",
       "\n",
       "    person_type  labels  \n",
       "10            1       0  \n",
       "11            2       2  \n",
       "12            2       3  \n",
       "13            1       0  \n",
       "14            2       1  "
      ]
     },
     "execution_count": 20,
     "metadata": {},
     "output_type": "execute_result"
    }
   ],
   "source": [
    "# Pegando alguns dados da tabela para simular novos produtores\n",
    "new_consumer_df = consumer_df.iloc[10:15, :].drop(columns=['id', 'labels'])\n",
    "\n",
    "# Normalizando\n",
    "new_consumer_df_norm = scaler.fit_transform(new_consumer_df)\n",
    "\n",
    "# PCA\n",
    "new_consumer_df_pca_norm = pca.fit_transform(new_consumer_df_norm)\n",
    "\n",
    "# Predict dos novos produtores\n",
    "label_predict = model_v1.predict(new_consumer_df_pca_norm)\n",
    "\n",
    "# Adicionando resultados em uma nova coluna\n",
    "new_consumer_df['labels'] = label_predict\n",
    "\n",
    "# Mostrando os resultados\n",
    "new_consumer_df"
   ]
  },
  {
   "cell_type": "markdown",
   "metadata": {},
   "source": [
    "Podemos observar que para realizar o predict de um novo dado uma serie de tratativas são feitas para que esses dados sejam entendíveis pelo modelo.\n",
    "\n",
    "Com isso em mente, e possuindo agora as variáveis de saída (coluna labels) vamos utilizar um classificador supervisionado para realizar a classificação de novos dados."
   ]
  },
  {
   "cell_type": "markdown",
   "metadata": {},
   "source": [
    "#### Treinando o classificador"
   ]
  },
  {
   "cell_type": "code",
   "execution_count": 25,
   "metadata": {
    "scrolled": true
   },
   "outputs": [
    {
     "data": {
      "image/png": "[encoded data removed]",
      "text/plain": [
       "<Figure size 432x288 with 1 Axes>"
      ]
     },
     "metadata": {
      "needs_background": "light"
     },
     "output_type": "display_data"
    }
   ],
   "source": [
    "# Separando dados para teste e para o predict\n",
    "X_train, X_test, y_train, y_test = train_test_split(consumer_df.drop(columns=['labels', 'id']), consumer_df['labels'], random_state=42, test_size=0.3)\n",
    "\n",
    "\n",
    "# Declarando o ramdom forest\n",
    "forest = RandomForestClassifier(random_state=0)\n",
    "\n",
    "# Trainando o modelo\n",
    "forest.fit(X_train, y_train)\n",
    "\n",
    "# Pegando as feature importantes\n",
    "importances = forest.feature_importances_\n",
    "\n",
    "# Criando um serie par visualizar melhor as features importantes\n",
    "forest_importances = pd.Series(importances, index=X_train.columns)\n",
    "\n",
    "# Pegando o desvio padrão\n",
    "std = np.std([tree.feature_importances_ for tree in forest.estimators_], axis=0)\n",
    "\n",
    "# Visualizando as variavies mais importantes para o classificador\n",
    "fig, ax = plt.subplots()\n",
    "forest_importances.plot.bar(yerr=std, ax=ax)\n",
    "ax.set_title(\"Feature importances using MDI\")\n",
    "ax.set_ylabel(\"Mean decrease in impurity\")\n",
    "fig.tight_layout()"
   ]
  },
  {
   "cell_type": "markdown",
   "metadata": {},
   "source": [
    "Verificamos que a residência não possui importância nenhuma para o classificador"
   ]
  },
  {
   "cell_type": "markdown",
   "metadata": {},
   "source": [
    "#### Avaliando o novo classificador"
   ]
  },
  {
   "cell_type": "code",
   "execution_count": 24,
   "metadata": {},
   "outputs": [
    {
     "data": {
      "text/plain": [
       "1.0"
      ]
     },
     "execution_count": 24,
     "metadata": {},
     "output_type": "execute_result"
    }
   ],
   "source": [
    "from sklearn.metrics import accuracy_score\n",
    "\n",
    "new_consumer_df = consumer_df.iloc[10:20, :]\n",
    "\n",
    "y_true = new_consumer_df['labels']\n",
    "x_real = new_consumer_df.drop(columns=['labels', 'id'])\n",
    "\n",
    "y_pred = forest.predict(x_real)\n",
    "\n",
    "# Avaliando o classificador\n",
    "accuracy_score(y_true, y_pred)"
   ]
  },
  {
   "cell_type": "markdown",
   "metadata": {},
   "source": [
    "Resultado: Podemos observar que o classificador por possuir um score geral perfeito para o projeto atual. Com isso, vamos utilizar o classificador supervisionado para realizar as novas classificações"
   ]
  },
  {
   "cell_type": "markdown",
   "metadata": {},
   "source": [
    "### Análise exploratória\n",
    "Para isso, será utilizado a biblioteca seaborn para melhor visualizar os dados"
   ]
  },
  {
   "cell_type": "code",
   "execution_count": 29,
   "metadata": {
    "scrolled": false
   },
   "outputs": [
    {
     "data": {
      "image/png": "[encoded data removed]",
      "text/plain": [
       "<Figure size 432x288 with 1 Axes>"
      ]
     },
     "metadata": {
      "needs_background": "light"
     },
     "output_type": "display_data"
    }
   ],
   "source": [
    "# Visualizando a se procura café especial por região e labels\n",
    "ax = sns.barplot(x=\"labels\", y=\"residence\", hue=\"search_special_coffee\", data=consumer_df).set_title('Figura 1')"
   ]
  },
  {
   "cell_type": "code",
   "execution_count": 30,
   "metadata": {},
   "outputs": [
    {
     "data": {
      "image/png": "[encoded data removed]",
      "text/plain": [
       "<Figure size 432x288 with 1 Axes>"
      ]
     },
     "metadata": {
      "needs_background": "light"
     },
     "output_type": "display_data"
    }
   ],
   "source": [
    "# Visualizando a condição financeira por labels\n",
    "ax = sns.barplot(x=\"labels\", y=\"financial_condition\", data=consumer_df).set_title('Figura 2')"
   ]
  },
  {
   "cell_type": "code",
   "execution_count": 32,
   "metadata": {
    "scrolled": true
   },
   "outputs": [
    {
     "data": {
      "image/png": "[encoded data removed]",
      "text/plain": [
       "<Figure size 432x288 with 1 Axes>"
      ]
     },
     "metadata": {
      "needs_background": "light"
     },
     "output_type": "display_data"
    }
   ],
   "source": [
    "# Visualizando a quantidade requerida por labels\n",
    "ax = sns.barplot(x=\"labels\", y=\"desired_quantity\", data=consumer_df).set_title('Figura 3')"
   ]
  },
  {
   "cell_type": "code",
   "execution_count": 33,
   "metadata": {},
   "outputs": [
    {
     "data": {
      "image/png": "[encoded data removed]",
      "text/plain": [
       "<Figure size 432x288 with 1 Axes>"
      ]
     },
     "metadata": {
      "needs_background": "light"
     },
     "output_type": "display_data"
    }
   ],
   "source": [
    "# Visualizando a quantidade de labels\n",
    "labels = consumer_df['labels'].value_counts()\n",
    "labels_df = pd.DataFrame(data=np.array([labels.index.values, labels.values]), index=[\"labels\", \"count\"]).T\n",
    "ax = sns.barplot(x=\"labels\", y=\"count\", data=labels_df).set_title('Figura 4')"
   ]
  },
  {
   "cell_type": "code",
   "execution_count": 34,
   "metadata": {},
   "outputs": [
    {
     "data": {
      "image/png": "[encoded data removed]",
      "text/plain": [
       "<Figure size 432x288 with 1 Axes>"
      ]
     },
     "metadata": {
      "needs_background": "light"
     },
     "output_type": "display_data"
    }
   ],
   "source": [
    "# Visualizando a tipo de pessoa por labels\n",
    "ax = sns.barplot(x=\"labels\", y=\"person_type\", data=consumer_df).set_title('Figura 5')"
   ]
  },
  {
   "cell_type": "markdown",
   "metadata": {},
   "source": [
    "### Conclusão"
   ]
  },
  {
   "cell_type": "markdown",
   "metadata": {},
   "source": [
    "Analisando as figuras podemos observar que:\n",
    "- Figura 1: Em relação à procura de café especial:\n",
    "    - Label 0: Procura apenas cafés normais;\n",
    "    - Label 1: Procura apenas cafés normais;\n",
    "    - Label 2: Procura apenas cafés especiais;\n",
    "    - Label 3: Procura apenas cafés especiais.\n",
    "- Figura 2: Condição financeira do consumidor:\n",
    "    - Label 0: Estão dispostos a gastar menos;\n",
    "    - Label 1: Estão dispostos a gastar menos;\n",
    "    - Label 2: Estão dispostos a gastar;\n",
    "    - Label 3: Estão dispostos a gastar.\n",
    "- Figura 3: Se produtor procura (0.5kg, 1kg ou 60kg):\n",
    "    - Label 0: Procura uma safra;\n",
    "    - Label 1: Não procura uma safra;\n",
    "    - Label 2: Não procura uma safra;\n",
    "    - Label 3: Procura uma safra;\n",
    "- Figura 4: Quantidade de labels:\n",
    "    - Label 0: Possui uma boa quantidade de consumidores;\n",
    "    - Label 1: Possui a maior quantidade de consumidores;\n",
    "    - Label 2: Possui uma quantidade média de consumidores;\n",
    "    - Label 3: Possui uma pequena quantidade de consumidores;\n",
    "- Figura 5: Tipo de pessoa por labels:\n",
    "    - Label 0: Possui apenas consumidores do tipo pessoa jurídica;\n",
    "    - Label 1: Possui apenas consumidores do tipo pessoa física;\n",
    "    - Label 2: Possui apenas consumidores do tipo pessoa física;\n",
    "    - Label 3: Possui apenas consumidores do tipo pessoa jurídica;"
   ]
  },
  {
   "cell_type": "markdown",
   "metadata": {},
   "source": [
    "Com as observações das figuras podemos dizer que:\n",
    "- Label 0: É uma das classes mais comuns, os consumidores dessa classe buscam cafés normais e não estão dispostos a gastar muito, porém procuram uma safra e com isso supomos que sejam estabelecimentos em busca de cafés para venda;\n",
    "- Label 1: São os consumidores mais comuns, eles buscam cafés normais e não estão dispostos a gastar muito como também buscam em pequenas quantidades é de se imaginar então que são apenas pessoas comuns em busca de um cafezinho;\n",
    "- Label 2: Consumidores dessa classe buscam cafés especiais e estão dispostas a gastar mais por isso, como também buscam em pequenas quantidades é de se imaginar então que são apenas pessoas comuns em busca de um café mais bem avaliado;\n",
    "- Label 3: Consumidores dessa classe são poucos, eles buscam cafés especiais e estão dispostas a gastar mais por isso, porém procuram uma safra e com isso supomos que sejam estabelecimentos especializados em trabalhar com cafés especiais por esse motivo são poucos;"
   ]
  },
  {
   "cell_type": "markdown",
   "metadata": {},
   "source": [
    "Com os resultados encontrados foram definidos os seguintes significados para os labels:\n",
    "- Label 0: \n",
    "    - Título: Estabelecimento comum;\n",
    "    - Descrição: São normalmente estabelecimentos em busca de uma grande quantidade de cafés comuns.\n",
    "- Label 1:\n",
    "    - Título: Consumidor comum; \n",
    "    - Descrição: São normalmente pessoas em busca de uma pequena quantidade de cafés comuns.\n",
    "- Label 2: \n",
    "    - Título: Consumidor especial;\n",
    "    - Descrição: São normalmente pessoas em busca de uma pequena quantidade de cafés especiais.\n",
    "- Label 3: \n",
    "    - Título: Estabelecimento especial;\n",
    "    - Descrição: São raros, mas são normalmente estabelecimentos em busca de uma grande quantidade de cafés especiais para comercialização."
   ]
  },
  {
   "cell_type": "code",
   "execution_count": 36,
   "metadata": {
    "scrolled": true
   },
   "outputs": [
    {
     "data": {
      "text/html": [
       "<div>\n",
       "<style scoped>\n",
       "    .dataframe tbody tr th:only-of-type {\n",
       "        vertical-align: middle;\n",
       "    }\n",
       "\n",
       "    .dataframe tbody tr th {\n",
       "        vertical-align: top;\n",
       "    }\n",
       "\n",
       "    .dataframe thead th {\n",
       "        text-align: right;\n",
       "    }\n",
       "</style>\n",
       "<table border=\"1\" class=\"dataframe\">\n",
       "  <thead>\n",
       "    <tr style=\"text-align: right;\">\n",
       "      <th></th>\n",
       "      <th>id</th>\n",
       "      <th>title</th>\n",
       "      <th>description</th>\n",
       "    </tr>\n",
       "  </thead>\n",
       "  <tbody>\n",
       "    <tr>\n",
       "      <th>0</th>\n",
       "      <td>0</td>\n",
       "      <td>Estabelecimento comum</td>\n",
       "      <td>São normalmente estabelecimentos em busca de u...</td>\n",
       "    </tr>\n",
       "    <tr>\n",
       "      <th>1</th>\n",
       "      <td>1</td>\n",
       "      <td>Consumidor comum</td>\n",
       "      <td>São normalmente pessoas em busca de uma pequen...</td>\n",
       "    </tr>\n",
       "    <tr>\n",
       "      <th>2</th>\n",
       "      <td>2</td>\n",
       "      <td>Consumidor especial</td>\n",
       "      <td>São normalmente pessoas em busca de uma pequen...</td>\n",
       "    </tr>\n",
       "    <tr>\n",
       "      <th>3</th>\n",
       "      <td>3</td>\n",
       "      <td>Estabelecimento especial</td>\n",
       "      <td>São raros mas são normalmente estabelecimentos...</td>\n",
       "    </tr>\n",
       "  </tbody>\n",
       "</table>\n",
       "</div>"
      ],
      "text/plain": [
       "  id                     title  \\\n",
       "0  0     Estabelecimento comum   \n",
       "1  1          Consumidor comum   \n",
       "2  2       Consumidor especial   \n",
       "3  3  Estabelecimento especial   \n",
       "\n",
       "                                         description  \n",
       "0  São normalmente estabelecimentos em busca de u...  \n",
       "1  São normalmente pessoas em busca de uma pequen...  \n",
       "2  São normalmente pessoas em busca de uma pequen...  \n",
       "3  São raros mas são normalmente estabelecimentos...  "
      ]
     },
     "execution_count": 36,
     "metadata": {},
     "output_type": "execute_result"
    }
   ],
   "source": [
    "# Criando tabela para os labels do Consumidor\n",
    "tittle = [\"Estabelecimento comum\", \"Consumidor comum\", \"Consumidor especial\", \"Estabelecimento especial\"]\n",
    "description = [\"São normalmente estabelecimentos em busca de uma grande quantidade de cafés comuns\", \"São normalmente pessoas em busca de uma pequena quantidade de cafés comuns\", \"São normalmente pessoas em busca de uma pequena quantidade de cafés especiais\", \"São raros mas são normalmente estabelecimentos em busca de uma grande quantidade de cafés especias para comercialização.\"]\n",
    "label_id=[0,1,2,3]\n",
    "\n",
    "data = np.array([label_id, tittle, description])\n",
    "index=[\"id\", \"title\", \"description\"]\n",
    "consumer_labels_df = pd.DataFrame(data=data, index=index).T\n",
    "consumer_labels_df"
   ]
  },
  {
   "cell_type": "markdown",
   "metadata": {},
   "source": [
    "<br>\n",
    "\n",
    "---\n",
    "<h3> Modelagem do Produtor </h3>"
   ]
  },
  {
   "cell_type": "markdown",
   "metadata": {},
   "source": [
    "#### Normalizando os dados\n",
    "Uma boa prática é normalizar os dados para que o processo de modelagem seja mais preciso"
   ]
  },
  {
   "cell_type": "code",
   "execution_count": 22,
   "metadata": {},
   "outputs": [],
   "source": [
    "# Declarando scaler para normalizar dataframes\n",
    "scaler = StandardScaler()\n",
    "\n",
    "# Removendo coluna ID pois ela não é importante para o processo\n",
    "aux_df = producer_df\n",
    "aux_df.drop(columns=['id'])\n",
    "\n",
    "# Normalizando o dataframes\n",
    "normalized_producer_df = scaler.fit_transform(aux_df)"
   ]
  },
  {
   "cell_type": "markdown",
   "metadata": {},
   "source": [
    "#### Implementando PCA\n",
    "Pela quantidade de variáveis ser alta o PCA será implementado para melhor visualizar os dados"
   ]
  },
  {
   "cell_type": "code",
   "execution_count": 23,
   "metadata": {},
   "outputs": [
    {
     "data": {
      "image/png": "[encoded data removed]",
      "text/plain": [
       "<Figure size 432x288 with 1 Axes>"
      ]
     },
     "metadata": {
      "needs_background": "light"
     },
     "output_type": "display_data"
    }
   ],
   "source": [
    "# Declarando PCA com 2 dimenções\n",
    "pca = PCA(n_components=2)\n",
    "\n",
    "# Pegando os dados após o fit_transform do PCA\n",
    "pca_producer_df = pca.fit_transform(normalized_producer_df)\n",
    "\n",
    "# Visualizando dados ajustados do consumidor\n",
    "plt.scatter(pca_producer_df[:, 0], pca_producer_df[:, 1])\n",
    "plt.show()"
   ]
  },
  {
   "cell_type": "markdown",
   "metadata": {},
   "source": [
    "#### Implementando o método do cotovelo para visualizar o melhor valor de K\n",
    "Vamos agora implementar o “método do cotovelo” para determinar o número de clusters. Isso pode ser feito usando WCSS (soma dos quadrados das distâncias dos pontos de dados)"
   ]
  },
  {
   "cell_type": "code",
   "execution_count": 24,
   "metadata": {
    "scrolled": false
   },
   "outputs": [
    {
     "data": {
      "image/png": "[encoded data removed]",
      "text/plain": [
       "<Figure size 432x288 with 1 Axes>"
      ]
     },
     "metadata": {
      "needs_background": "light"
     },
     "output_type": "display_data"
    }
   ],
   "source": [
    "wcss = []\n",
    "for i in range(1,11):\n",
    "    model = KMeans(n_clusters = i, init = \"k-means++\")\n",
    "    model.fit(pca_producer_df)\n",
    "    wcss.append(model.inertia_)\n",
    "plt.plot(range(1,11), wcss)\n",
    "plt.xlabel('Número de clusters')\n",
    "plt.ylabel('WCSS')\n",
    "plt.show()"
   ]
  },
  {
   "cell_type": "markdown",
   "metadata": {},
   "source": [
    "Como é evidente que não existe um cotovelo específico para este conjunto de dados, neste projeto farei isso usando 4 clusters."
   ]
  },
  {
   "cell_type": "code",
   "execution_count": 25,
   "metadata": {},
   "outputs": [],
   "source": [
    "k = 4"
   ]
  },
  {
   "cell_type": "markdown",
   "metadata": {},
   "source": [
    "#### Alimentando modelo"
   ]
  },
  {
   "cell_type": "code",
   "execution_count": 26,
   "metadata": {
    "scrolled": true
   },
   "outputs": [
    {
     "data": {
      "image/png": "[encoded data removed]",
      "text/plain": [
       "<Figure size 432x288 with 1 Axes>"
      ]
     },
     "metadata": {
      "needs_background": "light"
     },
     "output_type": "display_data"
    }
   ],
   "source": [
    "# Declarando modelo com 3 clusters\n",
    "model = KMeans(n_clusters = k, init = \"k-means++\")\n",
    "\n",
    "# Ajustando modelo com base nos dados fornecidos pelo PCA\n",
    "model_v1 = model.fit(pca_producer_df)\n",
    "\n",
    "# Pegando centroids\n",
    "centers = model_v1.cluster_centers_\n",
    "\n",
    "# Visualizando dados modelados e agrupados\n",
    "plt.scatter(pca_producer_df[:, 0], pca_producer_df[:, 1], c= model_v1.labels_.astype(float), s=50, alpha=0.5)\n",
    "plt.scatter(centers[:, 0], centers[:, 1], marker=\"o\", color='r', label='centroids')\n",
    "plt.legend(scatterpoints=1)\n",
    "plt.show()"
   ]
  },
  {
   "cell_type": "markdown",
   "metadata": {},
   "source": [
    "#### Pegando o resultado da modelagem"
   ]
  },
  {
   "cell_type": "code",
   "execution_count": 27,
   "metadata": {
    "scrolled": true
   },
   "outputs": [
    {
     "data": {
      "text/html": [
       "<div>\n",
       "<style scoped>\n",
       "    .dataframe tbody tr th:only-of-type {\n",
       "        vertical-align: middle;\n",
       "    }\n",
       "\n",
       "    .dataframe tbody tr th {\n",
       "        vertical-align: top;\n",
       "    }\n",
       "\n",
       "    .dataframe thead th {\n",
       "        text-align: right;\n",
       "    }\n",
       "</style>\n",
       "<table border=\"1\" class=\"dataframe\">\n",
       "  <thead>\n",
       "    <tr style=\"text-align: right;\">\n",
       "      <th></th>\n",
       "      <th>id</th>\n",
       "      <th>quantity_produced</th>\n",
       "      <th>residence</th>\n",
       "      <th>produces_special_coffee</th>\n",
       "      <th>coffee_score</th>\n",
       "      <th>labels</th>\n",
       "    </tr>\n",
       "  </thead>\n",
       "  <tbody>\n",
       "    <tr>\n",
       "      <th>3</th>\n",
       "      <td>43887844</td>\n",
       "      <td>1023</td>\n",
       "      <td>6</td>\n",
       "      <td>False</td>\n",
       "      <td>82</td>\n",
       "      <td>3</td>\n",
       "    </tr>\n",
       "    <tr>\n",
       "      <th>5</th>\n",
       "      <td>85859792</td>\n",
       "      <td>1040</td>\n",
       "      <td>2</td>\n",
       "      <td>False</td>\n",
       "      <td>76</td>\n",
       "      <td>2</td>\n",
       "    </tr>\n",
       "    <tr>\n",
       "      <th>6</th>\n",
       "      <td>8594564</td>\n",
       "      <td>631</td>\n",
       "      <td>6</td>\n",
       "      <td>False</td>\n",
       "      <td>72</td>\n",
       "      <td>3</td>\n",
       "    </tr>\n",
       "    <tr>\n",
       "      <th>8</th>\n",
       "      <td>20146954</td>\n",
       "      <td>546</td>\n",
       "      <td>6</td>\n",
       "      <td>False</td>\n",
       "      <td>78</td>\n",
       "      <td>3</td>\n",
       "    </tr>\n",
       "    <tr>\n",
       "      <th>9</th>\n",
       "      <td>9417735</td>\n",
       "      <td>788</td>\n",
       "      <td>2</td>\n",
       "      <td>False</td>\n",
       "      <td>88</td>\n",
       "      <td>2</td>\n",
       "    </tr>\n",
       "    <tr>\n",
       "      <th>10</th>\n",
       "      <td>52647898</td>\n",
       "      <td>1232</td>\n",
       "      <td>2</td>\n",
       "      <td>False</td>\n",
       "      <td>79</td>\n",
       "      <td>2</td>\n",
       "    </tr>\n",
       "    <tr>\n",
       "      <th>14</th>\n",
       "      <td>71747727</td>\n",
       "      <td>624</td>\n",
       "      <td>2</td>\n",
       "      <td>True</td>\n",
       "      <td>81</td>\n",
       "      <td>0</td>\n",
       "    </tr>\n",
       "    <tr>\n",
       "      <th>20</th>\n",
       "      <td>50035192</td>\n",
       "      <td>975</td>\n",
       "      <td>2</td>\n",
       "      <td>True</td>\n",
       "      <td>81</td>\n",
       "      <td>0</td>\n",
       "    </tr>\n",
       "    <tr>\n",
       "      <th>21</th>\n",
       "      <td>37079803</td>\n",
       "      <td>348</td>\n",
       "      <td>2</td>\n",
       "      <td>True</td>\n",
       "      <td>83</td>\n",
       "      <td>0</td>\n",
       "    </tr>\n",
       "    <tr>\n",
       "      <th>22</th>\n",
       "      <td>18254964</td>\n",
       "      <td>1315</td>\n",
       "      <td>2</td>\n",
       "      <td>False</td>\n",
       "      <td>84</td>\n",
       "      <td>3</td>\n",
       "    </tr>\n",
       "  </tbody>\n",
       "</table>\n",
       "</div>"
      ],
      "text/plain": [
       "          id  quantity_produced  residence  produces_special_coffee  \\\n",
       "3   43887844               1023          6                    False   \n",
       "5   85859792               1040          2                    False   \n",
       "6    8594564                631          6                    False   \n",
       "8   20146954                546          6                    False   \n",
       "9    9417735                788          2                    False   \n",
       "10  52647898               1232          2                    False   \n",
       "14  71747727                624          2                     True   \n",
       "20  50035192                975          2                     True   \n",
       "21  37079803                348          2                     True   \n",
       "22  18254964               1315          2                    False   \n",
       "\n",
       "    coffee_score  labels  \n",
       "3             82       3  \n",
       "5             76       2  \n",
       "6             72       3  \n",
       "8             78       3  \n",
       "9             88       2  \n",
       "10            79       2  \n",
       "14            81       0  \n",
       "20            81       0  \n",
       "21            83       0  \n",
       "22            84       3  "
      ]
     },
     "execution_count": 27,
     "metadata": {},
     "output_type": "execute_result"
    }
   ],
   "source": [
    "# Realizando o predict para encontrar os labels\n",
    "labels = model_v1.predict(pca_producer_df)\n",
    "\n",
    "# Criando nova coluna com os Labels\n",
    "producer_df['labels'] = labels\n",
    "\n",
    "# Visualizando dataframe com nova coluna\n",
    "producer_df.head(10)"
   ]
  },
  {
   "cell_type": "code",
   "execution_count": 29,
   "metadata": {},
   "outputs": [
    {
     "data": {
      "text/plain": [
       "array([0.28351265, 0.22677584, 0.15739896, 0.33231254])"
      ]
     },
     "execution_count": 29,
     "metadata": {},
     "output_type": "execute_result"
    }
   ],
   "source": [
    "\n",
    "aux = producer_df.iloc[:, :].drop(columns=['id'])\n",
    "\n",
    "aux_norm = scaler.fit_transform(aux)\n",
    "\n",
    "aux_pca_norm = pca.fit_transform(aux_norm)\n",
    "\n",
    "label_predict = model_v1.predict(aux_pca_norm)\n",
    "\n",
    "label_predict\n",
    "\n",
    "label_predict\n",
    "aux['labels'] = label_predict\n",
    "\n",
    "X_train, X_test, y_train, y_test = train_test_split(aux.drop(columns=['labels']), aux['labels'], random_state=42, test_size=0.3)\n",
    "\n",
    "forest = RandomForestClassifier(random_state=0)\n",
    "forest.fit(X_train, y_train)\n",
    "\n",
    "importances = forest.feature_importances_\n",
    "importances"
   ]
  },
  {
   "cell_type": "markdown",
   "metadata": {},
   "source": [
    "#### Simulando novos produtores e classificando-os utilizando o modelo atual"
   ]
  },
  {
   "cell_type": "code",
   "execution_count": 30,
   "metadata": {},
   "outputs": [
    {
     "data": {
      "text/html": [
       "<div>\n",
       "<style scoped>\n",
       "    .dataframe tbody tr th:only-of-type {\n",
       "        vertical-align: middle;\n",
       "    }\n",
       "\n",
       "    .dataframe tbody tr th {\n",
       "        vertical-align: top;\n",
       "    }\n",
       "\n",
       "    .dataframe thead th {\n",
       "        text-align: right;\n",
       "    }\n",
       "</style>\n",
       "<table border=\"1\" class=\"dataframe\">\n",
       "  <thead>\n",
       "    <tr style=\"text-align: right;\">\n",
       "      <th></th>\n",
       "      <th>quantity_produced</th>\n",
       "      <th>residence</th>\n",
       "      <th>produces_special_coffee</th>\n",
       "      <th>coffee_score</th>\n",
       "      <th>labels</th>\n",
       "    </tr>\n",
       "  </thead>\n",
       "  <tbody>\n",
       "    <tr>\n",
       "      <th>24</th>\n",
       "      <td>484</td>\n",
       "      <td>6</td>\n",
       "      <td>False</td>\n",
       "      <td>82</td>\n",
       "      <td>0</td>\n",
       "    </tr>\n",
       "    <tr>\n",
       "      <th>25</th>\n",
       "      <td>994</td>\n",
       "      <td>1</td>\n",
       "      <td>False</td>\n",
       "      <td>67</td>\n",
       "      <td>1</td>\n",
       "    </tr>\n",
       "    <tr>\n",
       "      <th>29</th>\n",
       "      <td>667</td>\n",
       "      <td>3</td>\n",
       "      <td>False</td>\n",
       "      <td>68</td>\n",
       "      <td>2</td>\n",
       "    </tr>\n",
       "    <tr>\n",
       "      <th>31</th>\n",
       "      <td>907</td>\n",
       "      <td>5</td>\n",
       "      <td>False</td>\n",
       "      <td>80</td>\n",
       "      <td>2</td>\n",
       "    </tr>\n",
       "    <tr>\n",
       "      <th>32</th>\n",
       "      <td>979</td>\n",
       "      <td>3</td>\n",
       "      <td>False</td>\n",
       "      <td>39</td>\n",
       "      <td>3</td>\n",
       "    </tr>\n",
       "  </tbody>\n",
       "</table>\n",
       "</div>"
      ],
      "text/plain": [
       "    quantity_produced  residence  produces_special_coffee  coffee_score  \\\n",
       "24                484          6                    False            82   \n",
       "25                994          1                    False            67   \n",
       "29                667          3                    False            68   \n",
       "31                907          5                    False            80   \n",
       "32                979          3                    False            39   \n",
       "\n",
       "    labels  \n",
       "24       0  \n",
       "25       1  \n",
       "29       2  \n",
       "31       2  \n",
       "32       3  "
      ]
     },
     "execution_count": 30,
     "metadata": {},
     "output_type": "execute_result"
    }
   ],
   "source": [
    "# Pegando alguns dados da tabela para simular novos produtores\n",
    "new_producer_df = producer_df.iloc[10:15, :].drop(columns=['id', 'labels'])\n",
    "\n",
    "# Normalizando\n",
    "new_producer_df_norm = scaler.fit_transform(new_producer_df)\n",
    "\n",
    "# PCA\n",
    "new_producer_df_pca_norm = pca.fit_transform(new_producer_df_norm)\n",
    "\n",
    "# Predict dos novos produtores\n",
    "label_predict = model_v1.predict(new_producer_df_pca_norm)\n",
    "\n",
    "# Adicionando resultados em uma nova coluna\n",
    "new_producer_df['labels'] = label_predict\n",
    "\n",
    "# Mostrando os resultados\n",
    "new_producer_df"
   ]
  },
  {
   "cell_type": "markdown",
   "metadata": {},
   "source": [
    "Podemos observar que para realizar o predict de um novo dado uma serie de tratativas são feitas para que esses dados sejam entendíveis pelo modelo.\n",
    "\n",
    "Com isso em mente, e possuindo agora as variáveis de saída (coluna labels) vamos utilizar um classificador supervisionado para realizar a classificação de novos dados."
   ]
  },
  {
   "cell_type": "markdown",
   "metadata": {},
   "source": [
    "#### Treinando o classificador"
   ]
  },
  {
   "cell_type": "code",
   "execution_count": 31,
   "metadata": {
    "scrolled": true
   },
   "outputs": [
    {
     "data": {
      "image/png": "[encoded data removed]",
      "text/plain": [
       "<Figure size 432x288 with 1 Axes>"
      ]
     },
     "metadata": {
      "needs_background": "light"
     },
     "output_type": "display_data"
    }
   ],
   "source": [
    "# Separando dados para teste e para o predict\n",
    "X_train, X_test, y_train, y_test = train_test_split(aux.drop(columns=['labels']), aux['labels'], random_state=42, test_size=0.3)\n",
    "\n",
    "# Declarando o ramdom forest\n",
    "forest = RandomForestClassifier(random_state=0)\n",
    "\n",
    "# Trainando o modelo\n",
    "forest.fit(X_train, y_train)\n",
    "\n",
    "# Criando um serie par visualizar melhor as features importantes\n",
    "forest_importances = pd.Series(importances, index=X_train.columns)\n",
    "\n",
    "# Pegando o desvio padrão\n",
    "std = np.std([tree.feature_importances_ for tree in forest.estimators_], axis=0)\n",
    "\n",
    "# Visualizando as variavies mais importantes para o classificador\n",
    "fig, ax = plt.subplots()\n",
    "forest_importances.plot.bar(yerr=std, ax=ax)\n",
    "ax.set_title(\"Feature importances using MDI\")\n",
    "ax.set_ylabel(\"Mean decrease in impurity\")\n",
    "fig.tight_layout()"
   ]
  },
  {
   "cell_type": "markdown",
   "metadata": {},
   "source": [
    "#### Avaliando o novo classificador"
   ]
  },
  {
   "cell_type": "code",
   "execution_count": 39,
   "metadata": {},
   "outputs": [
    {
     "data": {
      "text/plain": [
       "0.8"
      ]
     },
     "execution_count": 39,
     "metadata": {},
     "output_type": "execute_result"
    }
   ],
   "source": [
    "from sklearn.metrics import accuracy_score\n",
    "\n",
    "new_producer_df = producer_df.iloc[10:20, :]\n",
    "\n",
    "y_true = new_producer_df['labels']\n",
    "x_real = new_producer_df.drop(columns=['labels', 'id'])\n",
    "\n",
    "y_pred = forest.predict(x_real)\n",
    "\n",
    "# Avaliando o classificador\n",
    "accuracy_score(y_true, y_pred)"
   ]
  },
  {
   "cell_type": "markdown",
   "metadata": {},
   "source": [
    "Resultado: Podemos observar que o classificador por possuir um score geral aceitável para o projeto atual. Com isso, vamos utilizar o classificador supervisionado para realizar as novas classificações"
   ]
  },
  {
   "cell_type": "markdown",
   "metadata": {},
   "source": [
    "### Análise exploratória\n",
    "Para isso, será utilizado a biblioteca seaborn para melhor visualizar os dados"
   ]
  },
  {
   "cell_type": "code",
   "execution_count": 48,
   "metadata": {
    "scrolled": false
   },
   "outputs": [
    {
     "data": {
      "image/png": "[encoded data removed]",
      "text/plain": [
       "<Figure size 432x288 with 1 Axes>"
      ]
     },
     "metadata": {
      "needs_background": "light"
     },
     "output_type": "display_data"
    }
   ],
   "source": [
    "# Visualizando a produção de café especial por região e labels\n",
    "ax = sns.barplot(x=\"labels\", y=\"residence\", hue=\"produces_special_coffee\", data=producer_df).set_title('Figura 1')"
   ]
  },
  {
   "cell_type": "code",
   "execution_count": 49,
   "metadata": {},
   "outputs": [
    {
     "data": {
      "image/png": "[encoded data removed]",
      "text/plain": [
       "<Figure size 432x288 with 1 Axes>"
      ]
     },
     "metadata": {
      "needs_background": "light"
     },
     "output_type": "display_data"
    }
   ],
   "source": [
    "# Visualizando a pontuação do café especial por labels\n",
    "ax = sns.barplot(x=\"labels\", y=\"coffee_score\", data=producer_df).set_title('Figura 2')"
   ]
  },
  {
   "cell_type": "code",
   "execution_count": 50,
   "metadata": {
    "scrolled": true
   },
   "outputs": [
    {
     "data": {
      "image/png": "[encoded data removed]",
      "text/plain": [
       "<Figure size 432x288 with 1 Axes>"
      ]
     },
     "metadata": {
      "needs_background": "light"
     },
     "output_type": "display_data"
    }
   ],
   "source": [
    "# Visualizando a produção de café por labels\n",
    "ax = sns.barplot(x=\"labels\", y=\"quantity_produced\", data=producer_df).set_title('Figura 3')"
   ]
  },
  {
   "cell_type": "code",
   "execution_count": 72,
   "metadata": {},
   "outputs": [
    {
     "data": {
      "image/png": "[encoded data removed]",
      "text/plain": [
       "<Figure size 432x288 with 1 Axes>"
      ]
     },
     "metadata": {
      "needs_background": "light"
     },
     "output_type": "display_data"
    }
   ],
   "source": [
    "# Visualizando a quantidade de labels\n",
    "labels = producer_df['labels'].value_counts()\n",
    "labels_df = pd.DataFrame(data=np.array([labels.index.values, labels.values]), index=[\"labels\", \"count\"]).T\n",
    "ax = sns.barplot(x=\"labels\", y=\"count\", data=labels_df).set_title('Figura 4')"
   ]
  },
  {
   "cell_type": "markdown",
   "metadata": {},
   "source": [
    "### Conclusão"
   ]
  },
  {
   "cell_type": "markdown",
   "metadata": {},
   "source": [
    "Analisando as figuras podemos observar que:\n",
    "- Figura 1: Em relação a produção de café especial:\n",
    "    - Label 0: Produz ambos os tipos de café (especial e comum);\n",
    "    - Label 1: Apenas cafés normais;\n",
    "    - Label 2: Apenas cafés normais;\n",
    "    - Label 3: Produz ambos os tipos de café (especial e comum).\n",
    "- Figura 2: Qualidade do café que é avaliada pela pontuação do produto:\n",
    "    - Label 0: Produz a melhor avaliação do café;\n",
    "    - Label 1: Possui a menor nota de seus concorrentes;\n",
    "    - Label 2: Possui uma boa avaliação;\n",
    "    - Label 3: Possui uma boa avaliação.  \n",
    "- Figura 3: Produção de café:\n",
    "    - Label 0: Produz em pouca quantidade;\n",
    "    - Label 1: Produz em boa quantidade;\n",
    "    - Label 2: Produz em boa quantidade;\n",
    "    - Label 3: Produz a maior quantidade de café.\n",
    "- Figura 4: Número de produtores por cada label:\n",
    "    - Label 0: Possui a menor quantidade de produtores;\n",
    "    - Label 1: Possui uma boa quantidade de produtores;\n",
    "    - Label 2: Possui a maior quantidade de produtores;\n",
    "    - Label 3: Possui uma boa quantidade de produtores;"
   ]
  },
  {
   "cell_type": "markdown",
   "metadata": {},
   "source": [
    "Com as observações das figuras podemos dizer que:\n",
    "- Label 0: Produz o melhor café em poucas quantidades incluindo café especial. Isso nos faz pensar que é um grupo de produtores que tem como foco o café especial possuindo assim uma nota em média 80;\n",
    "- Label 1: Produz o café comum com a menor pontuação com uma boa quantidade. Isso nos faz pensar que é um grupo de produtores pequenos que tem como foco o café comum e por consequência o café mais barato em relação aos concorrentes;\n",
    "- Label 2: Produtores intermediários, possuem uma boa nota e são os que possuem em número a maior quantidade de produtores envolvidos se tornando assim a produção mais comum;\n",
    "- Label 3: São os que mais produzem café incluindo café especial porém a avaliação do café é um pouco inferior ao label 0 (também produz café especial). Concui-se que este grupo de produtores não possuem um foco especifico produzindo um pouco de tudo em boa qualidade."
   ]
  },
  {
   "cell_type": "markdown",
   "metadata": {},
   "source": [
    "Com os resultados encontrados foram definidos os seguintes significados para os labels:\n",
    "- Label 0: \n",
    "    - Título: Superman;\n",
    "    - Descrição: Titulo dado a produtores com um alto index de qualidade de café. Dizem que o café feito por esses produtores é tão especial que parece ser de outro planeta;\n",
    "    - Produção: Baixa;\n",
    "    - Qualidade: Alta;\n",
    "    - Especial: True;\n",
    "    - Raridade: Alta.\n",
    "- Label 1:\n",
    "    - Título: Arqueiro Verde; \n",
    "    - Descrição: : Por mais que não possua poderes que o fazem especial e mesmo não sendo o preferido de muitos 'críticos' ele faz o que é possível para ajudar o cidadão comum;;\n",
    "    - Produção: Média;\n",
    "    - Qualidade: Baixa;\n",
    "    - Especial: False;\n",
    "    - Raridade: Média;\n",
    "- Label 2: \n",
    "    - Título: Batman;\n",
    "    - Descrição: Assim como o café dessa classe, o Batman não possui poderes que o fazem ser especial, porém o carinho do público por ele deixou-o no topo dos mais populares;\n",
    "    - Produção: Média;\n",
    "    - Qualidade: Média;\n",
    "    - Especial: False;\n",
    "    - Raridade: Baixa;\n",
    "- Label 3: \n",
    "    - Título: Mulher maravilha;\n",
    "    - Descrição: Devido a sua ascendência, Diana possui poderes digno de deuses gregos e mesmo em muitas histórias não sendo poderosa o suficiente como o Superman, ela não faz feio. Sendo também uma das mais queridas;\n",
    "    - Produção: Alta;\n",
    "    - Qualidade: Média;\n",
    "    - Especial: True;\n",
    "    - Raridade: Média;"
   ]
  },
  {
   "cell_type": "code",
   "execution_count": 75,
   "metadata": {
    "scrolled": false
   },
   "outputs": [
    {
     "data": {
      "text/html": [
       "<div>\n",
       "<style scoped>\n",
       "    .dataframe tbody tr th:only-of-type {\n",
       "        vertical-align: middle;\n",
       "    }\n",
       "\n",
       "    .dataframe tbody tr th {\n",
       "        vertical-align: top;\n",
       "    }\n",
       "\n",
       "    .dataframe thead th {\n",
       "        text-align: right;\n",
       "    }\n",
       "</style>\n",
       "<table border=\"1\" class=\"dataframe\">\n",
       "  <thead>\n",
       "    <tr style=\"text-align: right;\">\n",
       "      <th></th>\n",
       "      <th>id</th>\n",
       "      <th>title</th>\n",
       "      <th>description</th>\n",
       "      <th>produces_special_coffee</th>\n",
       "      <th>quality</th>\n",
       "      <th>rarity</th>\n",
       "      <th>production</th>\n",
       "    </tr>\n",
       "  </thead>\n",
       "  <tbody>\n",
       "    <tr>\n",
       "      <th>0</th>\n",
       "      <td>0</td>\n",
       "      <td>Superman</td>\n",
       "      <td>Titulo dado a produtores com um alto index de ...</td>\n",
       "      <td>True</td>\n",
       "      <td>Alta</td>\n",
       "      <td>Alta</td>\n",
       "      <td>Baixa</td>\n",
       "    </tr>\n",
       "    <tr>\n",
       "      <th>1</th>\n",
       "      <td>1</td>\n",
       "      <td>Arqueiro Verde</td>\n",
       "      <td>Por mais que não possua poderes que o fazem es...</td>\n",
       "      <td>False</td>\n",
       "      <td>Baixa</td>\n",
       "      <td>Média</td>\n",
       "      <td>Média</td>\n",
       "    </tr>\n",
       "    <tr>\n",
       "      <th>2</th>\n",
       "      <td>2</td>\n",
       "      <td>Batman</td>\n",
       "      <td>Assim como o café dessa classe, o Batman não p...</td>\n",
       "      <td>False</td>\n",
       "      <td>Média</td>\n",
       "      <td>Baixa</td>\n",
       "      <td>Média</td>\n",
       "    </tr>\n",
       "    <tr>\n",
       "      <th>3</th>\n",
       "      <td>3</td>\n",
       "      <td>Mulher maravilha</td>\n",
       "      <td>Devido a sua ascendência, Diana possui poderes...</td>\n",
       "      <td>True</td>\n",
       "      <td>Média</td>\n",
       "      <td>Média</td>\n",
       "      <td>Alta</td>\n",
       "    </tr>\n",
       "  </tbody>\n",
       "</table>\n",
       "</div>"
      ],
      "text/plain": [
       "  id             title                                        description  \\\n",
       "0  0          Superman  Titulo dado a produtores com um alto index de ...   \n",
       "1  1    Arqueiro Verde  Por mais que não possua poderes que o fazem es...   \n",
       "2  2            Batman  Assim como o café dessa classe, o Batman não p...   \n",
       "3  3  Mulher maravilha  Devido a sua ascendência, Diana possui poderes...   \n",
       "\n",
       "  produces_special_coffee quality rarity production  \n",
       "0                    True    Alta   Alta      Baixa  \n",
       "1                   False   Baixa  Média      Média  \n",
       "2                   False   Média  Baixa      Média  \n",
       "3                    True   Média  Média       Alta  "
      ]
     },
     "execution_count": 75,
     "metadata": {},
     "output_type": "execute_result"
    }
   ],
   "source": [
    "# Criando tabela para os labels do Produtor\n",
    "tittle = [\"Superman\", \"Arqueiro Verde\", \"Batman\", \"Mulher maravilha\"]\n",
    "description = [\"Titulo dado a produtores com um alto index de qualidade de café. Dizem que o café feito por esses produtores é tão especial que parece ser de outro planeta\", \"Por mais que não possua poderes que o fazem especial e mesmo não sendo o preferido de muitos 'críticos' ele faz o que é possivel para ajudar o cidadão comum\", \"Assim como o café dessa classe, o Batman não possue poderes que o fazem ser especial, porém o carinho do público por ele deixou-o no topo dos mais populares\", \"Devido a sua ascendência, Diana possui poderes digno de deuses gregos e mesmo em muitas histórias não sendo poderosa o sufiente como o Superman, ela não faz feio. Sendo tabém uma das mais queridas\"]\n",
    "produces_special_coffee = [True, False, False, True]\n",
    "quality = ['Alta', 'Baixa', 'Média', 'Média']\n",
    "rarity = ['Alta', 'Média', 'Baixa', 'Média']\n",
    "production = ['Baixa', 'Média', 'Média', 'Alta']\n",
    "label_id=[0,1,2,3]\n",
    "\n",
    "data = np.array([label_id, tittle, description, produces_special_coffee, quality, rarity, production])\n",
    "index=[\"id\", \"title\", \"description\", \"produces_special_coffee\",\"quality\", \"rarity\", \"production\"]\n",
    "producer_labels_df = pd.DataFrame(data=data, index=index).T\n",
    "producer_labels_df"
   ]
  },
  {
   "cell_type": "markdown",
   "metadata": {},
   "source": [
    "---\n",
    "### Conclusão da modelagem"
   ]
  },
  {
   "cell_type": "markdown",
   "metadata": {},
   "source": [
    "Podemos observar então que a modelagem nos vai permitir agrupar consumidores com produtores que tenham capacidade de atender suas expectativas.\n",
    "\n",
    "Como exemplo disso, podemos dizer que um <b>estabelecimento especial</b> ao realizar a busca na plataforma o resultado mais frequente para esse consumidor seria os produtores com o título de <b>Mulher Maravilha</b>."
   ]
  }
 ],
 "metadata": {
  "kernelspec": {
   "display_name": "Python 3",
   "language": "python",
   "name": "python3"
  },
  "language_info": {
   "codemirror_mode": {
    "name": "ipython",
    "version": 3
   },
   "file_extension": ".py",
   "mimetype": "text/x-python",
   "name": "python",
   "nbconvert_exporter": "python",
   "pygments_lexer": "ipython3",
   "version": "3.9.1"
  }
 },
 "nbformat": 4,
 "nbformat_minor": 4
}
