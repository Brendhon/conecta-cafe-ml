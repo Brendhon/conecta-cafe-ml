{
 "cells": [
  {
   "cell_type": "markdown",
   "metadata": {},
   "source": [
    "<h2  style=\"text-align: center\"> ML - Conecta café </h2><br>\n",
    "<div style=\"text-align: justify\"> Modelo de <i> machine learning </i> criado para a plataforma <b> Conecta Café </b> com o objetivo de reunir compradores de cafés especiais com cafeicultores que possuam <i>fit</i>.</div>"
   ]
  },
  {
   "cell_type": "markdown",
   "metadata": {},
   "source": [
    "<h3> Contexto </h3><br>\n",
    "<div style=\"text-align: justify\"> \n",
    "    Com o avanço da tecnologia, a conexão entre produtores e consumidores de produtos e serviços de qualquer natureza está se tornando cada vez maior, uma vez que ela permite expandir e democratizar o acesso a deles.\n",
    "    <br>\n",
    "    Pensando nisso, foi criado uma plataforma Web que tem como propósito de conectar facilmente cafeicultores e consumidores de cafés especiais. Nessa aplicação, o produtor pode cadastrar os dados do café produzido permitindo assim, que compradores possam realizar a pesquisa e encontrar o café de sua escolha.\n",
    "</div>"
   ]
  },
  {
   "cell_type": "markdown",
   "metadata": {},
   "source": [
    "<h3> Problemática </h3><br>\n",
    "<div style=\"text-align: justify\"> \n",
    "    Ao acessar o site o consumidor pode buscar pelo café inserindo alguns dados em um filtro. Porém, pense que o comprador não sabe o que procura, é apenas alguém que não possui conhecimento sobre cafés especiais, mas gostaria de experimentar algo novo. Não seria interressante a plataforma entender o comportamento desse cliente e realizar recomendações baseadas em alguns dados? </div>"
   ]
  },
  {
   "cell_type": "markdown",
   "metadata": {},
   "source": [
    "<h3> Proposta </h3><br>\n",
    "<div style=\"text-align: justify\"> \n",
    "A proposta é aproximar compradores com cafeicultores que possuem características semelhantes. Como por exemplo, baseado na condição financeira, onde consumidores de grandes quantidades de café sejam agrupados com produtores que produzam o suficiente para atendê-los. Isso é pensado para reduzir o <i> overflow </i> de dados atual da plataforma e melhorar o sistema de busca da aplicação.</div>"
   ]
  },
  {
   "cell_type": "markdown",
   "metadata": {},
   "source": [
    "---\n",
    "<h2  style=\"text-align: center\"> Informações do projeto </h2><br>"
   ]
  },
  {
   "cell_type": "markdown",
   "metadata": {},
   "source": [
    "<h3> Repositório </h3>\n",
    "\n",
    "- **[🤖 API da plataforma](https://github.com/Brendhon/conecta-cafe-api)**\n",
    "- **[📟 Aplicação Web](https://github.com/GabrielGSD/Conecta_Cafe_React)**"
   ]
  },
  {
   "cell_type": "markdown",
   "metadata": {},
   "source": [
    "<h3> Autores </h3><br>\n",
    "\n",
    "<div style=\"display: flex;\"> \n",
    "\n",
    "<a href=\"https://github.com/Brendhon\" style=\"text-align: center\">\n",
    "    <img style=\"float:left; border-radius: 15px; display: inline; margin: 10px;\" src=\"https://github.com/brendhon.png\" width=\"120px;\" alt=\"autor\"/>\n",
    "    <br><br><br><br><br><br>\n",
    "    <strong > Brendhon Moreira </strong>\n",
    "</a>\n",
    "<br><br>\n",
    "<a href=\"https://github.com/GabrielGSD\" style=\"text-align: center\">\n",
    "    <img style=\"float:left; border-radius: 15px; display: inline;  margin: 10px;\" src=\"https://github.com/GabrielGSD.png\" width=\"120px;\" alt=\"autor\"/>\n",
    "    <br><br><br><br><br><br>\n",
    "    <strong > Gabriel Daniel </strong>\n",
    "</a>\n",
    "<br><br>\n",
    "<a href=\"https://github.com/MoisesSDelmoro\" style=\"text-align: center\">\n",
    "    <img style=\"float:left; border-radius: 15px; display: inline;  margin: 10px;\" src=\"https://github.com/MoisesSDelmoro.png\" width=\"120px;\" alt=\"autor\"/>\n",
    "    <br><br><br><br><br><br>\n",
    "    <strong >Moises Delmoro</strong>\n",
    "</a></div>"
   ]
  },
  {
   "cell_type": "markdown",
   "metadata": {},
   "source": [
    "---\n",
    "<h2  style=\"text-align: center\"> Desenvolvimento </h2><br>"
   ]
  },
  {
   "cell_type": "code",
   "execution_count": 1,
   "metadata": {
    "scrolled": true
   },
   "outputs": [
    {
     "name": "stdout",
     "output_type": "stream",
     "text": [
      "Requirement already satisfied: pandas in c:\\python39\\lib\\site-packages (1.2.1)\n",
      "Requirement already satisfied: numpy>=1.16.5 in c:\\python39\\lib\\site-packages (from pandas) (1.19.5)\n",
      "Requirement already satisfied: pytz>=2017.3 in c:\\python39\\lib\\site-packages (from pandas) (2020.5)\n",
      "Requirement already satisfied: python-dateutil>=2.7.3 in c:\\python39\\lib\\site-packages (from pandas) (2.8.1)\n",
      "Requirement already satisfied: six>=1.5 in c:\\python39\\lib\\site-packages (from python-dateutil>=2.7.3->pandas) (1.15.0)\n",
      "Requirement already satisfied: numpy in c:\\python39\\lib\\site-packages (1.19.5)\n",
      "Requirement already satisfied: requests in c:\\python39\\lib\\site-packages (2.13.0)\n"
     ]
    }
   ],
   "source": [
    "# Instalando os pacotes necessários\n",
    "import sys\n",
    "!{sys.executable} -m pip install pandas \n",
    "!{sys.executable} -m pip install numpy \n",
    "!{sys.executable} -m pip install requests"
   ]
  },
  {
   "cell_type": "markdown",
   "metadata": {},
   "source": [
    "<h3> Simular os dados </h3><br>\n",
    "<div style=\"text-align: justify\"> \n",
    "    Por ser uma plataforma ainda não colocada em produção, os dados ainda não foram coletados e por conta disso será criado um dataset que simula os dados reais.\n",
    "</div>"
   ]
  },
  {
   "cell_type": "code",
   "execution_count": 2,
   "metadata": {},
   "outputs": [],
   "source": [
    "# Importar as biblotecas\n",
    "import pandas as pd\n",
    "import numpy as np\n",
    "\n",
    "# Permitir que as funções do arquivo de funções auxiliares sejam utilizadas\n",
    "%run auxiliary_functions.ipynb   "
   ]
  },
  {
   "cell_type": "markdown",
   "metadata": {},
   "source": [
    "<h4> Declarando Variaveis </h4>"
   ]
  },
  {
   "cell_type": "code",
   "execution_count": 3,
   "metadata": {},
   "outputs": [],
   "source": [
    "# Variaveis gerais\n",
    "dataset_size = 10000\n",
    "\n",
    "# Variaveis do consumidor\n",
    "consumer_col_names = [\"consumer_id\", \"financial_condition\", \"residence\"]\n",
    "consumer_intervals = [(1,100000000), (10.0,500000.0),(\"cities\", dataset_size)]\n",
    "\n",
    "# Variaveis do produtor\n",
    "producer_col_names = [\"producer_id\", \"quantity_produced\", \"residence\"]\n",
    "producer_intervals = [(1,100000000), (10,500000),(\"cities\", dataset_size)]"
   ]
  },
  {
   "cell_type": "markdown",
   "metadata": {},
   "source": [
    "<h4> Gerando os dataframes falsos </h4>"
   ]
  },
  {
   "cell_type": "code",
   "execution_count": 4,
   "metadata": {},
   "outputs": [],
   "source": [
    "# Dataframe do consumidor\n",
    "consumer = generate_fake_dataframe(\n",
    "  size = dataset_size, \n",
    "  cols = \"ifc\", \n",
    "  col_names = consumer_col_names,\n",
    "  intervals = consumer_intervals)\n",
    "\n",
    "# Dataframe do produtor\n",
    "producer = generate_fake_dataframe(\n",
    "  size = dataset_size, \n",
    "  cols = \"iic\", \n",
    "  col_names = producer_col_names,\n",
    "  intervals = producer_intervals)"
   ]
  },
  {
   "cell_type": "code",
   "execution_count": 5,
   "metadata": {},
   "outputs": [
    {
     "data": {
      "text/html": [
       "<div>\n",
       "<style scoped>\n",
       "    .dataframe tbody tr th:only-of-type {\n",
       "        vertical-align: middle;\n",
       "    }\n",
       "\n",
       "    .dataframe tbody tr th {\n",
       "        vertical-align: top;\n",
       "    }\n",
       "\n",
       "    .dataframe thead th {\n",
       "        text-align: right;\n",
       "    }\n",
       "</style>\n",
       "<table border=\"1\" class=\"dataframe\">\n",
       "  <thead>\n",
       "    <tr style=\"text-align: right;\">\n",
       "      <th></th>\n",
       "      <th>producer_id</th>\n",
       "      <th>quantity_produced</th>\n",
       "      <th>residence</th>\n",
       "    </tr>\n",
       "  </thead>\n",
       "  <tbody>\n",
       "    <tr>\n",
       "      <th>0</th>\n",
       "      <td>64372333</td>\n",
       "      <td>157749</td>\n",
       "      <td>Teixeira de Freitas</td>\n",
       "    </tr>\n",
       "    <tr>\n",
       "      <th>1</th>\n",
       "      <td>16673615</td>\n",
       "      <td>346810</td>\n",
       "      <td>Belo Horizonte</td>\n",
       "    </tr>\n",
       "    <tr>\n",
       "      <th>2</th>\n",
       "      <td>72096247</td>\n",
       "      <td>472950</td>\n",
       "      <td>BRASILIA</td>\n",
       "    </tr>\n",
       "    <tr>\n",
       "      <th>3</th>\n",
       "      <td>13186219</td>\n",
       "      <td>123735</td>\n",
       "      <td>Camaragibe</td>\n",
       "    </tr>\n",
       "    <tr>\n",
       "      <th>4</th>\n",
       "      <td>94977720</td>\n",
       "      <td>64857</td>\n",
       "      <td>Campos dos Goytacazes</td>\n",
       "    </tr>\n",
       "  </tbody>\n",
       "</table>\n",
       "</div>"
      ],
      "text/plain": [
       "   producer_id  quantity_produced              residence\n",
       "0     64372333             157749    Teixeira de Freitas\n",
       "1     16673615             346810         Belo Horizonte\n",
       "2     72096247             472950               BRASILIA\n",
       "3     13186219             123735             Camaragibe\n",
       "4     94977720              64857  Campos dos Goytacazes"
      ]
     },
     "execution_count": 5,
     "metadata": {},
     "output_type": "execute_result"
    }
   ],
   "source": [
    "producer.head()"
   ]
  },
  {
   "cell_type": "code",
   "execution_count": 6,
   "metadata": {},
   "outputs": [
    {
     "data": {
      "text/html": [
       "<div>\n",
       "<style scoped>\n",
       "    .dataframe tbody tr th:only-of-type {\n",
       "        vertical-align: middle;\n",
       "    }\n",
       "\n",
       "    .dataframe tbody tr th {\n",
       "        vertical-align: top;\n",
       "    }\n",
       "\n",
       "    .dataframe thead th {\n",
       "        text-align: right;\n",
       "    }\n",
       "</style>\n",
       "<table border=\"1\" class=\"dataframe\">\n",
       "  <thead>\n",
       "    <tr style=\"text-align: right;\">\n",
       "      <th></th>\n",
       "      <th>consumer_id</th>\n",
       "      <th>financial_condition</th>\n",
       "      <th>residence</th>\n",
       "    </tr>\n",
       "  </thead>\n",
       "  <tbody>\n",
       "    <tr>\n",
       "      <th>0</th>\n",
       "      <td>13651902</td>\n",
       "      <td>485181.75</td>\n",
       "      <td>Apucarana</td>\n",
       "    </tr>\n",
       "    <tr>\n",
       "      <th>1</th>\n",
       "      <td>55654797</td>\n",
       "      <td>133225.19</td>\n",
       "      <td>Parintins</td>\n",
       "    </tr>\n",
       "    <tr>\n",
       "      <th>2</th>\n",
       "      <td>19189407</td>\n",
       "      <td>192515.14</td>\n",
       "      <td>Guarapuava</td>\n",
       "    </tr>\n",
       "    <tr>\n",
       "      <th>3</th>\n",
       "      <td>93673471</td>\n",
       "      <td>261666.92</td>\n",
       "      <td>Crato</td>\n",
       "    </tr>\n",
       "    <tr>\n",
       "      <th>4</th>\n",
       "      <td>94061714</td>\n",
       "      <td>392683.47</td>\n",
       "      <td>Itu</td>\n",
       "    </tr>\n",
       "  </tbody>\n",
       "</table>\n",
       "</div>"
      ],
      "text/plain": [
       "   consumer_id  financial_condition   residence\n",
       "0     13651902            485181.75   Apucarana\n",
       "1     55654797            133225.19   Parintins\n",
       "2     19189407            192515.14  Guarapuava\n",
       "3     93673471            261666.92       Crato\n",
       "4     94061714            392683.47         Itu"
      ]
     },
     "execution_count": 6,
     "metadata": {},
     "output_type": "execute_result"
    }
   ],
   "source": [
    "consumer.head()"
   ]
  }
 ],
 "metadata": {
  "kernelspec": {
   "display_name": "Python 3",
   "language": "python",
   "name": "python3"
  },
  "language_info": {
   "codemirror_mode": {
    "name": "ipython",
    "version": 3
   },
   "file_extension": ".py",
   "mimetype": "text/x-python",
   "name": "python",
   "nbconvert_exporter": "python",
   "pygments_lexer": "ipython3",
   "version": "3.9.1"
  }
 },
 "nbformat": 4,
 "nbformat_minor": 4
}
