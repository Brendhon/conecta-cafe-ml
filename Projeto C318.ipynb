{
 "cells": [
  {
   "cell_type": "markdown",
   "metadata": {},
   "source": [
    "<h2  style=\"text-align: center\"> ML - Conecta café </h2><br>\n",
    "<div style=\"text-align: justify\"> Modelo de <i> machine learning </i> criado para a plataforma <b> Conecta Café </b> com o objetivo de reunir compradores de cafés especiais com cafeicultores que possuam <i>fit</i>.</div>"
   ]
  },
  {
   "cell_type": "markdown",
   "metadata": {},
   "source": [
    "<h3> Contexto </h3><br>\n",
    "<div style=\"text-align: justify\"> \n",
    "    Com o avanço da tecnologia, a conexão entre produtores e consumidores de produtos e serviços de qualquer natureza está se tornando cada vez maior, uma vez que ela permite expandir e democratizar o acesso a deles.\n",
    "    <br>\n",
    "    Pensando nisso, foi criado uma plataforma Web que tem como propósito de conectar facilmente cafeicultores e consumidores de cafés especiais. Nessa aplicação, o produtor pode cadastrar os dados do café produzido permitindo assim, que compradores possam realizar a pesquisa e encontrar o café de sua escolha.\n",
    "</div>"
   ]
  },
  {
   "cell_type": "markdown",
   "metadata": {},
   "source": [
    "<h3> Problemática </h3><br>\n",
    "<div style=\"text-align: justify\"> \n",
    "    Ao acessar o site o consumidor pode buscar pelo café inserindo alguns dados em um filtro. Porém, pense que o comprador não sabe o que procura, é apenas alguém que não possui conhecimento sobre cafés especiais, mas gostaria de experimentar algo novo. Não seria interressante a plataforma entender o comportamento desse cliente e realizar recomendações baseadas em alguns dados? </div>"
   ]
  },
  {
   "cell_type": "markdown",
   "metadata": {},
   "source": [
    "<h3> Proposta </h3><br>\n",
    "<div style=\"text-align: justify\"> \n",
    "A proposta é aproximar compradores com cafeicultores que possuem características semelhantes. Como por exemplo, baseado na condição financeira, onde consumidores de grandes quantidades de café sejam agrupados com produtores que produzam o suficiente para atendê-los. Isso é pensado para reduzir o <i> overflow </i> de dados atual da plataforma e melhorar o sistema de busca da aplicação.</div>"
   ]
  },
  {
   "cell_type": "markdown",
   "metadata": {},
   "source": [
    "---\n",
    "<h2  style=\"text-align: center\"> Projeto </h2>"
   ]
  },
  {
   "cell_type": "markdown",
   "metadata": {},
   "source": [
    "<h3> Informações </h3>\n",
    "\n",
    "Por ser uma plataforma ainda não colocada em produção, os dados ainda não foram coletados e por conta disso será criado um dataset que simula os dados reais.\n",
    "\n",
    "Para simular os dados, algumas regras de negócios foram utilizadas para dar mais coerencia para os dataset, são elas:\n",
    "- Regras para o Produtor: \n",
    "    - Produtores que produzem café especial não podem ter nota abaixo de 80;\n",
    "    - Pela dificuldade de produzir café especial normalmente produtores que produzem esse tipo de café, produzem em uma quantidade menor de quem não produz;\n",
    "    - Avaliar o range da pontuação do café com base na região.\n",
    "\n",
    "- Regras para o Consumidor:\n",
    "    - Possivelmente quem tem interesse em café especial, está disposto a gastar mais.\n",
    "    - O tipo de consumidor (pessoa física ou jurídica) interfere na quantidade preterida, pois uma pessoa jurídica normalmente é um estabelecimento, ou seja, busca uma maior quantidade de cafés para compra."
   ]
  },
  {
   "cell_type": "markdown",
   "metadata": {},
   "source": [
    "<h3> Repositórios </h3>\n",
    "\n",
    "- **[🤖 API da plataforma](https://github.com/Brendhon/conecta-cafe-api)**\n",
    "- **[📟 Aplicação Web](https://github.com/GabrielGSD/Conecta_Cafe_React)**\n",
    "- **[🎰 Projeto ML](https://github.com/Brendhon/conecta-cafe-ml)**"
   ]
  },
  {
   "cell_type": "markdown",
   "metadata": {},
   "source": [
    "<h3> Autores </h3><br>\n",
    "\n",
    "<div style=\"display: flex;\"> \n",
    "\n",
    "<a href=\"https://github.com/Brendhon\" style=\"text-align: center\">\n",
    "    <img style=\"float:left; border-radius: 15px; display: inline; margin: 10px;\" src=\"https://github.com/brendhon.png\" width=\"120px;\" alt=\"autor\"/>\n",
    "    <br><br><br><br><br><br>\n",
    "    <strong > Brendhon Moreira </strong>\n",
    "</a>\n",
    "<br><br>\n",
    "<a href=\"https://github.com/GabrielGSD\" style=\"text-align: center\">\n",
    "    <img style=\"float:left; border-radius: 15px; display: inline;  margin: 10px;\" src=\"https://github.com/GabrielGSD.png\" width=\"120px;\" alt=\"autor\"/>\n",
    "    <br><br><br><br><br><br>\n",
    "    <strong > Gabriel Daniel </strong>\n",
    "</a>\n",
    "<br><br>\n",
    "<a href=\"https://github.com/MoisesSDelmoro\" style=\"text-align: center\">\n",
    "    <img style=\"float:left; border-radius: 15px; display: inline;  margin: 10px;\" src=\"https://github.com/MoisesSDelmoro.png\" width=\"120px;\" alt=\"autor\"/>\n",
    "    <br><br><br><br><br><br>\n",
    "    <strong >Moises Delmoro</strong>\n",
    "</a></div>"
   ]
  },
  {
   "cell_type": "markdown",
   "metadata": {},
   "source": [
    "---\n",
    "<h2  style=\"text-align: center\"> Desenvolvimento </h2><br>"
   ]
  },
  {
   "cell_type": "code",
   "execution_count": 1,
   "metadata": {
    "scrolled": true
   },
   "outputs": [
    {
     "name": "stdout",
     "output_type": "stream",
     "text": [
      "Requirement already satisfied: pandas in c:\\python39\\lib\\site-packages (1.2.1)\n",
      "Requirement already satisfied: python-dateutil>=2.7.3 in c:\\python39\\lib\\site-packages (from pandas) (2.8.1)\n",
      "Requirement already satisfied: numpy>=1.16.5 in c:\\python39\\lib\\site-packages (from pandas) (1.19.5)\n",
      "Requirement already satisfied: pytz>=2017.3 in c:\\python39\\lib\\site-packages (from pandas) (2020.5)\n",
      "Requirement already satisfied: six>=1.5 in c:\\python39\\lib\\site-packages (from python-dateutil>=2.7.3->pandas) (1.15.0)\n",
      "Requirement already satisfied: numpy in c:\\python39\\lib\\site-packages (1.19.5)\n",
      "Requirement already satisfied: requests in c:\\python39\\lib\\site-packages (2.13.0)\n",
      "Requirement already satisfied: scikit-learn in c:\\python39\\lib\\site-packages (0.24.2)\n",
      "Requirement already satisfied: joblib>=0.11 in c:\\python39\\lib\\site-packages (from scikit-learn) (1.0.1)\n",
      "Requirement already satisfied: scipy>=0.19.1 in c:\\python39\\lib\\site-packages (from scikit-learn) (1.7.1)\n",
      "Requirement already satisfied: threadpoolctl>=2.0.0 in c:\\python39\\lib\\site-packages (from scikit-learn) (2.2.0)\n",
      "Requirement already satisfied: numpy>=1.13.3 in c:\\python39\\lib\\site-packages (from scikit-learn) (1.19.5)\n",
      "Requirement already satisfied: scipy in c:\\python39\\lib\\site-packages (1.7.1)\n",
      "Requirement already satisfied: numpy<1.23.0,>=1.16.5 in c:\\python39\\lib\\site-packages (from scipy) (1.19.5)\n"
     ]
    }
   ],
   "source": [
    "# Instalando os pacotes necessários\n",
    "import sys\n",
    "!{sys.executable} -m pip install pandas \n",
    "!{sys.executable} -m pip install numpy \n",
    "!{sys.executable} -m pip install requests\n",
    "!{sys.executable} -m pip install scikit-learn\n",
    "!{sys.executable} -m pip install scipy "
   ]
  },
  {
   "cell_type": "code",
   "execution_count": 2,
   "metadata": {},
   "outputs": [],
   "source": [
    "# Importar as biblotecas\n",
    "import pandas as pd\n",
    "import numpy as np\n",
    "import matplotlib.pyplot as plt\n",
    "import scipy.stats\n",
    "from sklearn import datasets\n",
    "from sklearn.cluster import KMeans\n",
    "from sklearn.decomposition import PCA\n",
    "from sklearn.preprocessing import StandardScaler\n",
    "\n",
    "# Permitir que as funções do arquivo de funções auxiliares sejam utilizadas\n",
    "%run auxiliary_functions.ipynb   "
   ]
  },
  {
   "cell_type": "markdown",
   "metadata": {},
   "source": [
    "<h3> Declarando Variaveis </h3>"
   ]
  },
  {
   "cell_type": "code",
   "execution_count": 3,
   "metadata": {},
   "outputs": [],
   "source": [
    "# Variaveis gerais\n",
    "dataset_size = 1000\n",
    "dataset_seed = 42\n",
    "\n",
    "# Variaveis do consumidor\n",
    "consumer_cols = \"ifcccc\"\n",
    "consumer_col_names = [\"id\", \"financial_condition\", \"residence\", \"search_special_coffee\", 'desired_quantity', 'person_type']\n",
    "consumer_intervals = [(1,100000000), (10.0,500.0), [1,2,3,4,5,6], [True, False], [0.5, 1, 60], [1,2]]\n",
    "\n",
    "# Variaveis do produtor\n",
    "producer_cols = \"iccci\"\n",
    "producer_col_names = [\"id\", \"quantity_produced\", \"residence\", \"produces_special_coffee\", \"coffee_score\"]\n",
    "producer_intervals = [(1,100000000), [0.5, 1, 60], [1,2,3,4,5,6], [True, False],  (0,100)]"
   ]
  },
  {
   "cell_type": "markdown",
   "metadata": {},
   "source": [
    "---"
   ]
  },
  {
   "cell_type": "markdown",
   "metadata": {},
   "source": [
    "<h3> Gerando tabelas auxiliares  </h3>\n",
    "<br>\n",
    "<i> Observação: Para poder utilizar os dados no modelo é necessario indexar certos atributos para que o modelo seja capaz de entender os dados, para isso foi feito a criação dessas tabelas </i><br>"
   ]
  },
  {
   "cell_type": "code",
   "execution_count": 4,
   "metadata": {
    "scrolled": false
   },
   "outputs": [
    {
     "data": {
      "text/html": [
       "<div>\n",
       "<style scoped>\n",
       "    .dataframe tbody tr th:only-of-type {\n",
       "        vertical-align: middle;\n",
       "    }\n",
       "\n",
       "    .dataframe tbody tr th {\n",
       "        vertical-align: top;\n",
       "    }\n",
       "\n",
       "    .dataframe thead th {\n",
       "        text-align: right;\n",
       "    }\n",
       "</style>\n",
       "<table border=\"1\" class=\"dataframe\">\n",
       "  <thead>\n",
       "    <tr style=\"text-align: right;\">\n",
       "      <th></th>\n",
       "      <th>residence_id</th>\n",
       "      <th>residence_name</th>\n",
       "    </tr>\n",
       "  </thead>\n",
       "  <tbody>\n",
       "    <tr>\n",
       "      <th>0</th>\n",
       "      <td>1</td>\n",
       "      <td>Bahia</td>\n",
       "    </tr>\n",
       "    <tr>\n",
       "      <th>1</th>\n",
       "      <td>2</td>\n",
       "      <td>Minas Gerais</td>\n",
       "    </tr>\n",
       "    <tr>\n",
       "      <th>2</th>\n",
       "      <td>3</td>\n",
       "      <td>Espírito Santo</td>\n",
       "    </tr>\n",
       "    <tr>\n",
       "      <th>3</th>\n",
       "      <td>4</td>\n",
       "      <td>Rio de Janeiro</td>\n",
       "    </tr>\n",
       "    <tr>\n",
       "      <th>4</th>\n",
       "      <td>5</td>\n",
       "      <td>São Paulo</td>\n",
       "    </tr>\n",
       "    <tr>\n",
       "      <th>5</th>\n",
       "      <td>6</td>\n",
       "      <td>Paraná</td>\n",
       "    </tr>\n",
       "  </tbody>\n",
       "</table>\n",
       "</div>"
      ],
      "text/plain": [
       "  residence_id  residence_name\n",
       "0            1           Bahia\n",
       "1            2    Minas Gerais\n",
       "2            3  Espírito Santo\n",
       "3            4  Rio de Janeiro\n",
       "4            5       São Paulo\n",
       "5            6          Paraná"
      ]
     },
     "execution_count": 4,
     "metadata": {},
     "output_type": "execute_result"
    }
   ],
   "source": [
    "# Tabela de residencias b\n",
    "states = [\"Bahia\", \"Minas Gerais\", \"Espírito Santo\", \"Rio de Janeiro\", \"São Paulo\", \"Paraná\"]\n",
    "states_id=[1,2,3,4,5,6]\n",
    "residence_df = pd.DataFrame(data=np.array([states_id, states]), index=[\"residence_id\", \"residence_name\"]).T\n",
    "residence_df\n",
    "\n",
    "# Durante algumas pesquisas foi encontrado os principais produtores de café no pais e com esses dados essa tabela foi criada\n",
    "# Reference: https://www.mokaclube.com.br/blog/regioes-cafeeiras-do-brasil/"
   ]
  },
  {
   "cell_type": "code",
   "execution_count": 5,
   "metadata": {},
   "outputs": [
    {
     "data": {
      "text/html": [
       "<div>\n",
       "<style scoped>\n",
       "    .dataframe tbody tr th:only-of-type {\n",
       "        vertical-align: middle;\n",
       "    }\n",
       "\n",
       "    .dataframe tbody tr th {\n",
       "        vertical-align: top;\n",
       "    }\n",
       "\n",
       "    .dataframe thead th {\n",
       "        text-align: right;\n",
       "    }\n",
       "</style>\n",
       "<table border=\"1\" class=\"dataframe\">\n",
       "  <thead>\n",
       "    <tr style=\"text-align: right;\">\n",
       "      <th></th>\n",
       "      <th>consumer_type_id</th>\n",
       "      <th>consumer_type</th>\n",
       "    </tr>\n",
       "  </thead>\n",
       "  <tbody>\n",
       "    <tr>\n",
       "      <th>0</th>\n",
       "      <td>1</td>\n",
       "      <td>Pessoa Física</td>\n",
       "    </tr>\n",
       "    <tr>\n",
       "      <th>1</th>\n",
       "      <td>2</td>\n",
       "      <td>Pessoa Jurídica</td>\n",
       "    </tr>\n",
       "  </tbody>\n",
       "</table>\n",
       "</div>"
      ],
      "text/plain": [
       "  consumer_type_id    consumer_type\n",
       "0                1    Pessoa Física\n",
       "1                2  Pessoa Jurídica"
      ]
     },
     "execution_count": 5,
     "metadata": {},
     "output_type": "execute_result"
    }
   ],
   "source": [
    "# Tabela de Tipo de pessoa (Física ou Jurídica)\n",
    "consumer_type = [\"Pessoa Física\", \"Pessoa Jurídica\"]\n",
    "consumer_type_id = [1,2]\n",
    "consumer_type_df = pd.DataFrame(data=np.array([consumer_type_id, consumer_type]), index=[\"consumer_type_id\", \"consumer_type\"]).T\n",
    "consumer_type_df"
   ]
  },
  {
   "cell_type": "markdown",
   "metadata": {},
   "source": [
    "---"
   ]
  },
  {
   "cell_type": "markdown",
   "metadata": {},
   "source": [
    "<h3> Gerando os dados do consumidor </h3>"
   ]
  },
  {
   "cell_type": "markdown",
   "metadata": {},
   "source": [
    "Pensando na coluna de quantidade preterida foi levado em conta se o consumidor é uma pessoa jurídica ou física. Isso é importante, pois uma pessoa jurídica normalmente é um estabelecimento, ou seja, busca uma maior quantidade de cafés para compra."
   ]
  },
  {
   "cell_type": "code",
   "execution_count": 6,
   "metadata": {
    "scrolled": false
   },
   "outputs": [
    {
     "data": {
      "text/html": [
       "<div>\n",
       "<style scoped>\n",
       "    .dataframe tbody tr th:only-of-type {\n",
       "        vertical-align: middle;\n",
       "    }\n",
       "\n",
       "    .dataframe tbody tr th {\n",
       "        vertical-align: top;\n",
       "    }\n",
       "\n",
       "    .dataframe thead th {\n",
       "        text-align: right;\n",
       "    }\n",
       "</style>\n",
       "<table border=\"1\" class=\"dataframe\">\n",
       "  <thead>\n",
       "    <tr style=\"text-align: right;\">\n",
       "      <th></th>\n",
       "      <th>person_type</th>\n",
       "      <th>desired_quantity</th>\n",
       "    </tr>\n",
       "  </thead>\n",
       "  <tbody>\n",
       "    <tr>\n",
       "      <th>0</th>\n",
       "      <td>1</td>\n",
       "      <td>0.5</td>\n",
       "    </tr>\n",
       "    <tr>\n",
       "      <th>1</th>\n",
       "      <td>2</td>\n",
       "      <td>60.0</td>\n",
       "    </tr>\n",
       "    <tr>\n",
       "      <th>2</th>\n",
       "      <td>1</td>\n",
       "      <td>0.5</td>\n",
       "    </tr>\n",
       "    <tr>\n",
       "      <th>3</th>\n",
       "      <td>2</td>\n",
       "      <td>60.0</td>\n",
       "    </tr>\n",
       "    <tr>\n",
       "      <th>4</th>\n",
       "      <td>1</td>\n",
       "      <td>0.5</td>\n",
       "    </tr>\n",
       "    <tr>\n",
       "      <th>5</th>\n",
       "      <td>1</td>\n",
       "      <td>0.5</td>\n",
       "    </tr>\n",
       "    <tr>\n",
       "      <th>6</th>\n",
       "      <td>2</td>\n",
       "      <td>60.0</td>\n",
       "    </tr>\n",
       "    <tr>\n",
       "      <th>7</th>\n",
       "      <td>2</td>\n",
       "      <td>60.0</td>\n",
       "    </tr>\n",
       "    <tr>\n",
       "      <th>8</th>\n",
       "      <td>1</td>\n",
       "      <td>0.5</td>\n",
       "    </tr>\n",
       "    <tr>\n",
       "      <th>9</th>\n",
       "      <td>2</td>\n",
       "      <td>60.0</td>\n",
       "    </tr>\n",
       "  </tbody>\n",
       "</table>\n",
       "</div>"
      ],
      "text/plain": [
       "   person_type  desired_quantity\n",
       "0            1               0.5\n",
       "1            2              60.0\n",
       "2            1               0.5\n",
       "3            2              60.0\n",
       "4            1               0.5\n",
       "5            1               0.5\n",
       "6            2              60.0\n",
       "7            2              60.0\n",
       "8            1               0.5\n",
       "9            2              60.0"
      ]
     },
     "execution_count": 6,
     "metadata": {},
     "output_type": "execute_result"
    }
   ],
   "source": [
    "columns = [\"person_type\", \"desired_quantity\"]\n",
    "data = generate_person_type_and_desired_quantity(dataset_size)\n",
    "desired_quantity_df = pd.DataFrame(data=data, columns = columns)\n",
    "desired_quantity_df.head(10)"
   ]
  },
  {
   "cell_type": "markdown",
   "metadata": {},
   "source": [
    "<br> Possivelmente quem tem interesse em café especial, está disposto a gastar mais"
   ]
  },
  {
   "cell_type": "code",
   "execution_count": 7,
   "metadata": {
    "scrolled": false
   },
   "outputs": [
    {
     "data": {
      "text/html": [
       "<div>\n",
       "<style scoped>\n",
       "    .dataframe tbody tr th:only-of-type {\n",
       "        vertical-align: middle;\n",
       "    }\n",
       "\n",
       "    .dataframe tbody tr th {\n",
       "        vertical-align: top;\n",
       "    }\n",
       "\n",
       "    .dataframe thead th {\n",
       "        text-align: right;\n",
       "    }\n",
       "</style>\n",
       "<table border=\"1\" class=\"dataframe\">\n",
       "  <thead>\n",
       "    <tr style=\"text-align: right;\">\n",
       "      <th></th>\n",
       "      <th>search_special_coffee</th>\n",
       "      <th>financial_condition</th>\n",
       "    </tr>\n",
       "  </thead>\n",
       "  <tbody>\n",
       "    <tr>\n",
       "      <th>0</th>\n",
       "      <td>True</td>\n",
       "      <td>373</td>\n",
       "    </tr>\n",
       "    <tr>\n",
       "      <th>1</th>\n",
       "      <td>True</td>\n",
       "      <td>263</td>\n",
       "    </tr>\n",
       "    <tr>\n",
       "      <th>2</th>\n",
       "      <td>True</td>\n",
       "      <td>296</td>\n",
       "    </tr>\n",
       "    <tr>\n",
       "      <th>3</th>\n",
       "      <td>False</td>\n",
       "      <td>76</td>\n",
       "    </tr>\n",
       "    <tr>\n",
       "      <th>4</th>\n",
       "      <td>False</td>\n",
       "      <td>74</td>\n",
       "    </tr>\n",
       "  </tbody>\n",
       "</table>\n",
       "</div>"
      ],
      "text/plain": [
       "   search_special_coffee  financial_condition\n",
       "0                   True                  373\n",
       "1                   True                  263\n",
       "2                   True                  296\n",
       "3                  False                   76\n",
       "4                  False                   74"
      ]
     },
     "execution_count": 7,
     "metadata": {},
     "output_type": "execute_result"
    }
   ],
   "source": [
    "columns=[\"search_special_coffee\", \"financial_condition\"]\n",
    "data=generate_search_special_coffee_and_financial_condition(dataset_size)\n",
    "quantity_financial_condition = pd.DataFrame(data=data, columns=columns)\n",
    "quantity_financial_condition.head()"
   ]
  },
  {
   "cell_type": "markdown",
   "metadata": {},
   "source": [
    "<h3> Gerando os dados do produtor </h3>"
   ]
  },
  {
   "cell_type": "markdown",
   "metadata": {},
   "source": [
    "Pontuação do café gerada com base na altitude e qualidade médias dos cafés nos estados pesquisados"
   ]
  },
  {
   "cell_type": "code",
   "execution_count": 8,
   "metadata": {
    "scrolled": false
   },
   "outputs": [
    {
     "data": {
      "text/html": [
       "<div>\n",
       "<style scoped>\n",
       "    .dataframe tbody tr th:only-of-type {\n",
       "        vertical-align: middle;\n",
       "    }\n",
       "\n",
       "    .dataframe tbody tr th {\n",
       "        vertical-align: top;\n",
       "    }\n",
       "\n",
       "    .dataframe thead th {\n",
       "        text-align: right;\n",
       "    }\n",
       "</style>\n",
       "<table border=\"1\" class=\"dataframe\">\n",
       "  <thead>\n",
       "    <tr style=\"text-align: right;\">\n",
       "      <th></th>\n",
       "      <th>residence_id</th>\n",
       "      <th>coffee_score</th>\n",
       "    </tr>\n",
       "  </thead>\n",
       "  <tbody>\n",
       "    <tr>\n",
       "      <th>0</th>\n",
       "      <td>5</td>\n",
       "      <td>73</td>\n",
       "    </tr>\n",
       "    <tr>\n",
       "      <th>1</th>\n",
       "      <td>2</td>\n",
       "      <td>76</td>\n",
       "    </tr>\n",
       "    <tr>\n",
       "      <th>2</th>\n",
       "      <td>2</td>\n",
       "      <td>76</td>\n",
       "    </tr>\n",
       "    <tr>\n",
       "      <th>3</th>\n",
       "      <td>4</td>\n",
       "      <td>63</td>\n",
       "    </tr>\n",
       "    <tr>\n",
       "      <th>4</th>\n",
       "      <td>1</td>\n",
       "      <td>73</td>\n",
       "    </tr>\n",
       "  </tbody>\n",
       "</table>\n",
       "</div>"
      ],
      "text/plain": [
       "   residence_id  coffee_score\n",
       "0             5            73\n",
       "1             2            76\n",
       "2             2            76\n",
       "3             4            63\n",
       "4             1            73"
      ]
     },
     "execution_count": 8,
     "metadata": {},
     "output_type": "execute_result"
    }
   ],
   "source": [
    "columns=[\"residence_id\", \"coffee_score\"]\n",
    "data=generate_coffee_score_and_residences(dataset_size)\n",
    "coffee_score_df = pd.DataFrame(data=data, columns=columns)\n",
    "coffee_score_df.head()"
   ]
  },
  {
   "cell_type": "markdown",
   "metadata": {},
   "source": [
    "<br>Pela dificuldade de produzir café especial normalmente produtores que produzem esse tipo de café, produzem em uma quantidade menor de quem não produz.\n"
   ]
  },
  {
   "cell_type": "code",
   "execution_count": 9,
   "metadata": {
    "scrolled": false
   },
   "outputs": [
    {
     "data": {
      "text/html": [
       "<div>\n",
       "<style scoped>\n",
       "    .dataframe tbody tr th:only-of-type {\n",
       "        vertical-align: middle;\n",
       "    }\n",
       "\n",
       "    .dataframe tbody tr th {\n",
       "        vertical-align: top;\n",
       "    }\n",
       "\n",
       "    .dataframe thead th {\n",
       "        text-align: right;\n",
       "    }\n",
       "</style>\n",
       "<table border=\"1\" class=\"dataframe\">\n",
       "  <thead>\n",
       "    <tr style=\"text-align: right;\">\n",
       "      <th></th>\n",
       "      <th>produces_special_coffee</th>\n",
       "      <th>quantity_produced</th>\n",
       "    </tr>\n",
       "  </thead>\n",
       "  <tbody>\n",
       "    <tr>\n",
       "      <th>0</th>\n",
       "      <td>True</td>\n",
       "      <td>858</td>\n",
       "    </tr>\n",
       "    <tr>\n",
       "      <th>1</th>\n",
       "      <td>True</td>\n",
       "      <td>971</td>\n",
       "    </tr>\n",
       "    <tr>\n",
       "      <th>2</th>\n",
       "      <td>False</td>\n",
       "      <td>505</td>\n",
       "    </tr>\n",
       "    <tr>\n",
       "      <th>3</th>\n",
       "      <td>True</td>\n",
       "      <td>522</td>\n",
       "    </tr>\n",
       "    <tr>\n",
       "      <th>4</th>\n",
       "      <td>True</td>\n",
       "      <td>923</td>\n",
       "    </tr>\n",
       "  </tbody>\n",
       "</table>\n",
       "</div>"
      ],
      "text/plain": [
       "   produces_special_coffee  quantity_produced\n",
       "0                     True                858\n",
       "1                     True                971\n",
       "2                    False                505\n",
       "3                     True                522\n",
       "4                     True                923"
      ]
     },
     "execution_count": 9,
     "metadata": {},
     "output_type": "execute_result"
    }
   ],
   "source": [
    "columns=[\"produces_special_coffee\", \"quantity_produced\"]\n",
    "data=generate_produces_special_coffee_and_quantity_produced(dataset_size)\n",
    "quantity_produced_df = pd.DataFrame(data=data, columns=columns)\n",
    "quantity_produced_df.head()"
   ]
  },
  {
   "cell_type": "markdown",
   "metadata": {},
   "source": [
    "---"
   ]
  },
  {
   "cell_type": "markdown",
   "metadata": {},
   "source": [
    "<h3> Gerando os dataframes </h3>"
   ]
  },
  {
   "cell_type": "code",
   "execution_count": 10,
   "metadata": {},
   "outputs": [],
   "source": [
    "# Dataframe do consumidor\n",
    "consumer_df = generate_fake_dataframe(\n",
    "  size = dataset_size, \n",
    "  cols = consumer_cols, \n",
    "  col_names = consumer_col_names,\n",
    "  intervals = consumer_intervals,\n",
    "  seed=dataset_seed)\n",
    "\n",
    "# Dataframe do produtor\n",
    "producer_df = generate_fake_dataframe(\n",
    "  size = dataset_size, \n",
    "  cols = producer_cols, \n",
    "  col_names = producer_col_names,\n",
    "  intervals = producer_intervals,\n",
    "  seed=dataset_seed)"
   ]
  },
  {
   "cell_type": "markdown",
   "metadata": {},
   "source": [
    "Obs: Os dados gerados pela função 'generate_fake_dataframe' não utiliza as regras de negocio definidas, portanto alguns de seus dados serão substituidos"
   ]
  },
  {
   "cell_type": "markdown",
   "metadata": {},
   "source": [
    "#### Alterando as colunas geradas randomicamente pelas geradas utilizando as regras de negócio"
   ]
  },
  {
   "cell_type": "code",
   "execution_count": 11,
   "metadata": {},
   "outputs": [],
   "source": [
    "# Alterando os dados do consumidor\n",
    "consumer_df['person_type'] = desired_quantity_df['person_type']\n",
    "consumer_df['desired_quantity'] = desired_quantity_df['desired_quantity']\n",
    "\n",
    "consumer_df['search_special_coffee'] = quantity_financial_condition['search_special_coffee']\n",
    "consumer_df['financial_condition'] = quantity_financial_condition['financial_condition']\n",
    "\n",
    "# Alterando os dados do produtor\n",
    "producer_df['residence'] = coffee_score_df['residence_id']\n",
    "producer_df['coffee_score'] = coffee_score_df['coffee_score']\n",
    "\n",
    "producer_df['produces_special_coffee'] = quantity_produced_df['produces_special_coffee']\n",
    "producer_df['quantity_produced'] = quantity_produced_df['quantity_produced']"
   ]
  },
  {
   "cell_type": "markdown",
   "metadata": {},
   "source": [
    "<br>\n",
    "Baseado na regra de que produtores de café especial não podem ter nota abaixo de 80, os valores fora desse padrão serão removidos"
   ]
  },
  {
   "cell_type": "code",
   "execution_count": 12,
   "metadata": {},
   "outputs": [],
   "source": [
    "# Removendo os produtores gerados que produzem café especial com nota abaixo de 80\n",
    "producer_df = producer_df.drop(producer_df[(producer_df['produces_special_coffee'] == True) \n",
    "                                           & (producer_df['coffee_score']  < 80)].index)"
   ]
  },
  {
   "cell_type": "markdown",
   "metadata": {},
   "source": [
    "#### Mostrando dataframes criados"
   ]
  },
  {
   "cell_type": "code",
   "execution_count": 13,
   "metadata": {
    "scrolled": true
   },
   "outputs": [
    {
     "data": {
      "text/html": [
       "<div>\n",
       "<style scoped>\n",
       "    .dataframe tbody tr th:only-of-type {\n",
       "        vertical-align: middle;\n",
       "    }\n",
       "\n",
       "    .dataframe tbody tr th {\n",
       "        vertical-align: top;\n",
       "    }\n",
       "\n",
       "    .dataframe thead th {\n",
       "        text-align: right;\n",
       "    }\n",
       "</style>\n",
       "<table border=\"1\" class=\"dataframe\">\n",
       "  <thead>\n",
       "    <tr style=\"text-align: right;\">\n",
       "      <th></th>\n",
       "      <th>id</th>\n",
       "      <th>quantity_produced</th>\n",
       "      <th>residence</th>\n",
       "      <th>produces_special_coffee</th>\n",
       "      <th>coffee_score</th>\n",
       "    </tr>\n",
       "  </thead>\n",
       "  <tbody>\n",
       "    <tr>\n",
       "      <th>2</th>\n",
       "      <td>65457152</td>\n",
       "      <td>505</td>\n",
       "      <td>2</td>\n",
       "      <td>False</td>\n",
       "      <td>76</td>\n",
       "    </tr>\n",
       "    <tr>\n",
       "      <th>5</th>\n",
       "      <td>85859792</td>\n",
       "      <td>1182</td>\n",
       "      <td>4</td>\n",
       "      <td>False</td>\n",
       "      <td>57</td>\n",
       "    </tr>\n",
       "    <tr>\n",
       "      <th>8</th>\n",
       "      <td>20146954</td>\n",
       "      <td>719</td>\n",
       "      <td>2</td>\n",
       "      <td>False</td>\n",
       "      <td>83</td>\n",
       "    </tr>\n",
       "    <tr>\n",
       "      <th>10</th>\n",
       "      <td>52647898</td>\n",
       "      <td>974</td>\n",
       "      <td>3</td>\n",
       "      <td>False</td>\n",
       "      <td>64</td>\n",
       "    </tr>\n",
       "    <tr>\n",
       "      <th>13</th>\n",
       "      <td>76113970</td>\n",
       "      <td>739</td>\n",
       "      <td>5</td>\n",
       "      <td>False</td>\n",
       "      <td>78</td>\n",
       "    </tr>\n",
       "    <tr>\n",
       "      <th>15</th>\n",
       "      <td>78606430</td>\n",
       "      <td>978</td>\n",
       "      <td>5</td>\n",
       "      <td>False</td>\n",
       "      <td>80</td>\n",
       "    </tr>\n",
       "    <tr>\n",
       "      <th>16</th>\n",
       "      <td>51322657</td>\n",
       "      <td>907</td>\n",
       "      <td>4</td>\n",
       "      <td>False</td>\n",
       "      <td>75</td>\n",
       "    </tr>\n",
       "    <tr>\n",
       "      <th>18</th>\n",
       "      <td>83974823</td>\n",
       "      <td>795</td>\n",
       "      <td>2</td>\n",
       "      <td>False</td>\n",
       "      <td>77</td>\n",
       "    </tr>\n",
       "    <tr>\n",
       "      <th>19</th>\n",
       "      <td>45038594</td>\n",
       "      <td>1138</td>\n",
       "      <td>2</td>\n",
       "      <td>False</td>\n",
       "      <td>84</td>\n",
       "    </tr>\n",
       "    <tr>\n",
       "      <th>21</th>\n",
       "      <td>37079803</td>\n",
       "      <td>804</td>\n",
       "      <td>5</td>\n",
       "      <td>True</td>\n",
       "      <td>84</td>\n",
       "    </tr>\n",
       "  </tbody>\n",
       "</table>\n",
       "</div>"
      ],
      "text/plain": [
       "          id  quantity_produced  residence  produces_special_coffee  \\\n",
       "2   65457152                505          2                    False   \n",
       "5   85859792               1182          4                    False   \n",
       "8   20146954                719          2                    False   \n",
       "10  52647898                974          3                    False   \n",
       "13  76113970                739          5                    False   \n",
       "15  78606430                978          5                    False   \n",
       "16  51322657                907          4                    False   \n",
       "18  83974823                795          2                    False   \n",
       "19  45038594               1138          2                    False   \n",
       "21  37079803                804          5                     True   \n",
       "\n",
       "    coffee_score  \n",
       "2             76  \n",
       "5             57  \n",
       "8             83  \n",
       "10            64  \n",
       "13            78  \n",
       "15            80  \n",
       "16            75  \n",
       "18            77  \n",
       "19            84  \n",
       "21            84  "
      ]
     },
     "execution_count": 13,
     "metadata": {},
     "output_type": "execute_result"
    }
   ],
   "source": [
    "# Mostrando uma amostra dos dados do produtor\n",
    "producer_df.head(10)"
   ]
  },
  {
   "cell_type": "code",
   "execution_count": 14,
   "metadata": {
    "scrolled": true
   },
   "outputs": [
    {
     "data": {
      "text/html": [
       "<div>\n",
       "<style scoped>\n",
       "    .dataframe tbody tr th:only-of-type {\n",
       "        vertical-align: middle;\n",
       "    }\n",
       "\n",
       "    .dataframe tbody tr th {\n",
       "        vertical-align: top;\n",
       "    }\n",
       "\n",
       "    .dataframe thead th {\n",
       "        text-align: right;\n",
       "    }\n",
       "</style>\n",
       "<table border=\"1\" class=\"dataframe\">\n",
       "  <thead>\n",
       "    <tr style=\"text-align: right;\">\n",
       "      <th></th>\n",
       "      <th>id</th>\n",
       "      <th>financial_condition</th>\n",
       "      <th>residence</th>\n",
       "      <th>search_special_coffee</th>\n",
       "      <th>desired_quantity</th>\n",
       "      <th>person_type</th>\n",
       "    </tr>\n",
       "  </thead>\n",
       "  <tbody>\n",
       "    <tr>\n",
       "      <th>0</th>\n",
       "      <td>8925096</td>\n",
       "      <td>373</td>\n",
       "      <td>3</td>\n",
       "      <td>True</td>\n",
       "      <td>0.5</td>\n",
       "      <td>1</td>\n",
       "    </tr>\n",
       "    <tr>\n",
       "      <th>1</th>\n",
       "      <td>77395605</td>\n",
       "      <td>263</td>\n",
       "      <td>2</td>\n",
       "      <td>True</td>\n",
       "      <td>60.0</td>\n",
       "      <td>2</td>\n",
       "    </tr>\n",
       "    <tr>\n",
       "      <th>2</th>\n",
       "      <td>65457152</td>\n",
       "      <td>296</td>\n",
       "      <td>3</td>\n",
       "      <td>True</td>\n",
       "      <td>0.5</td>\n",
       "      <td>1</td>\n",
       "    </tr>\n",
       "    <tr>\n",
       "      <th>3</th>\n",
       "      <td>43887844</td>\n",
       "      <td>76</td>\n",
       "      <td>4</td>\n",
       "      <td>False</td>\n",
       "      <td>60.0</td>\n",
       "      <td>2</td>\n",
       "    </tr>\n",
       "    <tr>\n",
       "      <th>4</th>\n",
       "      <td>43301524</td>\n",
       "      <td>74</td>\n",
       "      <td>1</td>\n",
       "      <td>False</td>\n",
       "      <td>0.5</td>\n",
       "      <td>1</td>\n",
       "    </tr>\n",
       "    <tr>\n",
       "      <th>5</th>\n",
       "      <td>85859792</td>\n",
       "      <td>333</td>\n",
       "      <td>5</td>\n",
       "      <td>True</td>\n",
       "      <td>0.5</td>\n",
       "      <td>1</td>\n",
       "    </tr>\n",
       "    <tr>\n",
       "      <th>6</th>\n",
       "      <td>8594564</td>\n",
       "      <td>278</td>\n",
       "      <td>2</td>\n",
       "      <td>True</td>\n",
       "      <td>60.0</td>\n",
       "      <td>2</td>\n",
       "    </tr>\n",
       "    <tr>\n",
       "      <th>7</th>\n",
       "      <td>69736803</td>\n",
       "      <td>344</td>\n",
       "      <td>6</td>\n",
       "      <td>True</td>\n",
       "      <td>60.0</td>\n",
       "      <td>2</td>\n",
       "    </tr>\n",
       "    <tr>\n",
       "      <th>8</th>\n",
       "      <td>20146954</td>\n",
       "      <td>434</td>\n",
       "      <td>5</td>\n",
       "      <td>True</td>\n",
       "      <td>0.5</td>\n",
       "      <td>1</td>\n",
       "    </tr>\n",
       "    <tr>\n",
       "      <th>9</th>\n",
       "      <td>9417735</td>\n",
       "      <td>92</td>\n",
       "      <td>2</td>\n",
       "      <td>False</td>\n",
       "      <td>60.0</td>\n",
       "      <td>2</td>\n",
       "    </tr>\n",
       "  </tbody>\n",
       "</table>\n",
       "</div>"
      ],
      "text/plain": [
       "         id  financial_condition  residence  search_special_coffee  \\\n",
       "0   8925096                  373          3                   True   \n",
       "1  77395605                  263          2                   True   \n",
       "2  65457152                  296          3                   True   \n",
       "3  43887844                   76          4                  False   \n",
       "4  43301524                   74          1                  False   \n",
       "5  85859792                  333          5                   True   \n",
       "6   8594564                  278          2                   True   \n",
       "7  69736803                  344          6                   True   \n",
       "8  20146954                  434          5                   True   \n",
       "9   9417735                   92          2                  False   \n",
       "\n",
       "   desired_quantity  person_type  \n",
       "0               0.5            1  \n",
       "1              60.0            2  \n",
       "2               0.5            1  \n",
       "3              60.0            2  \n",
       "4               0.5            1  \n",
       "5               0.5            1  \n",
       "6              60.0            2  \n",
       "7              60.0            2  \n",
       "8               0.5            1  \n",
       "9              60.0            2  "
      ]
     },
     "execution_count": 14,
     "metadata": {},
     "output_type": "execute_result"
    }
   ],
   "source": [
    "# Mostrando uma amostra dos dados do consumidor\n",
    "consumer_df.head(10)"
   ]
  },
  {
   "cell_type": "markdown",
   "metadata": {},
   "source": [
    "<br>\n",
    "\n",
    "---\n",
    "<h3> Modelagem do Consumidor </h3>"
   ]
  },
  {
   "cell_type": "markdown",
   "metadata": {},
   "source": [
    "#### Normalizando os dados\n",
    "Uma boa prática é normalizar os dados para que o processo de modelagem seja mais preciso"
   ]
  },
  {
   "cell_type": "code",
   "execution_count": 15,
   "metadata": {},
   "outputs": [],
   "source": [
    "# Declarando scaler para normalizar dataframes\n",
    "scaler = StandardScaler()\n",
    "\n",
    "# Removendo coluna ID pois ela não é importante para o processo\n",
    "aux_df = consumer_df\n",
    "aux_df.drop(columns=['id'])\n",
    "\n",
    "# Normalizando o dataframes\n",
    "normalized_consumer_df = scaler.fit_transform(aux_df)"
   ]
  },
  {
   "cell_type": "markdown",
   "metadata": {},
   "source": [
    "#### Implementando PCA\n",
    "Pela quantidade de variaveis ser alta o PCA será implementado para melhor visualizar os dados"
   ]
  },
  {
   "cell_type": "code",
   "execution_count": 16,
   "metadata": {},
   "outputs": [
    {
     "data": {
      "image/png": "[encoded data removed]",
      "text/plain": [
       "<Figure size 432x288 with 1 Axes>"
      ]
     },
     "metadata": {
      "needs_background": "light"
     },
     "output_type": "display_data"
    }
   ],
   "source": [
    "# Declarando PCA com 2 dimenções\n",
    "pca = PCA(n_components=2)\n",
    "\n",
    "# Pegando os dados após o fit_transform do PCA\n",
    "pca_consumer_df = pca.fit_transform(normalized_consumer_df)\n",
    "\n",
    "# Visualizando dados ajustados do consumidor\n",
    "plt.scatter(pca_consumer_df[:, 0], pca_consumer_df[:, 1])\n",
    "plt.show()"
   ]
  },
  {
   "cell_type": "markdown",
   "metadata": {},
   "source": [
    "#### Implementando o método do cotovelo para visualizar o melhor valor de K\n",
    "Vamos agora implementar o “método do cotovelo” para determinar o número de clusters. Isso pode ser feito usando WCSS (soma dos quadrados das distâncias dos pontos de dados)"
   ]
  },
  {
   "cell_type": "code",
   "execution_count": 17,
   "metadata": {
    "scrolled": true
   },
   "outputs": [
    {
     "data": {
      "image/png": "[encoded data removed]",
      "text/plain": [
       "<Figure size 432x288 with 1 Axes>"
      ]
     },
     "metadata": {
      "needs_background": "light"
     },
     "output_type": "display_data"
    }
   ],
   "source": [
    "wcss = []\n",
    "for i in range(1,11):\n",
    "    model = KMeans(n_clusters = i, init = \"k-means++\")\n",
    "    model.fit(pca_consumer_df)\n",
    "    wcss.append(model.inertia_)\n",
    "plt.plot(range(1,11), wcss)\n",
    "plt.xlabel('Número de clusters')\n",
    "plt.ylabel('WCSS')\n",
    "plt.show()"
   ]
  },
  {
   "cell_type": "markdown",
   "metadata": {},
   "source": [
    "Como podemos observar o cotovelo se encontra no 4, ou seja, será usado 4 clusters para o consumidor "
   ]
  },
  {
   "cell_type": "code",
   "execution_count": 18,
   "metadata": {},
   "outputs": [],
   "source": [
    "k = 4"
   ]
  },
  {
   "cell_type": "markdown",
   "metadata": {},
   "source": [
    "#### Alimentando modelo"
   ]
  },
  {
   "cell_type": "code",
   "execution_count": 19,
   "metadata": {
    "scrolled": true
   },
   "outputs": [
    {
     "data": {
      "image/png": "[encoded data removed]",
      "text/plain": [
       "<Figure size 432x288 with 1 Axes>"
      ]
     },
     "metadata": {
      "needs_background": "light"
     },
     "output_type": "display_data"
    }
   ],
   "source": [
    "# Declarando modelo com 3 clusters\n",
    "model = KMeans(n_clusters = k, init = \"k-means++\")\n",
    "\n",
    "# Ajustando modelo com base nos dados fornecidos pelo PCA\n",
    "fitting = model.fit(pca_consumer_df)\n",
    "\n",
    "# Pegando centroids\n",
    "centers = fitting.cluster_centers_\n",
    "\n",
    "# Visualizando dados modelados e agrupados\n",
    "plt.scatter(pca_consumer_df[:, 0], pca_consumer_df[:, 1], c= fitting.labels_.astype(float), s=50, alpha=0.5)\n",
    "plt.scatter(centers[:, 0], centers[:, 1], marker=\"o\", color='r', label='centroids')\n",
    "plt.legend(scatterpoints=1)\n",
    "plt.show()"
   ]
  },
  {
   "cell_type": "markdown",
   "metadata": {},
   "source": [
    "#### Pegando o resultado da modelagem"
   ]
  },
  {
   "cell_type": "code",
   "execution_count": 20,
   "metadata": {
    "scrolled": true
   },
   "outputs": [
    {
     "data": {
      "text/html": [
       "<div>\n",
       "<style scoped>\n",
       "    .dataframe tbody tr th:only-of-type {\n",
       "        vertical-align: middle;\n",
       "    }\n",
       "\n",
       "    .dataframe tbody tr th {\n",
       "        vertical-align: top;\n",
       "    }\n",
       "\n",
       "    .dataframe thead th {\n",
       "        text-align: right;\n",
       "    }\n",
       "</style>\n",
       "<table border=\"1\" class=\"dataframe\">\n",
       "  <thead>\n",
       "    <tr style=\"text-align: right;\">\n",
       "      <th></th>\n",
       "      <th>id</th>\n",
       "      <th>financial_condition</th>\n",
       "      <th>residence</th>\n",
       "      <th>search_special_coffee</th>\n",
       "      <th>desired_quantity</th>\n",
       "      <th>person_type</th>\n",
       "      <th>labels</th>\n",
       "    </tr>\n",
       "  </thead>\n",
       "  <tbody>\n",
       "    <tr>\n",
       "      <th>0</th>\n",
       "      <td>8925096</td>\n",
       "      <td>373</td>\n",
       "      <td>3</td>\n",
       "      <td>True</td>\n",
       "      <td>0.5</td>\n",
       "      <td>1</td>\n",
       "      <td>3</td>\n",
       "    </tr>\n",
       "    <tr>\n",
       "      <th>1</th>\n",
       "      <td>77395605</td>\n",
       "      <td>263</td>\n",
       "      <td>2</td>\n",
       "      <td>True</td>\n",
       "      <td>60.0</td>\n",
       "      <td>2</td>\n",
       "      <td>2</td>\n",
       "    </tr>\n",
       "    <tr>\n",
       "      <th>2</th>\n",
       "      <td>65457152</td>\n",
       "      <td>296</td>\n",
       "      <td>3</td>\n",
       "      <td>True</td>\n",
       "      <td>0.5</td>\n",
       "      <td>1</td>\n",
       "      <td>3</td>\n",
       "    </tr>\n",
       "    <tr>\n",
       "      <th>3</th>\n",
       "      <td>43887844</td>\n",
       "      <td>76</td>\n",
       "      <td>4</td>\n",
       "      <td>False</td>\n",
       "      <td>60.0</td>\n",
       "      <td>2</td>\n",
       "      <td>1</td>\n",
       "    </tr>\n",
       "    <tr>\n",
       "      <th>4</th>\n",
       "      <td>43301524</td>\n",
       "      <td>74</td>\n",
       "      <td>1</td>\n",
       "      <td>False</td>\n",
       "      <td>0.5</td>\n",
       "      <td>1</td>\n",
       "      <td>0</td>\n",
       "    </tr>\n",
       "    <tr>\n",
       "      <th>5</th>\n",
       "      <td>85859792</td>\n",
       "      <td>333</td>\n",
       "      <td>5</td>\n",
       "      <td>True</td>\n",
       "      <td>0.5</td>\n",
       "      <td>1</td>\n",
       "      <td>3</td>\n",
       "    </tr>\n",
       "    <tr>\n",
       "      <th>6</th>\n",
       "      <td>8594564</td>\n",
       "      <td>278</td>\n",
       "      <td>2</td>\n",
       "      <td>True</td>\n",
       "      <td>60.0</td>\n",
       "      <td>2</td>\n",
       "      <td>2</td>\n",
       "    </tr>\n",
       "    <tr>\n",
       "      <th>7</th>\n",
       "      <td>69736803</td>\n",
       "      <td>344</td>\n",
       "      <td>6</td>\n",
       "      <td>True</td>\n",
       "      <td>60.0</td>\n",
       "      <td>2</td>\n",
       "      <td>2</td>\n",
       "    </tr>\n",
       "    <tr>\n",
       "      <th>8</th>\n",
       "      <td>20146954</td>\n",
       "      <td>434</td>\n",
       "      <td>5</td>\n",
       "      <td>True</td>\n",
       "      <td>0.5</td>\n",
       "      <td>1</td>\n",
       "      <td>3</td>\n",
       "    </tr>\n",
       "    <tr>\n",
       "      <th>9</th>\n",
       "      <td>9417735</td>\n",
       "      <td>92</td>\n",
       "      <td>2</td>\n",
       "      <td>False</td>\n",
       "      <td>60.0</td>\n",
       "      <td>2</td>\n",
       "      <td>1</td>\n",
       "    </tr>\n",
       "  </tbody>\n",
       "</table>\n",
       "</div>"
      ],
      "text/plain": [
       "         id  financial_condition  residence  search_special_coffee  \\\n",
       "0   8925096                  373          3                   True   \n",
       "1  77395605                  263          2                   True   \n",
       "2  65457152                  296          3                   True   \n",
       "3  43887844                   76          4                  False   \n",
       "4  43301524                   74          1                  False   \n",
       "5  85859792                  333          5                   True   \n",
       "6   8594564                  278          2                   True   \n",
       "7  69736803                  344          6                   True   \n",
       "8  20146954                  434          5                   True   \n",
       "9   9417735                   92          2                  False   \n",
       "\n",
       "   desired_quantity  person_type  labels  \n",
       "0               0.5            1       3  \n",
       "1              60.0            2       2  \n",
       "2               0.5            1       3  \n",
       "3              60.0            2       1  \n",
       "4               0.5            1       0  \n",
       "5               0.5            1       3  \n",
       "6              60.0            2       2  \n",
       "7              60.0            2       2  \n",
       "8               0.5            1       3  \n",
       "9              60.0            2       1  "
      ]
     },
     "execution_count": 20,
     "metadata": {},
     "output_type": "execute_result"
    }
   ],
   "source": [
    "# Realizando o predict para encontrar os labels\n",
    "labels = fitting.predict(pca_consumer_df)\n",
    "\n",
    "# Criando nova coluna com os Labels\n",
    "consumer_df['labels'] = labels\n",
    "\n",
    "# Visualizando dataframe com nova coluna\n",
    "consumer_df.head(10)"
   ]
  },
  {
   "cell_type": "code",
   "execution_count": 21,
   "metadata": {
    "scrolled": true
   },
   "outputs": [
    {
     "data": {
      "text/html": [
       "<div>\n",
       "<style scoped>\n",
       "    .dataframe tbody tr th:only-of-type {\n",
       "        vertical-align: middle;\n",
       "    }\n",
       "\n",
       "    .dataframe tbody tr th {\n",
       "        vertical-align: top;\n",
       "    }\n",
       "\n",
       "    .dataframe thead th {\n",
       "        text-align: right;\n",
       "    }\n",
       "</style>\n",
       "<table border=\"1\" class=\"dataframe\">\n",
       "  <thead>\n",
       "    <tr style=\"text-align: right;\">\n",
       "      <th></th>\n",
       "      <th>id</th>\n",
       "      <th>financial_condition</th>\n",
       "      <th>residence</th>\n",
       "      <th>search_special_coffee</th>\n",
       "      <th>desired_quantity</th>\n",
       "      <th>person_type</th>\n",
       "      <th>labels</th>\n",
       "    </tr>\n",
       "  </thead>\n",
       "  <tbody>\n",
       "    <tr>\n",
       "      <th>id</th>\n",
       "      <td>1.000000</td>\n",
       "      <td>0.019857</td>\n",
       "      <td>0.003898</td>\n",
       "      <td>0.018576</td>\n",
       "      <td>0.028830</td>\n",
       "      <td>0.028916</td>\n",
       "      <td>0.026463</td>\n",
       "    </tr>\n",
       "    <tr>\n",
       "      <th>financial_condition</th>\n",
       "      <td>0.019857</td>\n",
       "      <td>1.000000</td>\n",
       "      <td>-0.005157</td>\n",
       "      <td>0.943523</td>\n",
       "      <td>0.008437</td>\n",
       "      <td>0.008490</td>\n",
       "      <td>0.837514</td>\n",
       "    </tr>\n",
       "    <tr>\n",
       "      <th>residence</th>\n",
       "      <td>0.003898</td>\n",
       "      <td>-0.005157</td>\n",
       "      <td>1.000000</td>\n",
       "      <td>-0.001425</td>\n",
       "      <td>-0.020485</td>\n",
       "      <td>-0.020556</td>\n",
       "      <td>0.000074</td>\n",
       "    </tr>\n",
       "    <tr>\n",
       "      <th>search_special_coffee</th>\n",
       "      <td>0.018576</td>\n",
       "      <td>0.943523</td>\n",
       "      <td>-0.001425</td>\n",
       "      <td>1.000000</td>\n",
       "      <td>0.018891</td>\n",
       "      <td>0.018873</td>\n",
       "      <td>0.883270</td>\n",
       "    </tr>\n",
       "    <tr>\n",
       "      <th>desired_quantity</th>\n",
       "      <td>0.028830</td>\n",
       "      <td>0.008437</td>\n",
       "      <td>-0.020485</td>\n",
       "      <td>0.018891</td>\n",
       "      <td>1.000000</td>\n",
       "      <td>0.999983</td>\n",
       "      <td>0.157764</td>\n",
       "    </tr>\n",
       "    <tr>\n",
       "      <th>person_type</th>\n",
       "      <td>0.028916</td>\n",
       "      <td>0.008490</td>\n",
       "      <td>-0.020556</td>\n",
       "      <td>0.018873</td>\n",
       "      <td>0.999983</td>\n",
       "      <td>1.000000</td>\n",
       "      <td>0.157742</td>\n",
       "    </tr>\n",
       "    <tr>\n",
       "      <th>labels</th>\n",
       "      <td>0.026463</td>\n",
       "      <td>0.837514</td>\n",
       "      <td>0.000074</td>\n",
       "      <td>0.883270</td>\n",
       "      <td>0.157764</td>\n",
       "      <td>0.157742</td>\n",
       "      <td>1.000000</td>\n",
       "    </tr>\n",
       "  </tbody>\n",
       "</table>\n",
       "</div>"
      ],
      "text/plain": [
       "                             id  financial_condition  residence  \\\n",
       "id                     1.000000             0.019857   0.003898   \n",
       "financial_condition    0.019857             1.000000  -0.005157   \n",
       "residence              0.003898            -0.005157   1.000000   \n",
       "search_special_coffee  0.018576             0.943523  -0.001425   \n",
       "desired_quantity       0.028830             0.008437  -0.020485   \n",
       "person_type            0.028916             0.008490  -0.020556   \n",
       "labels                 0.026463             0.837514   0.000074   \n",
       "\n",
       "                       search_special_coffee  desired_quantity  person_type  \\\n",
       "id                                  0.018576          0.028830     0.028916   \n",
       "financial_condition                 0.943523          0.008437     0.008490   \n",
       "residence                          -0.001425         -0.020485    -0.020556   \n",
       "search_special_coffee               1.000000          0.018891     0.018873   \n",
       "desired_quantity                    0.018891          1.000000     0.999983   \n",
       "person_type                         0.018873          0.999983     1.000000   \n",
       "labels                              0.883270          0.157764     0.157742   \n",
       "\n",
       "                         labels  \n",
       "id                     0.026463  \n",
       "financial_condition    0.837514  \n",
       "residence              0.000074  \n",
       "search_special_coffee  0.883270  \n",
       "desired_quantity       0.157764  \n",
       "person_type            0.157742  \n",
       "labels                 1.000000  "
      ]
     },
     "execution_count": 21,
     "metadata": {},
     "output_type": "execute_result"
    }
   ],
   "source": [
    "# Observando as correlações dos dados do dataframe utilizando o método pearson\n",
    "consumer_df.corr(method ='pearson')"
   ]
  },
  {
   "cell_type": "markdown",
   "metadata": {},
   "source": [
    "<br>\n",
    "\n",
    "---\n",
    "<h3> Modelagem do Produtor </h3>"
   ]
  },
  {
   "cell_type": "markdown",
   "metadata": {},
   "source": [
    "#### Normalizando os dados\n",
    "Uma boa prática é normalizar os dados para que o processo de modelagem seja mais preciso"
   ]
  },
  {
   "cell_type": "code",
   "execution_count": 22,
   "metadata": {},
   "outputs": [],
   "source": [
    "# Declarando scaler para normalizar dataframes\n",
    "scaler = StandardScaler()\n",
    "\n",
    "# Removendo coluna ID pois ela não é importante para o processo\n",
    "aux_df = producer_df\n",
    "aux_df.drop(columns=['id'])\n",
    "\n",
    "# Normalizando o dataframes\n",
    "normalized_producer_df = scaler.fit_transform(aux_df)"
   ]
  },
  {
   "cell_type": "markdown",
   "metadata": {},
   "source": [
    "#### Implementando PCA\n",
    "Pela quantidade de variaveis ser alta o PCA será implementado para melhor visualizar os dados"
   ]
  },
  {
   "cell_type": "code",
   "execution_count": 23,
   "metadata": {},
   "outputs": [
    {
     "data": {
      "image/png": "[encoded data removed]",
      "text/plain": [
       "<Figure size 432x288 with 1 Axes>"
      ]
     },
     "metadata": {
      "needs_background": "light"
     },
     "output_type": "display_data"
    }
   ],
   "source": [
    "# Declarando PCA com 2 dimenções\n",
    "pca = PCA(n_components=2)\n",
    "\n",
    "# Pegando os dados após o fit_transform do PCA\n",
    "pca_producer_df = pca.fit_transform(normalized_producer_df)\n",
    "\n",
    "# Visualizando dados ajustados do consumidor\n",
    "plt.scatter(pca_producer_df[:, 0], pca_producer_df[:, 1])\n",
    "plt.show()"
   ]
  },
  {
   "cell_type": "markdown",
   "metadata": {},
   "source": [
    "#### Implementando o método do cotovelo para visualizar o melhor valor de K\n",
    "Vamos agora implementar o “método do cotovelo” para determinar o número de clusters. Isso pode ser feito usando WCSS (soma dos quadrados das distâncias dos pontos de dados)"
   ]
  },
  {
   "cell_type": "code",
   "execution_count": 24,
   "metadata": {
    "scrolled": false
   },
   "outputs": [
    {
     "data": {
      "image/png": "[encoded data removed]",
      "text/plain": [
       "<Figure size 432x288 with 1 Axes>"
      ]
     },
     "metadata": {
      "needs_background": "light"
     },
     "output_type": "display_data"
    }
   ],
   "source": [
    "wcss = []\n",
    "for i in range(1,11):\n",
    "    model = KMeans(n_clusters = i, init = \"k-means++\")\n",
    "    model.fit(pca_producer_df)\n",
    "    wcss.append(model.inertia_)\n",
    "plt.plot(range(1,11), wcss)\n",
    "plt.xlabel('Número de clusters')\n",
    "plt.ylabel('WCSS')\n",
    "plt.show()"
   ]
  },
  {
   "cell_type": "markdown",
   "metadata": {},
   "source": [
    "Como é evidente que não existe um cotovelo específico para este conjunto de dados, neste projeto farei isso usando 4 clusters."
   ]
  },
  {
   "cell_type": "code",
   "execution_count": 25,
   "metadata": {},
   "outputs": [],
   "source": [
    "k = 4"
   ]
  },
  {
   "cell_type": "markdown",
   "metadata": {},
   "source": [
    "#### Alimentando modelo"
   ]
  },
  {
   "cell_type": "code",
   "execution_count": 26,
   "metadata": {
    "scrolled": true
   },
   "outputs": [
    {
     "data": {
      "image/png": "[encoded data removed]",
      "text/plain": [
       "<Figure size 432x288 with 1 Axes>"
      ]
     },
     "metadata": {
      "needs_background": "light"
     },
     "output_type": "display_data"
    }
   ],
   "source": [
    "# Declarando modelo com 3 clusters\n",
    "model = KMeans(n_clusters = k, init = \"k-means++\")\n",
    "\n",
    "# Ajustando modelo com base nos dados fornecidos pelo PCA\n",
    "fitting = model.fit(pca_producer_df)\n",
    "\n",
    "# Pegando centroids\n",
    "centers = fitting.cluster_centers_\n",
    "\n",
    "# Visualizando dados modelados e agrupados\n",
    "plt.scatter(pca_producer_df[:, 0], pca_producer_df[:, 1], c= fitting.labels_.astype(float), s=50, alpha=0.5)\n",
    "plt.scatter(centers[:, 0], centers[:, 1], marker=\"o\", color='r', label='centroids')\n",
    "plt.legend(scatterpoints=1)\n",
    "plt.show()"
   ]
  },
  {
   "cell_type": "markdown",
   "metadata": {},
   "source": [
    "#### Pegando o resultado da modelagem"
   ]
  },
  {
   "cell_type": "code",
   "execution_count": 27,
   "metadata": {
    "scrolled": true
   },
   "outputs": [
    {
     "data": {
      "text/html": [
       "<div>\n",
       "<style scoped>\n",
       "    .dataframe tbody tr th:only-of-type {\n",
       "        vertical-align: middle;\n",
       "    }\n",
       "\n",
       "    .dataframe tbody tr th {\n",
       "        vertical-align: top;\n",
       "    }\n",
       "\n",
       "    .dataframe thead th {\n",
       "        text-align: right;\n",
       "    }\n",
       "</style>\n",
       "<table border=\"1\" class=\"dataframe\">\n",
       "  <thead>\n",
       "    <tr style=\"text-align: right;\">\n",
       "      <th></th>\n",
       "      <th>id</th>\n",
       "      <th>quantity_produced</th>\n",
       "      <th>residence</th>\n",
       "      <th>produces_special_coffee</th>\n",
       "      <th>coffee_score</th>\n",
       "      <th>labels</th>\n",
       "    </tr>\n",
       "  </thead>\n",
       "  <tbody>\n",
       "    <tr>\n",
       "      <th>2</th>\n",
       "      <td>65457152</td>\n",
       "      <td>505</td>\n",
       "      <td>2</td>\n",
       "      <td>False</td>\n",
       "      <td>76</td>\n",
       "      <td>0</td>\n",
       "    </tr>\n",
       "    <tr>\n",
       "      <th>5</th>\n",
       "      <td>85859792</td>\n",
       "      <td>1182</td>\n",
       "      <td>4</td>\n",
       "      <td>False</td>\n",
       "      <td>57</td>\n",
       "      <td>3</td>\n",
       "    </tr>\n",
       "    <tr>\n",
       "      <th>8</th>\n",
       "      <td>20146954</td>\n",
       "      <td>719</td>\n",
       "      <td>2</td>\n",
       "      <td>False</td>\n",
       "      <td>83</td>\n",
       "      <td>0</td>\n",
       "    </tr>\n",
       "    <tr>\n",
       "      <th>10</th>\n",
       "      <td>52647898</td>\n",
       "      <td>974</td>\n",
       "      <td>3</td>\n",
       "      <td>False</td>\n",
       "      <td>64</td>\n",
       "      <td>3</td>\n",
       "    </tr>\n",
       "    <tr>\n",
       "      <th>13</th>\n",
       "      <td>76113970</td>\n",
       "      <td>739</td>\n",
       "      <td>5</td>\n",
       "      <td>False</td>\n",
       "      <td>78</td>\n",
       "      <td>0</td>\n",
       "    </tr>\n",
       "    <tr>\n",
       "      <th>15</th>\n",
       "      <td>78606430</td>\n",
       "      <td>978</td>\n",
       "      <td>5</td>\n",
       "      <td>False</td>\n",
       "      <td>80</td>\n",
       "      <td>1</td>\n",
       "    </tr>\n",
       "    <tr>\n",
       "      <th>16</th>\n",
       "      <td>51322657</td>\n",
       "      <td>907</td>\n",
       "      <td>4</td>\n",
       "      <td>False</td>\n",
       "      <td>75</td>\n",
       "      <td>1</td>\n",
       "    </tr>\n",
       "    <tr>\n",
       "      <th>18</th>\n",
       "      <td>83974823</td>\n",
       "      <td>795</td>\n",
       "      <td>2</td>\n",
       "      <td>False</td>\n",
       "      <td>77</td>\n",
       "      <td>0</td>\n",
       "    </tr>\n",
       "    <tr>\n",
       "      <th>19</th>\n",
       "      <td>45038594</td>\n",
       "      <td>1138</td>\n",
       "      <td>2</td>\n",
       "      <td>False</td>\n",
       "      <td>84</td>\n",
       "      <td>1</td>\n",
       "    </tr>\n",
       "    <tr>\n",
       "      <th>21</th>\n",
       "      <td>37079803</td>\n",
       "      <td>804</td>\n",
       "      <td>5</td>\n",
       "      <td>True</td>\n",
       "      <td>84</td>\n",
       "      <td>2</td>\n",
       "    </tr>\n",
       "  </tbody>\n",
       "</table>\n",
       "</div>"
      ],
      "text/plain": [
       "          id  quantity_produced  residence  produces_special_coffee  \\\n",
       "2   65457152                505          2                    False   \n",
       "5   85859792               1182          4                    False   \n",
       "8   20146954                719          2                    False   \n",
       "10  52647898                974          3                    False   \n",
       "13  76113970                739          5                    False   \n",
       "15  78606430                978          5                    False   \n",
       "16  51322657                907          4                    False   \n",
       "18  83974823                795          2                    False   \n",
       "19  45038594               1138          2                    False   \n",
       "21  37079803                804          5                     True   \n",
       "\n",
       "    coffee_score  labels  \n",
       "2             76       0  \n",
       "5             57       3  \n",
       "8             83       0  \n",
       "10            64       3  \n",
       "13            78       0  \n",
       "15            80       1  \n",
       "16            75       1  \n",
       "18            77       0  \n",
       "19            84       1  \n",
       "21            84       2  "
      ]
     },
     "execution_count": 27,
     "metadata": {},
     "output_type": "execute_result"
    }
   ],
   "source": [
    "# Realizando o predict para encontrar os labels\n",
    "labels = fitting.predict(pca_producer_df)\n",
    "\n",
    "# Criando nova coluna com os Labels\n",
    "producer_df['labels'] = labels\n",
    "\n",
    "# Visualizando dataframe com nova coluna\n",
    "producer_df.head(10)"
   ]
  },
  {
   "cell_type": "code",
   "execution_count": 28,
   "metadata": {
    "scrolled": true
   },
   "outputs": [
    {
     "data": {
      "text/html": [
       "<div>\n",
       "<style scoped>\n",
       "    .dataframe tbody tr th:only-of-type {\n",
       "        vertical-align: middle;\n",
       "    }\n",
       "\n",
       "    .dataframe tbody tr th {\n",
       "        vertical-align: top;\n",
       "    }\n",
       "\n",
       "    .dataframe thead th {\n",
       "        text-align: right;\n",
       "    }\n",
       "</style>\n",
       "<table border=\"1\" class=\"dataframe\">\n",
       "  <thead>\n",
       "    <tr style=\"text-align: right;\">\n",
       "      <th></th>\n",
       "      <th>id</th>\n",
       "      <th>quantity_produced</th>\n",
       "      <th>residence</th>\n",
       "      <th>produces_special_coffee</th>\n",
       "      <th>coffee_score</th>\n",
       "      <th>labels</th>\n",
       "    </tr>\n",
       "  </thead>\n",
       "  <tbody>\n",
       "    <tr>\n",
       "      <th>id</th>\n",
       "      <td>1.000000</td>\n",
       "      <td>-0.028432</td>\n",
       "      <td>-0.027452</td>\n",
       "      <td>0.057914</td>\n",
       "      <td>-0.052172</td>\n",
       "      <td>0.052524</td>\n",
       "    </tr>\n",
       "    <tr>\n",
       "      <th>quantity_produced</th>\n",
       "      <td>-0.028432</td>\n",
       "      <td>1.000000</td>\n",
       "      <td>0.024843</td>\n",
       "      <td>-0.312068</td>\n",
       "      <td>-0.100394</td>\n",
       "      <td>0.006234</td>\n",
       "    </tr>\n",
       "    <tr>\n",
       "      <th>residence</th>\n",
       "      <td>-0.027452</td>\n",
       "      <td>0.024843</td>\n",
       "      <td>1.000000</td>\n",
       "      <td>0.080290</td>\n",
       "      <td>0.227254</td>\n",
       "      <td>-0.356767</td>\n",
       "    </tr>\n",
       "    <tr>\n",
       "      <th>produces_special_coffee</th>\n",
       "      <td>0.057914</td>\n",
       "      <td>-0.312068</td>\n",
       "      <td>0.080290</td>\n",
       "      <td>1.000000</td>\n",
       "      <td>0.444919</td>\n",
       "      <td>0.233474</td>\n",
       "    </tr>\n",
       "    <tr>\n",
       "      <th>coffee_score</th>\n",
       "      <td>-0.052172</td>\n",
       "      <td>-0.100394</td>\n",
       "      <td>0.227254</td>\n",
       "      <td>0.444919</td>\n",
       "      <td>1.000000</td>\n",
       "      <td>-0.507529</td>\n",
       "    </tr>\n",
       "    <tr>\n",
       "      <th>labels</th>\n",
       "      <td>0.052524</td>\n",
       "      <td>0.006234</td>\n",
       "      <td>-0.356767</td>\n",
       "      <td>0.233474</td>\n",
       "      <td>-0.507529</td>\n",
       "      <td>1.000000</td>\n",
       "    </tr>\n",
       "  </tbody>\n",
       "</table>\n",
       "</div>"
      ],
      "text/plain": [
       "                               id  quantity_produced  residence  \\\n",
       "id                       1.000000          -0.028432  -0.027452   \n",
       "quantity_produced       -0.028432           1.000000   0.024843   \n",
       "residence               -0.027452           0.024843   1.000000   \n",
       "produces_special_coffee  0.057914          -0.312068   0.080290   \n",
       "coffee_score            -0.052172          -0.100394   0.227254   \n",
       "labels                   0.052524           0.006234  -0.356767   \n",
       "\n",
       "                         produces_special_coffee  coffee_score    labels  \n",
       "id                                      0.057914     -0.052172  0.052524  \n",
       "quantity_produced                      -0.312068     -0.100394  0.006234  \n",
       "residence                               0.080290      0.227254 -0.356767  \n",
       "produces_special_coffee                 1.000000      0.444919  0.233474  \n",
       "coffee_score                            0.444919      1.000000 -0.507529  \n",
       "labels                                  0.233474     -0.507529  1.000000  "
      ]
     },
     "execution_count": 28,
     "metadata": {},
     "output_type": "execute_result"
    }
   ],
   "source": [
    "# Observando as correlações dos dados do dataframe utilizando o método pearson\n",
    "producer_df.corr(method ='pearson')"
   ]
  }
 ],
 "metadata": {
  "kernelspec": {
   "display_name": "Python 3",
   "language": "python",
   "name": "python3"
  },
  "language_info": {
   "codemirror_mode": {
    "name": "ipython",
    "version": 3
   },
   "file_extension": ".py",
   "mimetype": "text/x-python",
   "name": "python",
   "nbconvert_exporter": "python",
   "pygments_lexer": "ipython3",
   "version": "3.9.1"
  }
 },
 "nbformat": 4,
 "nbformat_minor": 4
}
