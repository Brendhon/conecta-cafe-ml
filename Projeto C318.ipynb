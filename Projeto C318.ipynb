{
 "cells": [
  {
   "cell_type": "markdown",
   "metadata": {},
   "source": [
    "<h2  style=\"text-align: center\"> ML - Conecta café </h2><br>\n",
    "<div style=\"text-align: justify\"> Modelo de <i> machine learning </i> criado para a plataforma <b> Conecta Café </b> com o objetivo de reunir compradores de cafés especiais com cafeicultores que possuam <i>fit</i>.</div>"
   ]
  },
  {
   "cell_type": "markdown",
   "metadata": {},
   "source": [
    "<h3> Contexto </h3><br>\n",
    "<div style=\"text-align: justify\"> \n",
    "    Com o avanço da tecnologia, a conexão entre produtores e consumidores de produtos e serviços de qualquer natureza está se tornando cada vez maior, uma vez que ela permite expandir e democratizar o acesso a deles.\n",
    "    <br>\n",
    "    Pensando nisso, foi criado uma plataforma Web que tem como propósito de conectar facilmente cafeicultores e consumidores de cafés especiais. Nessa aplicação, o produtor pode cadastrar os dados do café produzido permitindo assim, que compradores possam realizar a pesquisa e encontrar o café de sua escolha.\n",
    "</div>"
   ]
  },
  {
   "cell_type": "markdown",
   "metadata": {},
   "source": [
    "<h3> Problemática </h3><br>\n",
    "<div style=\"text-align: justify\"> \n",
    "    Ao acessar o site o consumidor pode buscar pelo café inserindo alguns dados em um filtro. Porém, pense que o comprador não sabe o que procura, é apenas alguém que não possui conhecimento sobre cafés especiais, mas gostaria de experimentar algo novo. Não seria interressante a plataforma entender o comportamento desse cliente e realizar recomendações baseadas em alguns dados? </div>"
   ]
  },
  {
   "cell_type": "markdown",
   "metadata": {},
   "source": [
    "<h3> Proposta </h3><br>\n",
    "<div style=\"text-align: justify\"> \n",
    "A proposta é aproximar compradores com cafeicultores que possuem características semelhantes. Como por exemplo, baseado na condição financeira, onde consumidores de grandes quantidades de café sejam agrupados com produtores que produzam o suficiente para atendê-los. Isso é pensado para reduzir o <i> overflow </i> de dados atual da plataforma e melhorar o sistema de busca da aplicação.</div>"
   ]
  },
  {
   "cell_type": "markdown",
   "metadata": {},
   "source": [
    "---\n",
    "<h2  style=\"text-align: center\"> Informações do projeto </h2><br>"
   ]
  },
  {
   "cell_type": "markdown",
   "metadata": {},
   "source": [
    "<h3> Repositório </h3>\n",
    "\n",
    "- **[🤖 API da plataforma](https://github.com/Brendhon/conecta-cafe-api)**\n",
    "- **[📟 Aplicação Web](https://github.com/GabrielGSD/Conecta_Cafe_React)**"
   ]
  },
  {
   "cell_type": "markdown",
   "metadata": {},
   "source": [
    "<h3> Autores </h3><br>\n",
    "\n",
    "<div style=\"display: flex; justify-content: space-between;\"> \n",
    "\n",
    "<a href=\"https://github.com/Brendhon\" style=\"text-align: center\">\n",
    "    <img style=\"float:left; border-radius: 15px; display: inline; margin: 10px;\" src=\"https://github.com/brendhon.png\" width=\"120px;\" alt=\"autor\"/>\n",
    "    <br><br><br><br><br><br>\n",
    "    <strong > Brendhon Moreira </strong>\n",
    "</a>\n",
    "<br><br>\n",
    "<a href=\"https://github.com/GabrielGSD\" style=\"text-align: center\">\n",
    "    <img style=\"float:left; border-radius: 15px; display: inline;  margin: 10px;\" src=\"https://github.com/GabrielGSD.png\" width=\"120px;\" alt=\"autor\"/>\n",
    "    <br><br><br><br><br><br>\n",
    "    <strong > Gabriel Daniel </strong>\n",
    "</a>\n",
    "<br><br>\n",
    "<a href=\"https://github.com/MoisesSDelmoro\" style=\"text-align: center\">\n",
    "    <img style=\"float:left; border-radius: 15px; display: inline;  margin: 10px;\" src=\"https://github.com/MoisesSDelmoro.png\" width=\"120px;\" alt=\"autor\"/>\n",
    "    <br><br><br><br><br><br>\n",
    "    <strong >Moises Delmoro</strong>\n",
    "</a></div>"
   ]
  },
  {
   "cell_type": "markdown",
   "metadata": {},
   "source": [
    "---\n",
    "<h2  style=\"text-align: center\"> Desenvolvimento </h2><br>"
   ]
  },
  {
   "cell_type": "code",
   "execution_count": 1,
   "metadata": {
    "scrolled": true
   },
   "outputs": [
    {
     "name": "stdout",
     "output_type": "stream",
     "text": [
      "Requirement already satisfied: pandas in c:\\python39\\lib\\site-packages (1.2.1)\n",
      "Requirement already satisfied: python-dateutil>=2.7.3 in c:\\python39\\lib\\site-packages (from pandas) (2.8.1)\n",
      "Requirement already satisfied: numpy>=1.16.5 in c:\\python39\\lib\\site-packages (from pandas) (1.19.5)\n",
      "Requirement already satisfied: pytz>=2017.3 in c:\\python39\\lib\\site-packages (from pandas) (2020.5)\n",
      "Requirement already satisfied: six>=1.5 in c:\\python39\\lib\\site-packages (from python-dateutil>=2.7.3->pandas) (1.15.0)\n",
      "Requirement already satisfied: numpy in c:\\python39\\lib\\site-packages (1.19.5)\n",
      "Requirement already satisfied: requests in c:\\python39\\lib\\site-packages (2.13.0)\n"
     ]
    }
   ],
   "source": [
    "# Instalando os pacotes necessários\n",
    "import sys\n",
    "!{sys.executable} -m pip install pandas \n",
    "!{sys.executable} -m pip install numpy \n",
    "!{sys.executable} -m pip install requests"
   ]
  },
  {
   "cell_type": "markdown",
   "metadata": {},
   "source": [
    "<h3> Simular os dados </h3><br>\n",
    "<div style=\"text-align: justify\"> \n",
    "    Por ser uma plataforma ainda não colocada em produção, os dados ainda não foram coletados e por conta disso será criado um dataset que simula os dados reais.\n",
    "</div>"
   ]
  },
  {
   "cell_type": "code",
   "execution_count": 2,
   "metadata": {},
   "outputs": [],
   "source": [
    "# Importar as biblotecas\n",
    "import pandas as pd\n",
    "import numpy as np\n",
    "\n",
    "# Permitir que as funções do arquivo de funções auxiliares sejam utilizadas\n",
    "%run auxiliary_functions.ipynb   "
   ]
  },
  {
   "cell_type": "markdown",
   "metadata": {},
   "source": [
    "<h4> Declarando Variaveis </h4>"
   ]
  },
  {
   "cell_type": "code",
   "execution_count": 3,
   "metadata": {},
   "outputs": [],
   "source": [
    "# Variaveis gerais\n",
    "dataset_size = 10000\n",
    "\n",
    "# Variaveis do consumidor\n",
    "consumer_col_names = [\"consumer_id\", \"financial_condition\", \"residence\"]\n",
    "consumer_intervals = [(1,100000000), (10.0,500000.0),(\"cities\", dataset_size)]\n",
    "\n",
    "# Variaveis do produtor\n",
    "producer_col_names = [\"producer_id\", \"quantity_produced\", \"residence\"]\n",
    "producer_intervals = [(1,100000000), (10,500000),(\"cities\", dataset_size)]"
   ]
  },
  {
   "cell_type": "markdown",
   "metadata": {},
   "source": [
    "<h4> Gerando os dataframes falsos </h4>"
   ]
  },
  {
   "cell_type": "code",
   "execution_count": 4,
   "metadata": {},
   "outputs": [
    {
     "data": {
      "text/html": [
       "<div>\n",
       "<style scoped>\n",
       "    .dataframe tbody tr th:only-of-type {\n",
       "        vertical-align: middle;\n",
       "    }\n",
       "\n",
       "    .dataframe tbody tr th {\n",
       "        vertical-align: top;\n",
       "    }\n",
       "\n",
       "    .dataframe thead th {\n",
       "        text-align: right;\n",
       "    }\n",
       "</style>\n",
       "<table border=\"1\" class=\"dataframe\">\n",
       "  <thead>\n",
       "    <tr style=\"text-align: right;\">\n",
       "      <th></th>\n",
       "      <th>producer_id</th>\n",
       "      <th>quantity_produced</th>\n",
       "      <th>residence</th>\n",
       "    </tr>\n",
       "  </thead>\n",
       "  <tbody>\n",
       "    <tr>\n",
       "      <th>0</th>\n",
       "      <td>18962737</td>\n",
       "      <td>31529</td>\n",
       "      <td>Petrolina</td>\n",
       "    </tr>\n",
       "    <tr>\n",
       "      <th>1</th>\n",
       "      <td>63773499</td>\n",
       "      <td>494530</td>\n",
       "      <td>Cabo de Santo Agostinho</td>\n",
       "    </tr>\n",
       "    <tr>\n",
       "      <th>2</th>\n",
       "      <td>81756484</td>\n",
       "      <td>86695</td>\n",
       "      <td>Canoas</td>\n",
       "    </tr>\n",
       "    <tr>\n",
       "      <th>3</th>\n",
       "      <td>74747191</td>\n",
       "      <td>226573</td>\n",
       "      <td>Parnamirim</td>\n",
       "    </tr>\n",
       "    <tr>\n",
       "      <th>4</th>\n",
       "      <td>34222041</td>\n",
       "      <td>145921</td>\n",
       "      <td>Itabiraí</td>\n",
       "    </tr>\n",
       "    <tr>\n",
       "      <th>...</th>\n",
       "      <td>...</td>\n",
       "      <td>...</td>\n",
       "      <td>...</td>\n",
       "    </tr>\n",
       "    <tr>\n",
       "      <th>9995</th>\n",
       "      <td>97135459</td>\n",
       "      <td>231722</td>\n",
       "      <td>Rio Grande</td>\n",
       "    </tr>\n",
       "    <tr>\n",
       "      <th>9996</th>\n",
       "      <td>69656744</td>\n",
       "      <td>471994</td>\n",
       "      <td>Bagé</td>\n",
       "    </tr>\n",
       "    <tr>\n",
       "      <th>9997</th>\n",
       "      <td>2977277</td>\n",
       "      <td>97366</td>\n",
       "      <td>Camaragibe</td>\n",
       "    </tr>\n",
       "    <tr>\n",
       "      <th>9998</th>\n",
       "      <td>19909833</td>\n",
       "      <td>412326</td>\n",
       "      <td>Ji-Paraná</td>\n",
       "    </tr>\n",
       "    <tr>\n",
       "      <th>9999</th>\n",
       "      <td>56202616</td>\n",
       "      <td>300500</td>\n",
       "      <td>Sao Joao de Meriti</td>\n",
       "    </tr>\n",
       "  </tbody>\n",
       "</table>\n",
       "<p>10000 rows × 3 columns</p>\n",
       "</div>"
      ],
      "text/plain": [
       "      producer_id  quantity_produced                residence\n",
       "0        18962737              31529                Petrolina\n",
       "1        63773499             494530  Cabo de Santo Agostinho\n",
       "2        81756484              86695                   Canoas\n",
       "3        74747191             226573               Parnamirim\n",
       "4        34222041             145921                 Itabiraí\n",
       "...           ...                ...                      ...\n",
       "9995     97135459             231722               Rio Grande\n",
       "9996     69656744             471994                     Bagé\n",
       "9997      2977277              97366               Camaragibe\n",
       "9998     19909833             412326                Ji-Paraná\n",
       "9999     56202616             300500       Sao Joao de Meriti\n",
       "\n",
       "[10000 rows x 3 columns]"
      ]
     },
     "execution_count": 4,
     "metadata": {},
     "output_type": "execute_result"
    }
   ],
   "source": [
    "# Dataframe do consumidor\n",
    "consumer = generate_fake_dataframe(\n",
    "  size = dataset_size, \n",
    "  cols = \"ifc\", \n",
    "  col_names = consumer_col_names,\n",
    "  intervals = consumer_intervals)\n",
    "\n",
    "# Dataframe do produtor\n",
    "producer = generate_fake_dataframe(\n",
    "  size = dataset_size, \n",
    "  cols = \"iic\", \n",
    "  col_names = producer_col_names,\n",
    "  intervals = producer_intervals)"
   ]
  },
  {
   "cell_type": "code",
   "execution_count": 5,
   "metadata": {},
   "outputs": [
    {
     "data": {
      "text/html": [
       "<div>\n",
       "<style scoped>\n",
       "    .dataframe tbody tr th:only-of-type {\n",
       "        vertical-align: middle;\n",
       "    }\n",
       "\n",
       "    .dataframe tbody tr th {\n",
       "        vertical-align: top;\n",
       "    }\n",
       "\n",
       "    .dataframe thead th {\n",
       "        text-align: right;\n",
       "    }\n",
       "</style>\n",
       "<table border=\"1\" class=\"dataframe\">\n",
       "  <thead>\n",
       "    <tr style=\"text-align: right;\">\n",
       "      <th></th>\n",
       "      <th>producer_id</th>\n",
       "      <th>quantity_produced</th>\n",
       "      <th>residence</th>\n",
       "    </tr>\n",
       "  </thead>\n",
       "  <tbody>\n",
       "    <tr>\n",
       "      <th>0</th>\n",
       "      <td>18962737</td>\n",
       "      <td>31529</td>\n",
       "      <td>Petrolina</td>\n",
       "    </tr>\n",
       "    <tr>\n",
       "      <th>1</th>\n",
       "      <td>63773499</td>\n",
       "      <td>494530</td>\n",
       "      <td>Cabo de Santo Agostinho</td>\n",
       "    </tr>\n",
       "    <tr>\n",
       "      <th>2</th>\n",
       "      <td>81756484</td>\n",
       "      <td>86695</td>\n",
       "      <td>Canoas</td>\n",
       "    </tr>\n",
       "    <tr>\n",
       "      <th>3</th>\n",
       "      <td>74747191</td>\n",
       "      <td>226573</td>\n",
       "      <td>Parnamirim</td>\n",
       "    </tr>\n",
       "    <tr>\n",
       "      <th>4</th>\n",
       "      <td>34222041</td>\n",
       "      <td>145921</td>\n",
       "      <td>Itabiraí</td>\n",
       "    </tr>\n",
       "  </tbody>\n",
       "</table>\n",
       "</div>"
      ],
      "text/plain": [
       "   producer_id  quantity_produced                residence\n",
       "0     18962737              31529                Petrolina\n",
       "1     63773499             494530  Cabo de Santo Agostinho\n",
       "2     81756484              86695                   Canoas\n",
       "3     74747191             226573               Parnamirim\n",
       "4     34222041             145921                 Itabiraí"
      ]
     },
     "execution_count": 5,
     "metadata": {},
     "output_type": "execute_result"
    }
   ],
   "source": [
    "producer.head()"
   ]
  },
  {
   "cell_type": "code",
   "execution_count": 6,
   "metadata": {},
   "outputs": [
    {
     "data": {
      "text/html": [
       "<div>\n",
       "<style scoped>\n",
       "    .dataframe tbody tr th:only-of-type {\n",
       "        vertical-align: middle;\n",
       "    }\n",
       "\n",
       "    .dataframe tbody tr th {\n",
       "        vertical-align: top;\n",
       "    }\n",
       "\n",
       "    .dataframe thead th {\n",
       "        text-align: right;\n",
       "    }\n",
       "</style>\n",
       "<table border=\"1\" class=\"dataframe\">\n",
       "  <thead>\n",
       "    <tr style=\"text-align: right;\">\n",
       "      <th></th>\n",
       "      <th>consumer_id</th>\n",
       "      <th>financial_condition</th>\n",
       "      <th>residence</th>\n",
       "    </tr>\n",
       "  </thead>\n",
       "  <tbody>\n",
       "    <tr>\n",
       "      <th>0</th>\n",
       "      <td>52058865</td>\n",
       "      <td>24249.51</td>\n",
       "      <td>Juiz de Fora</td>\n",
       "    </tr>\n",
       "    <tr>\n",
       "      <th>1</th>\n",
       "      <td>916326</td>\n",
       "      <td>188788.76</td>\n",
       "      <td>Umuarama</td>\n",
       "    </tr>\n",
       "    <tr>\n",
       "      <th>2</th>\n",
       "      <td>15083599</td>\n",
       "      <td>159402.91</td>\n",
       "      <td>Pindamonhangaba</td>\n",
       "    </tr>\n",
       "    <tr>\n",
       "      <th>3</th>\n",
       "      <td>76909466</td>\n",
       "      <td>130805.09</td>\n",
       "      <td>Araguaina</td>\n",
       "    </tr>\n",
       "    <tr>\n",
       "      <th>4</th>\n",
       "      <td>3570376</td>\n",
       "      <td>149689.50</td>\n",
       "      <td>Caraguatatuba</td>\n",
       "    </tr>\n",
       "  </tbody>\n",
       "</table>\n",
       "</div>"
      ],
      "text/plain": [
       "   consumer_id  financial_condition        residence\n",
       "0     52058865             24249.51     Juiz de Fora\n",
       "1       916326            188788.76         Umuarama\n",
       "2     15083599            159402.91  Pindamonhangaba\n",
       "3     76909466            130805.09        Araguaina\n",
       "4      3570376            149689.50    Caraguatatuba"
      ]
     },
     "execution_count": 6,
     "metadata": {},
     "output_type": "execute_result"
    }
   ],
   "source": [
    "consumer.head()"
   ]
  }
 ],
 "metadata": {
  "kernelspec": {
   "display_name": "Python 3",
   "language": "python",
   "name": "python3"
  },
  "language_info": {
   "codemirror_mode": {
    "name": "ipython",
    "version": 3
   },
   "file_extension": ".py",
   "mimetype": "text/x-python",
   "name": "python",
   "nbconvert_exporter": "python",
   "pygments_lexer": "ipython3",
   "version": "3.9.1"
  }
 },
 "nbformat": 4,
 "nbformat_minor": 4
}
