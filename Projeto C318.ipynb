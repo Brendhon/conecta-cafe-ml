{
 "cells": [
  {
   "cell_type": "markdown",
   "metadata": {},
   "source": [
    "<h2  style=\"text-align: center\"> ML - Conecta café </h2><br>\n",
    "<div style=\"text-align: justify\"> Modelo de <i> machine learning </i> criado para a plataforma <b> Conecta Café </b> com o objetivo de reunir compradores de cafés especiais com cafeicultores que possuam <i>fit</i>.</div>"
   ]
  },
  {
   "cell_type": "markdown",
   "metadata": {},
   "source": [
    "<h3> Contexto </h3><br>\n",
    "<div style=\"text-align: justify\"> \n",
    "    Com o avanço da tecnologia, a conexão entre produtores e consumidores de produtos e serviços de qualquer natureza está se tornando cada vez maior, uma vez que ela permite expandir e democratizar o acesso a deles.\n",
    "    <br>\n",
    "    Pensando nisso, foi criado uma plataforma Web que tem como propósito de conectar facilmente cafeicultores e consumidores de cafés especiais. Nessa aplicação, o produtor pode cadastrar os dados do café produzido permitindo assim, que compradores possam realizar a pesquisa e encontrar o café de sua escolha.\n",
    "</div>"
   ]
  },
  {
   "cell_type": "markdown",
   "metadata": {},
   "source": [
    "<h3> Problemática </h3><br>\n",
    "<div style=\"text-align: justify\"> \n",
    "    Ao acessar o site o consumidor pode buscar pelo café inserindo alguns dados em um filtro. Porém, pense que o comprador não sabe o que procura, é apenas alguém que não possui conhecimento sobre cafés especiais, mas gostaria de experimentar algo novo. Não seria interressante a plataforma entender o comportamento desse cliente e realizar recomendações baseadas em alguns dados? </div>"
   ]
  },
  {
   "cell_type": "markdown",
   "metadata": {},
   "source": [
    "<h3> Proposta </h3><br>\n",
    "<div style=\"text-align: justify\"> \n",
    "A proposta é aproximar compradores com cafeicultores que possuem características semelhantes. Como por exemplo, baseado na condição financeira, onde consumidores de grandes quantidades de café sejam agrupados com produtores que produzam o suficiente para atendê-los. Isso é pensado para reduzir o <i> overflow </i> de dados atual da plataforma e melhorar o sistema de busca da aplicação.</div>"
   ]
  },
  {
   "cell_type": "markdown",
   "metadata": {},
   "source": [
    "---\n",
    "<h2  style=\"text-align: center\"> Informações do projeto </h2><br>"
   ]
  },
  {
   "cell_type": "markdown",
   "metadata": {},
   "source": [
    "<h3> Repositório </h3>\n",
    "\n",
    "- **[🤖 API da plataforma](https://github.com/Brendhon/conecta-cafe-api)**\n",
    "- **[📟 Aplicação Web](https://github.com/GabrielGSD/Conecta_Cafe_React)**"
   ]
  },
  {
   "cell_type": "markdown",
   "metadata": {},
   "source": [
    "<h3> Autores </h3><br>\n",
    "\n",
    "<div style=\"display: flex;\"> \n",
    "\n",
    "<a href=\"https://github.com/Brendhon\" style=\"text-align: center\">\n",
    "    <img style=\"float:left; border-radius: 15px; display: inline; margin: 10px;\" src=\"https://github.com/brendhon.png\" width=\"120px;\" alt=\"autor\"/>\n",
    "    <br><br><br><br><br><br>\n",
    "    <strong > Brendhon Moreira </strong>\n",
    "</a>\n",
    "<br><br>\n",
    "<a href=\"https://github.com/GabrielGSD\" style=\"text-align: center\">\n",
    "    <img style=\"float:left; border-radius: 15px; display: inline;  margin: 10px;\" src=\"https://github.com/GabrielGSD.png\" width=\"120px;\" alt=\"autor\"/>\n",
    "    <br><br><br><br><br><br>\n",
    "    <strong > Gabriel Daniel </strong>\n",
    "</a>\n",
    "<br><br>\n",
    "<a href=\"https://github.com/MoisesSDelmoro\" style=\"text-align: center\">\n",
    "    <img style=\"float:left; border-radius: 15px; display: inline;  margin: 10px;\" src=\"https://github.com/MoisesSDelmoro.png\" width=\"120px;\" alt=\"autor\"/>\n",
    "    <br><br><br><br><br><br>\n",
    "    <strong >Moises Delmoro</strong>\n",
    "</a></div>"
   ]
  },
  {
   "cell_type": "markdown",
   "metadata": {},
   "source": [
    "---\n",
    "<h2  style=\"text-align: center\"> Desenvolvimento </h2><br>"
   ]
  },
  {
   "cell_type": "code",
   "execution_count": 1,
   "metadata": {
    "scrolled": true
   },
   "outputs": [
    {
     "name": "stdout",
     "output_type": "stream",
     "text": [
      "Requirement already satisfied: pandas in c:\\python39\\lib\\site-packages (1.2.1)\n",
      "Requirement already satisfied: python-dateutil>=2.7.3 in c:\\python39\\lib\\site-packages (from pandas) (2.8.1)\n",
      "Requirement already satisfied: numpy>=1.16.5 in c:\\python39\\lib\\site-packages (from pandas) (1.19.5)\n",
      "Requirement already satisfied: pytz>=2017.3 in c:\\python39\\lib\\site-packages (from pandas) (2020.5)\n",
      "Requirement already satisfied: six>=1.5 in c:\\python39\\lib\\site-packages (from python-dateutil>=2.7.3->pandas) (1.15.0)\n",
      "Requirement already satisfied: numpy in c:\\python39\\lib\\site-packages (1.19.5)\n",
      "Requirement already satisfied: requests in c:\\python39\\lib\\site-packages (2.13.0)\n"
     ]
    }
   ],
   "source": [
    "# Instalando os pacotes necessários\n",
    "import sys\n",
    "!{sys.executable} -m pip install pandas \n",
    "!{sys.executable} -m pip install numpy \n",
    "!{sys.executable} -m pip install requests"
   ]
  },
  {
   "cell_type": "markdown",
   "metadata": {},
   "source": [
    "<h3> Simular os dados </h3><br>\n",
    "<div style=\"text-align: justify\"> \n",
    "    Por ser uma plataforma ainda não colocada em produção, os dados ainda não foram coletados e por conta disso será criado um dataset que simula os dados reais.\n",
    "</div>"
   ]
  },
  {
   "cell_type": "code",
   "execution_count": 2,
   "metadata": {},
   "outputs": [],
   "source": [
    "# Importar as biblotecas\n",
    "import pandas as pd\n",
    "import numpy as np\n",
    "\n",
    "# Permitir que as funções do arquivo de funções auxiliares sejam utilizadas\n",
    "%run auxiliary_functions.ipynb   "
   ]
  },
  {
   "cell_type": "markdown",
   "metadata": {},
   "source": [
    "<h4> Declarando Variaveis </h4>"
   ]
  },
  {
   "cell_type": "code",
   "execution_count": 3,
   "metadata": {},
   "outputs": [],
   "source": [
    "# Variaveis gerais\n",
    "dataset_size = 10000\n",
    "dataset_seed = 42\n",
    "\n",
    "# Variaveis do consumidor\n",
    "consumer_col_names = [\"consumer_id\", \"financial_condition\", \"residence\", \"search_special_coffee\"]\n",
    "consumer_intervals = [(1,100000000), (10.0,500000.0),(\"cities\", dataset_size), [True, False]]\n",
    "\n",
    "# Variaveis do produtor\n",
    "producer_col_names = [\"producer_id\", \"quantity_produced\", \"residence\", \"produces_special_coffee\", \"coffee_score\"]\n",
    "producer_intervals = [(1,100000000), (10,500000),(\"cities\", dataset_size), [True, False],  (0,100)]"
   ]
  },
  {
   "cell_type": "markdown",
   "metadata": {},
   "source": [
    "<h4> Gerando os dataframes falsos </h4>"
   ]
  },
  {
   "cell_type": "code",
   "execution_count": 4,
   "metadata": {},
   "outputs": [],
   "source": [
    "# Dataframe do consumidor\n",
    "consumer_df = generate_fake_dataframe(\n",
    "  size = dataset_size, \n",
    "  cols = \"ifcc\", \n",
    "  col_names = consumer_col_names,\n",
    "  intervals = consumer_intervals,\n",
    "  seed=dataset_seed)\n",
    "\n",
    "# Dataframe do produtor\n",
    "producer_df = generate_fake_dataframe(\n",
    "  size = dataset_size, \n",
    "  cols = \"iicci\", \n",
    "  col_names = producer_col_names,\n",
    "  intervals = producer_intervals,\n",
    "  seed=dataset_seed)"
   ]
  },
  {
   "cell_type": "markdown",
   "metadata": {},
   "source": [
    "<strong> Obs </strong>: Durante as pesquisas foi descoberto que para um café ser considerado especial, ele deve possuir uma nota superior a 80 pontos, ou seja, a coluna <strong> 'produces_special_coffee' </strong> não pode ser <i>True</i> se <strong> 'coffee_score' </strong> for menor que 80. <br>\n",
    "Reference: https://bit.ly/3HSkfK4"
   ]
  },
  {
   "cell_type": "code",
   "execution_count": 5,
   "metadata": {},
   "outputs": [],
   "source": [
    "# Removendo os produtores gerados que produzem café especial com nota abaixo de 80\n",
    "producer_df = producer_df.drop(producer_df[(producer_df['produces_special_coffee'] == True) \n",
    "                                           & (producer_df['coffee_score']  < 80)].index)"
   ]
  },
  {
   "cell_type": "code",
   "execution_count": 6,
   "metadata": {},
   "outputs": [
    {
     "data": {
      "text/html": [
       "<div>\n",
       "<style scoped>\n",
       "    .dataframe tbody tr th:only-of-type {\n",
       "        vertical-align: middle;\n",
       "    }\n",
       "\n",
       "    .dataframe tbody tr th {\n",
       "        vertical-align: top;\n",
       "    }\n",
       "\n",
       "    .dataframe thead th {\n",
       "        text-align: right;\n",
       "    }\n",
       "</style>\n",
       "<table border=\"1\" class=\"dataframe\">\n",
       "  <thead>\n",
       "    <tr style=\"text-align: right;\">\n",
       "      <th></th>\n",
       "      <th>producer_id</th>\n",
       "      <th>quantity_produced</th>\n",
       "      <th>residence</th>\n",
       "      <th>produces_special_coffee</th>\n",
       "      <th>coffee_score</th>\n",
       "    </tr>\n",
       "  </thead>\n",
       "  <tbody>\n",
       "    <tr>\n",
       "      <th>1</th>\n",
       "      <td>77395605</td>\n",
       "      <td>106916</td>\n",
       "      <td>Caxias do Sul</td>\n",
       "      <td>False</td>\n",
       "      <td>49</td>\n",
       "    </tr>\n",
       "    <tr>\n",
       "      <th>4</th>\n",
       "      <td>43301524</td>\n",
       "      <td>253866</td>\n",
       "      <td>Cariacica</td>\n",
       "      <td>False</td>\n",
       "      <td>36</td>\n",
       "    </tr>\n",
       "    <tr>\n",
       "      <th>6</th>\n",
       "      <td>8594564</td>\n",
       "      <td>90027</td>\n",
       "      <td>Franca</td>\n",
       "      <td>True</td>\n",
       "      <td>86</td>\n",
       "    </tr>\n",
       "    <tr>\n",
       "      <th>8</th>\n",
       "      <td>20146954</td>\n",
       "      <td>465033</td>\n",
       "      <td>Santa Rita</td>\n",
       "      <td>False</td>\n",
       "      <td>26</td>\n",
       "    </tr>\n",
       "    <tr>\n",
       "      <th>9</th>\n",
       "      <td>9417735</td>\n",
       "      <td>87600</td>\n",
       "      <td>Juàzeiro do Norte</td>\n",
       "      <td>False</td>\n",
       "      <td>93</td>\n",
       "    </tr>\n",
       "  </tbody>\n",
       "</table>\n",
       "</div>"
      ],
      "text/plain": [
       "   producer_id  quantity_produced          residence  produces_special_coffee  \\\n",
       "1     77395605             106916      Caxias do Sul                    False   \n",
       "4     43301524             253866          Cariacica                    False   \n",
       "6      8594564              90027             Franca                     True   \n",
       "8     20146954             465033         Santa Rita                    False   \n",
       "9      9417735              87600  Juàzeiro do Norte                    False   \n",
       "\n",
       "   coffee_score  \n",
       "1            49  \n",
       "4            36  \n",
       "6            86  \n",
       "8            26  \n",
       "9            93  "
      ]
     },
     "execution_count": 6,
     "metadata": {},
     "output_type": "execute_result"
    }
   ],
   "source": [
    "# Mostrando uma amostra dos dados\n",
    "producer_df.head()"
   ]
  },
  {
   "cell_type": "code",
   "execution_count": 7,
   "metadata": {},
   "outputs": [
    {
     "data": {
      "text/html": [
       "<div>\n",
       "<style scoped>\n",
       "    .dataframe tbody tr th:only-of-type {\n",
       "        vertical-align: middle;\n",
       "    }\n",
       "\n",
       "    .dataframe tbody tr th {\n",
       "        vertical-align: top;\n",
       "    }\n",
       "\n",
       "    .dataframe thead th {\n",
       "        text-align: right;\n",
       "    }\n",
       "</style>\n",
       "<table border=\"1\" class=\"dataframe\">\n",
       "  <thead>\n",
       "    <tr style=\"text-align: right;\">\n",
       "      <th></th>\n",
       "      <th>consumer_id</th>\n",
       "      <th>financial_condition</th>\n",
       "      <th>residence</th>\n",
       "      <th>search_special_coffee</th>\n",
       "    </tr>\n",
       "  </thead>\n",
       "  <tbody>\n",
       "    <tr>\n",
       "      <th>0</th>\n",
       "      <td>8925096</td>\n",
       "      <td>106916.94</td>\n",
       "      <td>Sobral</td>\n",
       "      <td>True</td>\n",
       "    </tr>\n",
       "    <tr>\n",
       "      <th>1</th>\n",
       "      <td>77395605</td>\n",
       "      <td>458348.37</td>\n",
       "      <td>Patos de Minas</td>\n",
       "      <td>True</td>\n",
       "    </tr>\n",
       "    <tr>\n",
       "      <th>2</th>\n",
       "      <td>65457152</td>\n",
       "      <td>488290.23</td>\n",
       "      <td>Boa Vista</td>\n",
       "      <td>False</td>\n",
       "    </tr>\n",
       "    <tr>\n",
       "      <th>3</th>\n",
       "      <td>43887844</td>\n",
       "      <td>149830.45</td>\n",
       "      <td>Campos dos Goytacazes</td>\n",
       "      <td>False</td>\n",
       "    </tr>\n",
       "    <tr>\n",
       "      <th>4</th>\n",
       "      <td>43301524</td>\n",
       "      <td>87600.95</td>\n",
       "      <td>Araguaina</td>\n",
       "      <td>True</td>\n",
       "    </tr>\n",
       "  </tbody>\n",
       "</table>\n",
       "</div>"
      ],
      "text/plain": [
       "   consumer_id  financial_condition              residence  \\\n",
       "0      8925096            106916.94                 Sobral   \n",
       "1     77395605            458348.37         Patos de Minas   \n",
       "2     65457152            488290.23              Boa Vista   \n",
       "3     43887844            149830.45  Campos dos Goytacazes   \n",
       "4     43301524             87600.95              Araguaina   \n",
       "\n",
       "   search_special_coffee  \n",
       "0                   True  \n",
       "1                   True  \n",
       "2                  False  \n",
       "3                  False  \n",
       "4                   True  "
      ]
     },
     "execution_count": 7,
     "metadata": {},
     "output_type": "execute_result"
    }
   ],
   "source": [
    "# Mostrando uma amostra dos dados\n",
    "consumer_df.head()"
   ]
  },
  {
   "cell_type": "code",
   "execution_count": null,
   "metadata": {},
   "outputs": [],
   "source": []
  }
 ],
 "metadata": {
  "kernelspec": {
   "display_name": "Python 3",
   "language": "python",
   "name": "python3"
  },
  "language_info": {
   "codemirror_mode": {
    "name": "ipython",
    "version": 3
   },
   "file_extension": ".py",
   "mimetype": "text/x-python",
   "name": "python",
   "nbconvert_exporter": "python",
   "pygments_lexer": "ipython3",
   "version": "3.9.1"
  }
 },
 "nbformat": 4,
 "nbformat_minor": 4
}
